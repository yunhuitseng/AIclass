{
 "cells": [
  {
   "cell_type": "markdown",
   "id": "dc8ee149",
   "metadata": {},
   "source": [
    "##     人工智慧 HW1 資料分析"
   ]
  },
  {
   "cell_type": "markdown",
   "id": "d52c84df",
   "metadata": {},
   "source": [
    "S0854045 資工四 曾筠惠"
   ]
  },
  {
   "cell_type": "markdown",
   "id": "86c8787d",
   "metadata": {},
   "source": [
    "### 1. 前置處理步驟"
   ]
  },
  {
   "cell_type": "code",
   "execution_count": 152,
   "id": "70d6f531",
   "metadata": {},
   "outputs": [],
   "source": [
    "import pandas as pd #載入pandas套件命名引用码:pd\n",
    "import numpy as np\n",
    "import matplotlib.pyplot as plt\n",
    "import seaborn as sns\n",
    "import plotly.express as px"
   ]
  },
  {
   "cell_type": "markdown",
   "id": "6b0380b1",
   "metadata": {},
   "source": [
    "* 讀取檔案"
   ]
  },
  {
   "cell_type": "code",
   "execution_count": 153,
   "id": "1ec5663b",
   "metadata": {},
   "outputs": [
    {
     "data": {
      "text/html": [
       "<div>\n",
       "<style scoped>\n",
       "    .dataframe tbody tr th:only-of-type {\n",
       "        vertical-align: middle;\n",
       "    }\n",
       "\n",
       "    .dataframe tbody tr th {\n",
       "        vertical-align: top;\n",
       "    }\n",
       "\n",
       "    .dataframe thead th {\n",
       "        text-align: right;\n",
       "    }\n",
       "</style>\n",
       "<table border=\"1\" class=\"dataframe\">\n",
       "  <thead>\n",
       "    <tr style=\"text-align: right;\">\n",
       "      <th></th>\n",
       "      <th>Pregnancies</th>\n",
       "      <th>Glucose</th>\n",
       "      <th>BloodPressure</th>\n",
       "      <th>SkinThickness</th>\n",
       "      <th>Insulin</th>\n",
       "      <th>BMI</th>\n",
       "      <th>DiabetesPedigreeFunction</th>\n",
       "      <th>Age</th>\n",
       "      <th>Outcome</th>\n",
       "    </tr>\n",
       "  </thead>\n",
       "  <tbody>\n",
       "    <tr>\n",
       "      <th>0</th>\n",
       "      <td>6</td>\n",
       "      <td>148</td>\n",
       "      <td>72</td>\n",
       "      <td>35</td>\n",
       "      <td>0</td>\n",
       "      <td>33.6</td>\n",
       "      <td>0.627</td>\n",
       "      <td>50</td>\n",
       "      <td>1</td>\n",
       "    </tr>\n",
       "    <tr>\n",
       "      <th>1</th>\n",
       "      <td>1</td>\n",
       "      <td>85</td>\n",
       "      <td>66</td>\n",
       "      <td>29</td>\n",
       "      <td>0</td>\n",
       "      <td>26.6</td>\n",
       "      <td>0.351</td>\n",
       "      <td>31</td>\n",
       "      <td>0</td>\n",
       "    </tr>\n",
       "    <tr>\n",
       "      <th>2</th>\n",
       "      <td>8</td>\n",
       "      <td>183</td>\n",
       "      <td>64</td>\n",
       "      <td>0</td>\n",
       "      <td>0</td>\n",
       "      <td>23.3</td>\n",
       "      <td>0.672</td>\n",
       "      <td>32</td>\n",
       "      <td>1</td>\n",
       "    </tr>\n",
       "    <tr>\n",
       "      <th>3</th>\n",
       "      <td>1</td>\n",
       "      <td>89</td>\n",
       "      <td>66</td>\n",
       "      <td>23</td>\n",
       "      <td>94</td>\n",
       "      <td>28.1</td>\n",
       "      <td>0.167</td>\n",
       "      <td>21</td>\n",
       "      <td>0</td>\n",
       "    </tr>\n",
       "    <tr>\n",
       "      <th>4</th>\n",
       "      <td>0</td>\n",
       "      <td>137</td>\n",
       "      <td>40</td>\n",
       "      <td>35</td>\n",
       "      <td>168</td>\n",
       "      <td>43.1</td>\n",
       "      <td>2.288</td>\n",
       "      <td>33</td>\n",
       "      <td>1</td>\n",
       "    </tr>\n",
       "    <tr>\n",
       "      <th>5</th>\n",
       "      <td>5</td>\n",
       "      <td>116</td>\n",
       "      <td>74</td>\n",
       "      <td>0</td>\n",
       "      <td>0</td>\n",
       "      <td>25.6</td>\n",
       "      <td>0.201</td>\n",
       "      <td>30</td>\n",
       "      <td>0</td>\n",
       "    </tr>\n",
       "    <tr>\n",
       "      <th>6</th>\n",
       "      <td>3</td>\n",
       "      <td>78</td>\n",
       "      <td>50</td>\n",
       "      <td>32</td>\n",
       "      <td>88</td>\n",
       "      <td>31.0</td>\n",
       "      <td>0.248</td>\n",
       "      <td>26</td>\n",
       "      <td>1</td>\n",
       "    </tr>\n",
       "    <tr>\n",
       "      <th>7</th>\n",
       "      <td>10</td>\n",
       "      <td>115</td>\n",
       "      <td>0</td>\n",
       "      <td>0</td>\n",
       "      <td>0</td>\n",
       "      <td>35.3</td>\n",
       "      <td>0.134</td>\n",
       "      <td>29</td>\n",
       "      <td>0</td>\n",
       "    </tr>\n",
       "    <tr>\n",
       "      <th>8</th>\n",
       "      <td>2</td>\n",
       "      <td>197</td>\n",
       "      <td>70</td>\n",
       "      <td>45</td>\n",
       "      <td>543</td>\n",
       "      <td>30.5</td>\n",
       "      <td>0.158</td>\n",
       "      <td>53</td>\n",
       "      <td>1</td>\n",
       "    </tr>\n",
       "    <tr>\n",
       "      <th>9</th>\n",
       "      <td>8</td>\n",
       "      <td>125</td>\n",
       "      <td>96</td>\n",
       "      <td>0</td>\n",
       "      <td>0</td>\n",
       "      <td>0.0</td>\n",
       "      <td>0.232</td>\n",
       "      <td>54</td>\n",
       "      <td>1</td>\n",
       "    </tr>\n",
       "  </tbody>\n",
       "</table>\n",
       "</div>"
      ],
      "text/plain": [
       "   Pregnancies  Glucose  BloodPressure  SkinThickness  Insulin   BMI  \\\n",
       "0            6      148             72             35        0  33.6   \n",
       "1            1       85             66             29        0  26.6   \n",
       "2            8      183             64              0        0  23.3   \n",
       "3            1       89             66             23       94  28.1   \n",
       "4            0      137             40             35      168  43.1   \n",
       "5            5      116             74              0        0  25.6   \n",
       "6            3       78             50             32       88  31.0   \n",
       "7           10      115              0              0        0  35.3   \n",
       "8            2      197             70             45      543  30.5   \n",
       "9            8      125             96              0        0   0.0   \n",
       "\n",
       "   DiabetesPedigreeFunction  Age  Outcome  \n",
       "0                     0.627   50        1  \n",
       "1                     0.351   31        0  \n",
       "2                     0.672   32        1  \n",
       "3                     0.167   21        0  \n",
       "4                     2.288   33        1  \n",
       "5                     0.201   30        0  \n",
       "6                     0.248   26        1  \n",
       "7                     0.134   29        0  \n",
       "8                     0.158   53        1  \n",
       "9                     0.232   54        1  "
      ]
     },
     "execution_count": 153,
     "metadata": {},
     "output_type": "execute_result"
    }
   ],
   "source": [
    "rowdata = pd.read_csv('./diabetes.csv')\n",
    "rowdata.head(10)"
   ]
  },
  {
   "cell_type": "markdown",
   "id": "7e135e3a",
   "metadata": {},
   "source": [
    "* 檢查數據類型"
   ]
  },
  {
   "cell_type": "code",
   "execution_count": 154,
   "id": "6919a099",
   "metadata": {
    "scrolled": true
   },
   "outputs": [
    {
     "data": {
      "text/plain": [
       "Pregnancies                   int64\n",
       "Glucose                       int64\n",
       "BloodPressure                 int64\n",
       "SkinThickness                 int64\n",
       "Insulin                       int64\n",
       "BMI                         float64\n",
       "DiabetesPedigreeFunction    float64\n",
       "Age                           int64\n",
       "Outcome                       int64\n",
       "dtype: object"
      ]
     },
     "execution_count": 154,
     "metadata": {},
     "output_type": "execute_result"
    }
   ],
   "source": [
    "rowdata.dtypes"
   ]
  },
  {
   "cell_type": "markdown",
   "id": "6d911f63",
   "metadata": {},
   "source": [
    "* 查看資料分布筆數"
   ]
  },
  {
   "cell_type": "code",
   "execution_count": 155,
   "id": "61fd50eb",
   "metadata": {},
   "outputs": [
    {
     "name": "stdout",
     "output_type": "stream",
     "text": [
      "   Outcome  cnt\n",
      "0        0  500\n",
      "1        1  268\n"
     ]
    }
   ],
   "source": [
    "# 確認classification分組數量\n",
    "Count = rowdata.groupby([\"Outcome\"], as_index=False)[\"Outcome\"].agg({\"cnt\": \"count\"})\n",
    "print(Count)\n"
   ]
  },
  {
   "cell_type": "markdown",
   "id": "eb121551",
   "metadata": {},
   "source": [
    "可知無雜訊資料"
   ]
  },
  {
   "cell_type": "markdown",
   "id": "72514a6a",
   "metadata": {},
   "source": [
    "* 檢查數值特徵分佈"
   ]
  },
  {
   "cell_type": "code",
   "execution_count": 156,
   "id": "444fd327",
   "metadata": {},
   "outputs": [
    {
     "data": {
      "text/plain": [
       "['Pregnancies',\n",
       " 'Glucose',\n",
       " 'BloodPressure',\n",
       " 'SkinThickness',\n",
       " 'Insulin',\n",
       " 'BMI',\n",
       " 'DiabetesPedigreeFunction',\n",
       " 'Age',\n",
       " 'Outcome']"
      ]
     },
     "execution_count": 156,
     "metadata": {},
     "output_type": "execute_result"
    }
   ],
   "source": [
    "#紀錄資料型態不是object的數量\n",
    "num_cols = [col for col in rowdata.columns if rowdata[col].dtype != 'object']\n",
    "num_cols"
   ]
  },
  {
   "cell_type": "markdown",
   "id": "6de4f009",
   "metadata": {},
   "source": [
    "沒有object型態資料(數字字串混和)，因此不須轉換"
   ]
  },
  {
   "cell_type": "code",
   "execution_count": 157,
   "id": "57f2a15b",
   "metadata": {
    "scrolled": true
   },
   "outputs": [
    {
     "data": {
      "image/png": "[encoded data removed]",
      "text/plain": [
       "<Figure size 2000x1000 with 9 Axes>"
      ]
     },
     "metadata": {},
     "output_type": "display_data"
    }
   ],
   "source": [
    "\n",
    "plt.figure(figsize =(20,10))\n",
    "plot_number = 1\n",
    "for column in num_cols:\n",
    "    if plot_number <= 14:\n",
    "        ax = plt.subplot(3, 5, plot_number)\n",
    "        sns.histplot(rowdata[column]) #版本關系使用histplot\n",
    "        plt.xlabel(column)\n",
    "        \n",
    "    plot_number += 1\n",
    "    \n",
    "plt.tight_layout()\n",
    "plt.show()"
   ]
  },
  {
   "cell_type": "code",
   "execution_count": 158,
   "id": "91bf96ee",
   "metadata": {},
   "outputs": [
    {
     "data": {
      "text/plain": [
       "Pregnancies                 0\n",
       "Glucose                     0\n",
       "BloodPressure               0\n",
       "SkinThickness               0\n",
       "Insulin                     0\n",
       "BMI                         0\n",
       "DiabetesPedigreeFunction    0\n",
       "Age                         0\n",
       "Outcome                     0\n",
       "dtype: int64"
      ]
     },
     "execution_count": 158,
     "metadata": {},
     "output_type": "execute_result"
    }
   ],
   "source": [
    "#檢查缺失職數量\n",
    "rowdata.isnull().sum(axis=0)"
   ]
  },
  {
   "cell_type": "markdown",
   "id": "e067044f",
   "metadata": {},
   "source": [
    "* 進行描述性統計"
   ]
  },
  {
   "cell_type": "code",
   "execution_count": 159,
   "id": "277c4bee",
   "metadata": {},
   "outputs": [],
   "source": [
    "#定義畫圖的function\n",
    "def violin(col):\n",
    "    fig = px.violin(rowdata, y=col, x=\"Outcome\", color=\"Outcome\", box=True, template = 'plotly_dark')\n",
    "    return fig.show()\n",
    "                    \n",
    "def kde(col):\n",
    "    grid = sns.FacetGrid(rowdata, hue=\"Outcome\", height = 6, aspect=2)\n",
    "    grid.map(sns.kdeplot,col)\n",
    "    grid.add_legend()\n",
    "                    \n",
    "def scatter(col1, col2):\n",
    "    fig = px.scatter(rowdata, x=col1, y=col2, color=\"Outcome\", template = 'plotly_dark')\n",
    "    return fig.show()"
   ]
  },
  {
   "cell_type": "markdown",
   "id": "a65877c1",
   "metadata": {},
   "source": [
    "繪製提琴圖 觀察'年齡'與'是否有糖尿病'的關係\n",
    "\n",
    "可知年齡在25-45之間患有糖尿病的人多於沒有糖尿病"
   ]
  },
  {
   "cell_type": "code",
   "execution_count": 183,
   "id": "c6df1d04",
   "metadata": {},
   "outputs": [
    {
     "data": {
      "application/vnd.plotly.v1+json": {
       "config": {
        "plotlyServerURL": "https://plot.ly"
       },
       "data": [
        {
         "alignmentgroup": "True",
         "box": {
          "visible": true
         },
         "hovertemplate": "Outcome=%{x}<br>Age=%{y}<extra></extra>",
         "legendgroup": "1",
         "marker": {
          "color": "#636efa"
         },
         "name": "1",
         "offsetgroup": "1",
         "orientation": "v",
         "scalegroup": "True",
         "showlegend": true,
         "type": "violin",
         "x": [
          1,
          1,
          1,
          1,
          1,
          1,
          1,
          1,
          1,
          1,
          1,
          1,
          1,
          1,
          1,
          1,
          1,
          1,
          1,
          1,
          1,
          1,
          1,
          1,
          1,
          1,
          1,
          1,
          1,
          1,
          1,
          1,
          1,
          1,
          1,
          1,
          1,
          1,
          1,
          1,
          1,
          1,
          1,
          1,
          1,
          1,
          1,
          1,
          1,
          1,
          1,
          1,
          1,
          1,
          1,
          1,
          1,
          1,
          1,
          1,
          1,
          1,
          1,
          1,
          1,
          1,
          1,
          1,
          1,
          1,
          1,
          1,
          1,
          1,
          1,
          1,
          1,
          1,
          1,
          1,
          1,
          1,
          1,
          1,
          1,
          1,
          1,
          1,
          1,
          1,
          1,
          1,
          1,
          1,
          1,
          1,
          1,
          1,
          1,
          1,
          1,
          1,
          1,
          1,
          1,
          1,
          1,
          1,
          1,
          1,
          1,
          1,
          1,
          1,
          1,
          1,
          1,
          1,
          1,
          1,
          1,
          1,
          1,
          1,
          1,
          1,
          1,
          1,
          1,
          1,
          1,
          1,
          1,
          1,
          1,
          1,
          1,
          1,
          1,
          1,
          1,
          1,
          1,
          1,
          1,
          1,
          1,
          1,
          1,
          1,
          1,
          1,
          1,
          1,
          1,
          1,
          1,
          1,
          1,
          1,
          1,
          1,
          1,
          1,
          1,
          1,
          1,
          1,
          1,
          1,
          1,
          1,
          1,
          1,
          1,
          1,
          1,
          1,
          1,
          1,
          1,
          1,
          1,
          1,
          1,
          1,
          1,
          1,
          1,
          1,
          1,
          1,
          1,
          1,
          1,
          1,
          1,
          1,
          1,
          1,
          1,
          1,
          1,
          1,
          1,
          1,
          1,
          1,
          1,
          1,
          1,
          1,
          1,
          1,
          1,
          1,
          1,
          1,
          1,
          1,
          1,
          1,
          1,
          1,
          1,
          1,
          1,
          1,
          1,
          1,
          1,
          1,
          1,
          1,
          1,
          1,
          1,
          1,
          1,
          1,
          1,
          1,
          1,
          1,
          1,
          1,
          1,
          1,
          1
         ],
         "x0": " ",
         "xaxis": "x",
         "y": [
          50,
          32,
          33,
          26,
          53,
          34,
          59,
          51,
          31,
          31,
          32,
          41,
          29,
          51,
          41,
          43,
          28,
          46,
          27,
          56,
          54,
          25,
          31,
          58,
          41,
          39,
          42,
          38,
          28,
          42,
          37,
          43,
          60,
          31,
          33,
          24,
          24,
          46,
          39,
          61,
          38,
          25,
          23,
          26,
          40,
          62,
          33,
          33,
          30,
          42,
          42,
          43,
          36,
          47,
          32,
          41,
          36,
          29,
          36,
          26,
          37,
          41,
          60,
          33,
          31,
          25,
          36,
          29,
          23,
          26,
          29,
          57,
          52,
          41,
          24,
          36,
          38,
          25,
          32,
          41,
          21,
          66,
          24,
          22,
          46,
          26,
          51,
          23,
          32,
          22,
          33,
          49,
          44,
          21,
          51,
          35,
          38,
          29,
          28,
          47,
          52,
          29,
          25,
          31,
          24,
          29,
          46,
          25,
          28,
          47,
          25,
          30,
          27,
          43,
          29,
          59,
          25,
          36,
          43,
          30,
          23,
          44,
          33,
          41,
          49,
          28,
          29,
          29,
          67,
          29,
          45,
          25,
          58,
          32,
          35,
          45,
          58,
          27,
          31,
          22,
          25,
          31,
          35,
          41,
          46,
          39,
          28,
          21,
          22,
          37,
          28,
          36,
          31,
          38,
          43,
          41,
          33,
          30,
          25,
          22,
          23,
          38,
          51,
          29,
          35,
          24,
          45,
          55,
          35,
          46,
          28,
          53,
          45,
          32,
          43,
          27,
          56,
          37,
          53,
          54,
          28,
          33,
          21,
          62,
          21,
          52,
          41,
          52,
          45,
          44,
          22,
          38,
          54,
          22,
          36,
          40,
          50,
          50,
          34,
          38,
          32,
          50,
          33,
          22,
          42,
          25,
          27,
          22,
          43,
          40,
          40,
          70,
          40,
          31,
          53,
          25,
          26,
          27,
          46,
          44,
          43,
          43,
          31,
          49,
          52,
          45,
          23,
          38,
          34,
          31,
          52,
          42,
          34,
          22,
          24,
          42,
          48,
          45,
          27,
          36,
          50,
          22,
          26,
          45,
          37,
          52,
          66,
          43,
          47
         ],
         "y0": " ",
         "yaxis": "y"
        },
        {
         "alignmentgroup": "True",
         "box": {
          "visible": true
         },
         "hovertemplate": "Outcome=%{x}<br>Age=%{y}<extra></extra>",
         "legendgroup": "0",
         "marker": {
          "color": "#EF553B"
         },
         "name": "0",
         "offsetgroup": "0",
         "orientation": "v",
         "scalegroup": "True",
         "showlegend": true,
         "type": "violin",
         "x": [
          0,
          0,
          0,
          0,
          0,
          0,
          0,
          0,
          0,
          0,
          0,
          0,
          0,
          0,
          0,
          0,
          0,
          0,
          0,
          0,
          0,
          0,
          0,
          0,
          0,
          0,
          0,
          0,
          0,
          0,
          0,
          0,
          0,
          0,
          0,
          0,
          0,
          0,
          0,
          0,
          0,
          0,
          0,
          0,
          0,
          0,
          0,
          0,
          0,
          0,
          0,
          0,
          0,
          0,
          0,
          0,
          0,
          0,
          0,
          0,
          0,
          0,
          0,
          0,
          0,
          0,
          0,
          0,
          0,
          0,
          0,
          0,
          0,
          0,
          0,
          0,
          0,
          0,
          0,
          0,
          0,
          0,
          0,
          0,
          0,
          0,
          0,
          0,
          0,
          0,
          0,
          0,
          0,
          0,
          0,
          0,
          0,
          0,
          0,
          0,
          0,
          0,
          0,
          0,
          0,
          0,
          0,
          0,
          0,
          0,
          0,
          0,
          0,
          0,
          0,
          0,
          0,
          0,
          0,
          0,
          0,
          0,
          0,
          0,
          0,
          0,
          0,
          0,
          0,
          0,
          0,
          0,
          0,
          0,
          0,
          0,
          0,
          0,
          0,
          0,
          0,
          0,
          0,
          0,
          0,
          0,
          0,
          0,
          0,
          0,
          0,
          0,
          0,
          0,
          0,
          0,
          0,
          0,
          0,
          0,
          0,
          0,
          0,
          0,
          0,
          0,
          0,
          0,
          0,
          0,
          0,
          0,
          0,
          0,
          0,
          0,
          0,
          0,
          0,
          0,
          0,
          0,
          0,
          0,
          0,
          0,
          0,
          0,
          0,
          0,
          0,
          0,
          0,
          0,
          0,
          0,
          0,
          0,
          0,
          0,
          0,
          0,
          0,
          0,
          0,
          0,
          0,
          0,
          0,
          0,
          0,
          0,
          0,
          0,
          0,
          0,
          0,
          0,
          0,
          0,
          0,
          0,
          0,
          0,
          0,
          0,
          0,
          0,
          0,
          0,
          0,
          0,
          0,
          0,
          0,
          0,
          0,
          0,
          0,
          0,
          0,
          0,
          0,
          0,
          0,
          0,
          0,
          0,
          0,
          0,
          0,
          0,
          0,
          0,
          0,
          0,
          0,
          0,
          0,
          0,
          0,
          0,
          0,
          0,
          0,
          0,
          0,
          0,
          0,
          0,
          0,
          0,
          0,
          0,
          0,
          0,
          0,
          0,
          0,
          0,
          0,
          0,
          0,
          0,
          0,
          0,
          0,
          0,
          0,
          0,
          0,
          0,
          0,
          0,
          0,
          0,
          0,
          0,
          0,
          0,
          0,
          0,
          0,
          0,
          0,
          0,
          0,
          0,
          0,
          0,
          0,
          0,
          0,
          0,
          0,
          0,
          0,
          0,
          0,
          0,
          0,
          0,
          0,
          0,
          0,
          0,
          0,
          0,
          0,
          0,
          0,
          0,
          0,
          0,
          0,
          0,
          0,
          0,
          0,
          0,
          0,
          0,
          0,
          0,
          0,
          0,
          0,
          0,
          0,
          0,
          0,
          0,
          0,
          0,
          0,
          0,
          0,
          0,
          0,
          0,
          0,
          0,
          0,
          0,
          0,
          0,
          0,
          0,
          0,
          0,
          0,
          0,
          0,
          0,
          0,
          0,
          0,
          0,
          0,
          0,
          0,
          0,
          0,
          0,
          0,
          0,
          0,
          0,
          0,
          0,
          0,
          0,
          0,
          0,
          0,
          0,
          0,
          0,
          0,
          0,
          0,
          0,
          0,
          0,
          0,
          0,
          0,
          0,
          0,
          0,
          0,
          0,
          0,
          0,
          0,
          0,
          0,
          0,
          0,
          0,
          0,
          0,
          0,
          0,
          0,
          0,
          0,
          0,
          0,
          0,
          0,
          0,
          0,
          0,
          0,
          0,
          0,
          0,
          0,
          0,
          0,
          0,
          0,
          0,
          0,
          0,
          0,
          0,
          0,
          0,
          0,
          0,
          0,
          0,
          0,
          0,
          0,
          0,
          0,
          0,
          0,
          0,
          0,
          0,
          0,
          0,
          0,
          0,
          0,
          0,
          0,
          0,
          0,
          0,
          0
         ],
         "x0": " ",
         "xaxis": "x",
         "y": [
          31,
          21,
          30,
          30,
          57,
          33,
          27,
          50,
          22,
          57,
          38,
          60,
          22,
          28,
          45,
          33,
          35,
          26,
          37,
          48,
          40,
          29,
          22,
          22,
          26,
          30,
          42,
          21,
          31,
          44,
          22,
          36,
          24,
          32,
          54,
          25,
          27,
          26,
          23,
          22,
          41,
          27,
          24,
          22,
          36,
          22,
          27,
          45,
          26,
          24,
          21,
          34,
          42,
          21,
          40,
          24,
          22,
          23,
          22,
          21,
          24,
          27,
          21,
          27,
          37,
          25,
          23,
          25,
          25,
          22,
          21,
          24,
          23,
          69,
          30,
          23,
          39,
          26,
          31,
          21,
          22,
          29,
          28,
          55,
          38,
          22,
          23,
          41,
          34,
          65,
          22,
          24,
          37,
          23,
          21,
          23,
          22,
          36,
          45,
          27,
          21,
          22,
          34,
          29,
          29,
          23,
          33,
          42,
          47,
          32,
          23,
          27,
          40,
          21,
          40,
          42,
          21,
          21,
          28,
          32,
          27,
          55,
          27,
          21,
          25,
          24,
          60,
          32,
          61,
          26,
          22,
          26,
          31,
          24,
          22,
          29,
          23,
          27,
          21,
          22,
          29,
          41,
          23,
          34,
          23,
          42,
          27,
          24,
          25,
          30,
          25,
          24,
          34,
          24,
          63,
          43,
          24,
          21,
          21,
          40,
          21,
          52,
          25,
          23,
          57,
          22,
          39,
          37,
          51,
          34,
          26,
          33,
          21,
          65,
          28,
          24,
          58,
          35,
          37,
          29,
          21,
          41,
          22,
          25,
          26,
          30,
          28,
          31,
          21,
          24,
          37,
          37,
          46,
          25,
          44,
          22,
          26,
          22,
          36,
          33,
          57,
          49,
          22,
          26,
          29,
          30,
          46,
          24,
          21,
          48,
          63,
          65,
          30,
          30,
          21,
          22,
          21,
          25,
          28,
          22,
          22,
          35,
          24,
          22,
          21,
          25,
          25,
          24,
          28,
          42,
          21,
          37,
          25,
          39,
          25,
          55,
          38,
          26,
          25,
          28,
          25,
          22,
          21,
          22,
          27,
          26,
          21,
          21,
          21,
          26,
          38,
          22,
          29,
          36,
          41,
          28,
          21,
          31,
          22,
          24,
          28,
          26,
          26,
          23,
          25,
          24,
          62,
          24,
          81,
          48,
          26,
          39,
          37,
          34,
          21,
          22,
          25,
          27,
          28,
          22,
          22,
          50,
          24,
          59,
          31,
          39,
          63,
          29,
          28,
          23,
          21,
          58,
          28,
          67,
          24,
          42,
          33,
          66,
          30,
          25,
          39,
          21,
          28,
          41,
          40,
          38,
          21,
          21,
          64,
          21,
          58,
          22,
          24,
          51,
          41,
          60,
          25,
          26,
          24,
          21,
          21,
          24,
          22,
          31,
          22,
          24,
          29,
          24,
          46,
          67,
          23,
          25,
          29,
          28,
          50,
          37,
          21,
          25,
          66,
          23,
          28,
          37,
          30,
          58,
          42,
          35,
          24,
          32,
          27,
          22,
          21,
          46,
          37,
          39,
          21,
          22,
          22,
          23,
          25,
          35,
          36,
          27,
          62,
          42,
          22,
          29,
          24,
          25,
          34,
          46,
          21,
          26,
          24,
          30,
          21,
          25,
          27,
          23,
          24,
          26,
          27,
          30,
          23,
          28,
          28,
          45,
          21,
          21,
          29,
          21,
          21,
          45,
          21,
          24,
          23,
          22,
          31,
          48,
          23,
          28,
          27,
          24,
          27,
          30,
          23,
          23,
          27,
          28,
          27,
          22,
          22,
          41,
          51,
          54,
          24,
          43,
          45,
          49,
          21,
          47,
          22,
          68,
          25,
          23,
          22,
          22,
          25,
          22,
          29,
          23,
          34,
          23,
          25,
          28,
          26,
          26,
          27,
          28,
          22,
          24,
          40,
          21,
          32,
          56,
          24,
          34,
          21,
          42,
          45,
          38,
          25,
          22,
          22,
          22,
          22,
          53,
          28,
          21,
          42,
          21,
          26,
          22,
          39,
          46,
          32,
          28,
          25,
          39,
          26,
          22,
          33,
          63,
          27,
          30,
          23
         ],
         "y0": " ",
         "yaxis": "y"
        }
       ],
       "layout": {
        "legend": {
         "title": {
          "text": "Outcome"
         },
         "tracegroupgap": 0
        },
        "margin": {
         "t": 60
        },
        "template": {
         "data": {
          "bar": [
           {
            "error_x": {
             "color": "#f2f5fa"
            },
            "error_y": {
             "color": "#f2f5fa"
            },
            "marker": {
             "line": {
              "color": "rgb(17,17,17)",
              "width": 0.5
             },
             "pattern": {
              "fillmode": "overlay",
              "size": 10,
              "solidity": 0.2
             }
            },
            "type": "bar"
           }
          ],
          "barpolar": [
           {
            "marker": {
             "line": {
              "color": "rgb(17,17,17)",
              "width": 0.5
             },
             "pattern": {
              "fillmode": "overlay",
              "size": 10,
              "solidity": 0.2
             }
            },
            "type": "barpolar"
           }
          ],
          "carpet": [
           {
            "aaxis": {
             "endlinecolor": "#A2B1C6",
             "gridcolor": "#506784",
             "linecolor": "#506784",
             "minorgridcolor": "#506784",
             "startlinecolor": "#A2B1C6"
            },
            "baxis": {
             "endlinecolor": "#A2B1C6",
             "gridcolor": "#506784",
             "linecolor": "#506784",
             "minorgridcolor": "#506784",
             "startlinecolor": "#A2B1C6"
            },
            "type": "carpet"
           }
          ],
          "choropleth": [
           {
            "colorbar": {
             "outlinewidth": 0,
             "ticks": ""
            },
            "type": "choropleth"
           }
          ],
          "contour": [
           {
            "colorbar": {
             "outlinewidth": 0,
             "ticks": ""
            },
            "colorscale": [
             [
              0,
              "#0d0887"
             ],
             [
              0.1111111111111111,
              "#46039f"
             ],
             [
              0.2222222222222222,
              "#7201a8"
             ],
             [
              0.3333333333333333,
              "#9c179e"
             ],
             [
              0.4444444444444444,
              "#bd3786"
             ],
             [
              0.5555555555555556,
              "#d8576b"
             ],
             [
              0.6666666666666666,
              "#ed7953"
             ],
             [
              0.7777777777777778,
              "#fb9f3a"
             ],
             [
              0.8888888888888888,
              "#fdca26"
             ],
             [
              1,
              "#f0f921"
             ]
            ],
            "type": "contour"
           }
          ],
          "contourcarpet": [
           {
            "colorbar": {
             "outlinewidth": 0,
             "ticks": ""
            },
            "type": "contourcarpet"
           }
          ],
          "heatmap": [
           {
            "colorbar": {
             "outlinewidth": 0,
             "ticks": ""
            },
            "colorscale": [
             [
              0,
              "#0d0887"
             ],
             [
              0.1111111111111111,
              "#46039f"
             ],
             [
              0.2222222222222222,
              "#7201a8"
             ],
             [
              0.3333333333333333,
              "#9c179e"
             ],
             [
              0.4444444444444444,
              "#bd3786"
             ],
             [
              0.5555555555555556,
              "#d8576b"
             ],
             [
              0.6666666666666666,
              "#ed7953"
             ],
             [
              0.7777777777777778,
              "#fb9f3a"
             ],
             [
              0.8888888888888888,
              "#fdca26"
             ],
             [
              1,
              "#f0f921"
             ]
            ],
            "type": "heatmap"
           }
          ],
          "heatmapgl": [
           {
            "colorbar": {
             "outlinewidth": 0,
             "ticks": ""
            },
            "colorscale": [
             [
              0,
              "#0d0887"
             ],
             [
              0.1111111111111111,
              "#46039f"
             ],
             [
              0.2222222222222222,
              "#7201a8"
             ],
             [
              0.3333333333333333,
              "#9c179e"
             ],
             [
              0.4444444444444444,
              "#bd3786"
             ],
             [
              0.5555555555555556,
              "#d8576b"
             ],
             [
              0.6666666666666666,
              "#ed7953"
             ],
             [
              0.7777777777777778,
              "#fb9f3a"
             ],
             [
              0.8888888888888888,
              "#fdca26"
             ],
             [
              1,
              "#f0f921"
             ]
            ],
            "type": "heatmapgl"
           }
          ],
          "histogram": [
           {
            "marker": {
             "pattern": {
              "fillmode": "overlay",
              "size": 10,
              "solidity": 0.2
             }
            },
            "type": "histogram"
           }
          ],
          "histogram2d": [
           {
            "colorbar": {
             "outlinewidth": 0,
             "ticks": ""
            },
            "colorscale": [
             [
              0,
              "#0d0887"
             ],
             [
              0.1111111111111111,
              "#46039f"
             ],
             [
              0.2222222222222222,
              "#7201a8"
             ],
             [
              0.3333333333333333,
              "#9c179e"
             ],
             [
              0.4444444444444444,
              "#bd3786"
             ],
             [
              0.5555555555555556,
              "#d8576b"
             ],
             [
              0.6666666666666666,
              "#ed7953"
             ],
             [
              0.7777777777777778,
              "#fb9f3a"
             ],
             [
              0.8888888888888888,
              "#fdca26"
             ],
             [
              1,
              "#f0f921"
             ]
            ],
            "type": "histogram2d"
           }
          ],
          "histogram2dcontour": [
           {
            "colorbar": {
             "outlinewidth": 0,
             "ticks": ""
            },
            "colorscale": [
             [
              0,
              "#0d0887"
             ],
             [
              0.1111111111111111,
              "#46039f"
             ],
             [
              0.2222222222222222,
              "#7201a8"
             ],
             [
              0.3333333333333333,
              "#9c179e"
             ],
             [
              0.4444444444444444,
              "#bd3786"
             ],
             [
              0.5555555555555556,
              "#d8576b"
             ],
             [
              0.6666666666666666,
              "#ed7953"
             ],
             [
              0.7777777777777778,
              "#fb9f3a"
             ],
             [
              0.8888888888888888,
              "#fdca26"
             ],
             [
              1,
              "#f0f921"
             ]
            ],
            "type": "histogram2dcontour"
           }
          ],
          "mesh3d": [
           {
            "colorbar": {
             "outlinewidth": 0,
             "ticks": ""
            },
            "type": "mesh3d"
           }
          ],
          "parcoords": [
           {
            "line": {
             "colorbar": {
              "outlinewidth": 0,
              "ticks": ""
             }
            },
            "type": "parcoords"
           }
          ],
          "pie": [
           {
            "automargin": true,
            "type": "pie"
           }
          ],
          "scatter": [
           {
            "marker": {
             "line": {
              "color": "#283442"
             }
            },
            "type": "scatter"
           }
          ],
          "scatter3d": [
           {
            "line": {
             "colorbar": {
              "outlinewidth": 0,
              "ticks": ""
             }
            },
            "marker": {
             "colorbar": {
              "outlinewidth": 0,
              "ticks": ""
             }
            },
            "type": "scatter3d"
           }
          ],
          "scattercarpet": [
           {
            "marker": {
             "colorbar": {
              "outlinewidth": 0,
              "ticks": ""
             }
            },
            "type": "scattercarpet"
           }
          ],
          "scattergeo": [
           {
            "marker": {
             "colorbar": {
              "outlinewidth": 0,
              "ticks": ""
             }
            },
            "type": "scattergeo"
           }
          ],
          "scattergl": [
           {
            "marker": {
             "line": {
              "color": "#283442"
             }
            },
            "type": "scattergl"
           }
          ],
          "scattermapbox": [
           {
            "marker": {
             "colorbar": {
              "outlinewidth": 0,
              "ticks": ""
             }
            },
            "type": "scattermapbox"
           }
          ],
          "scatterpolar": [
           {
            "marker": {
             "colorbar": {
              "outlinewidth": 0,
              "ticks": ""
             }
            },
            "type": "scatterpolar"
           }
          ],
          "scatterpolargl": [
           {
            "marker": {
             "colorbar": {
              "outlinewidth": 0,
              "ticks": ""
             }
            },
            "type": "scatterpolargl"
           }
          ],
          "scatterternary": [
           {
            "marker": {
             "colorbar": {
              "outlinewidth": 0,
              "ticks": ""
             }
            },
            "type": "scatterternary"
           }
          ],
          "surface": [
           {
            "colorbar": {
             "outlinewidth": 0,
             "ticks": ""
            },
            "colorscale": [
             [
              0,
              "#0d0887"
             ],
             [
              0.1111111111111111,
              "#46039f"
             ],
             [
              0.2222222222222222,
              "#7201a8"
             ],
             [
              0.3333333333333333,
              "#9c179e"
             ],
             [
              0.4444444444444444,
              "#bd3786"
             ],
             [
              0.5555555555555556,
              "#d8576b"
             ],
             [
              0.6666666666666666,
              "#ed7953"
             ],
             [
              0.7777777777777778,
              "#fb9f3a"
             ],
             [
              0.8888888888888888,
              "#fdca26"
             ],
             [
              1,
              "#f0f921"
             ]
            ],
            "type": "surface"
           }
          ],
          "table": [
           {
            "cells": {
             "fill": {
              "color": "#506784"
             },
             "line": {
              "color": "rgb(17,17,17)"
             }
            },
            "header": {
             "fill": {
              "color": "#2a3f5f"
             },
             "line": {
              "color": "rgb(17,17,17)"
             }
            },
            "type": "table"
           }
          ]
         },
         "layout": {
          "annotationdefaults": {
           "arrowcolor": "#f2f5fa",
           "arrowhead": 0,
           "arrowwidth": 1
          },
          "autotypenumbers": "strict",
          "coloraxis": {
           "colorbar": {
            "outlinewidth": 0,
            "ticks": ""
           }
          },
          "colorscale": {
           "diverging": [
            [
             0,
             "#8e0152"
            ],
            [
             0.1,
             "#c51b7d"
            ],
            [
             0.2,
             "#de77ae"
            ],
            [
             0.3,
             "#f1b6da"
            ],
            [
             0.4,
             "#fde0ef"
            ],
            [
             0.5,
             "#f7f7f7"
            ],
            [
             0.6,
             "#e6f5d0"
            ],
            [
             0.7,
             "#b8e186"
            ],
            [
             0.8,
             "#7fbc41"
            ],
            [
             0.9,
             "#4d9221"
            ],
            [
             1,
             "#276419"
            ]
           ],
           "sequential": [
            [
             0,
             "#0d0887"
            ],
            [
             0.1111111111111111,
             "#46039f"
            ],
            [
             0.2222222222222222,
             "#7201a8"
            ],
            [
             0.3333333333333333,
             "#9c179e"
            ],
            [
             0.4444444444444444,
             "#bd3786"
            ],
            [
             0.5555555555555556,
             "#d8576b"
            ],
            [
             0.6666666666666666,
             "#ed7953"
            ],
            [
             0.7777777777777778,
             "#fb9f3a"
            ],
            [
             0.8888888888888888,
             "#fdca26"
            ],
            [
             1,
             "#f0f921"
            ]
           ],
           "sequentialminus": [
            [
             0,
             "#0d0887"
            ],
            [
             0.1111111111111111,
             "#46039f"
            ],
            [
             0.2222222222222222,
             "#7201a8"
            ],
            [
             0.3333333333333333,
             "#9c179e"
            ],
            [
             0.4444444444444444,
             "#bd3786"
            ],
            [
             0.5555555555555556,
             "#d8576b"
            ],
            [
             0.6666666666666666,
             "#ed7953"
            ],
            [
             0.7777777777777778,
             "#fb9f3a"
            ],
            [
             0.8888888888888888,
             "#fdca26"
            ],
            [
             1,
             "#f0f921"
            ]
           ]
          },
          "colorway": [
           "#636efa",
           "#EF553B",
           "#00cc96",
           "#ab63fa",
           "#FFA15A",
           "#19d3f3",
           "#FF6692",
           "#B6E880",
           "#FF97FF",
           "#FECB52"
          ],
          "font": {
           "color": "#f2f5fa"
          },
          "geo": {
           "bgcolor": "rgb(17,17,17)",
           "lakecolor": "rgb(17,17,17)",
           "landcolor": "rgb(17,17,17)",
           "showlakes": true,
           "showland": true,
           "subunitcolor": "#506784"
          },
          "hoverlabel": {
           "align": "left"
          },
          "hovermode": "closest",
          "mapbox": {
           "style": "dark"
          },
          "paper_bgcolor": "rgb(17,17,17)",
          "plot_bgcolor": "rgb(17,17,17)",
          "polar": {
           "angularaxis": {
            "gridcolor": "#506784",
            "linecolor": "#506784",
            "ticks": ""
           },
           "bgcolor": "rgb(17,17,17)",
           "radialaxis": {
            "gridcolor": "#506784",
            "linecolor": "#506784",
            "ticks": ""
           }
          },
          "scene": {
           "xaxis": {
            "backgroundcolor": "rgb(17,17,17)",
            "gridcolor": "#506784",
            "gridwidth": 2,
            "linecolor": "#506784",
            "showbackground": true,
            "ticks": "",
            "zerolinecolor": "#C8D4E3"
           },
           "yaxis": {
            "backgroundcolor": "rgb(17,17,17)",
            "gridcolor": "#506784",
            "gridwidth": 2,
            "linecolor": "#506784",
            "showbackground": true,
            "ticks": "",
            "zerolinecolor": "#C8D4E3"
           },
           "zaxis": {
            "backgroundcolor": "rgb(17,17,17)",
            "gridcolor": "#506784",
            "gridwidth": 2,
            "linecolor": "#506784",
            "showbackground": true,
            "ticks": "",
            "zerolinecolor": "#C8D4E3"
           }
          },
          "shapedefaults": {
           "line": {
            "color": "#f2f5fa"
           }
          },
          "sliderdefaults": {
           "bgcolor": "#C8D4E3",
           "bordercolor": "rgb(17,17,17)",
           "borderwidth": 1,
           "tickwidth": 0
          },
          "ternary": {
           "aaxis": {
            "gridcolor": "#506784",
            "linecolor": "#506784",
            "ticks": ""
           },
           "baxis": {
            "gridcolor": "#506784",
            "linecolor": "#506784",
            "ticks": ""
           },
           "bgcolor": "rgb(17,17,17)",
           "caxis": {
            "gridcolor": "#506784",
            "linecolor": "#506784",
            "ticks": ""
           }
          },
          "title": {
           "x": 0.05
          },
          "updatemenudefaults": {
           "bgcolor": "#506784",
           "borderwidth": 0
          },
          "xaxis": {
           "automargin": true,
           "gridcolor": "#283442",
           "linecolor": "#506784",
           "ticks": "",
           "title": {
            "standoff": 15
           },
           "zerolinecolor": "#283442",
           "zerolinewidth": 2
          },
          "yaxis": {
           "automargin": true,
           "gridcolor": "#283442",
           "linecolor": "#506784",
           "ticks": "",
           "title": {
            "standoff": 15
           },
           "zerolinecolor": "#283442",
           "zerolinewidth": 2
          }
         }
        },
        "violinmode": "overlay",
        "xaxis": {
         "anchor": "y",
         "categoryarray": [
          1,
          0
         ],
         "categoryorder": "array",
         "domain": [
          0,
          1
         ],
         "title": {
          "text": "Outcome"
         }
        },
        "yaxis": {
         "anchor": "x",
         "domain": [
          0,
          1
         ],
         "title": {
          "text": "Age"
         }
        }
       }
      },
      "text/html": [
       "<div>                            <div id=\"8c645323-68ff-4670-a6d5-3c3fbb2b3558\" class=\"plotly-graph-div\" style=\"height:525px; width:100%;\"></div>            <script type=\"text/javascript\">                require([\"plotly\"], function(Plotly) {                    window.PLOTLYENV=window.PLOTLYENV || {};                                    if (document.getElementById(\"8c645323-68ff-4670-a6d5-3c3fbb2b3558\")) {                    Plotly.newPlot(                        \"8c645323-68ff-4670-a6d5-3c3fbb2b3558\",                        [{\"alignmentgroup\":\"True\",\"box\":{\"visible\":true},\"hovertemplate\":\"Outcome=%{x}<br>Age=%{y}<extra></extra>\",\"legendgroup\":\"1\",\"marker\":{\"color\":\"#636efa\"},\"name\":\"1\",\"offsetgroup\":\"1\",\"orientation\":\"v\",\"scalegroup\":\"True\",\"showlegend\":true,\"x\":[1,1,1,1,1,1,1,1,1,1,1,1,1,1,1,1,1,1,1,1,1,1,1,1,1,1,1,1,1,1,1,1,1,1,1,1,1,1,1,1,1,1,1,1,1,1,1,1,1,1,1,1,1,1,1,1,1,1,1,1,1,1,1,1,1,1,1,1,1,1,1,1,1,1,1,1,1,1,1,1,1,1,1,1,1,1,1,1,1,1,1,1,1,1,1,1,1,1,1,1,1,1,1,1,1,1,1,1,1,1,1,1,1,1,1,1,1,1,1,1,1,1,1,1,1,1,1,1,1,1,1,1,1,1,1,1,1,1,1,1,1,1,1,1,1,1,1,1,1,1,1,1,1,1,1,1,1,1,1,1,1,1,1,1,1,1,1,1,1,1,1,1,1,1,1,1,1,1,1,1,1,1,1,1,1,1,1,1,1,1,1,1,1,1,1,1,1,1,1,1,1,1,1,1,1,1,1,1,1,1,1,1,1,1,1,1,1,1,1,1,1,1,1,1,1,1,1,1,1,1,1,1,1,1,1,1,1,1,1,1,1,1,1,1,1,1,1,1,1],\"x0\":\" \",\"xaxis\":\"x\",\"y\":[50,32,33,26,53,34,59,51,31,31,32,41,29,51,41,43,28,46,27,56,54,25,31,58,41,39,42,38,28,42,37,43,60,31,33,24,24,46,39,61,38,25,23,26,40,62,33,33,30,42,42,43,36,47,32,41,36,29,36,26,37,41,60,33,31,25,36,29,23,26,29,57,52,41,24,36,38,25,32,41,21,66,24,22,46,26,51,23,32,22,33,49,44,21,51,35,38,29,28,47,52,29,25,31,24,29,46,25,28,47,25,30,27,43,29,59,25,36,43,30,23,44,33,41,49,28,29,29,67,29,45,25,58,32,35,45,58,27,31,22,25,31,35,41,46,39,28,21,22,37,28,36,31,38,43,41,33,30,25,22,23,38,51,29,35,24,45,55,35,46,28,53,45,32,43,27,56,37,53,54,28,33,21,62,21,52,41,52,45,44,22,38,54,22,36,40,50,50,34,38,32,50,33,22,42,25,27,22,43,40,40,70,40,31,53,25,26,27,46,44,43,43,31,49,52,45,23,38,34,31,52,42,34,22,24,42,48,45,27,36,50,22,26,45,37,52,66,43,47],\"y0\":\" \",\"yaxis\":\"y\",\"type\":\"violin\"},{\"alignmentgroup\":\"True\",\"box\":{\"visible\":true},\"hovertemplate\":\"Outcome=%{x}<br>Age=%{y}<extra></extra>\",\"legendgroup\":\"0\",\"marker\":{\"color\":\"#EF553B\"},\"name\":\"0\",\"offsetgroup\":\"0\",\"orientation\":\"v\",\"scalegroup\":\"True\",\"showlegend\":true,\"x\":[0,0,0,0,0,0,0,0,0,0,0,0,0,0,0,0,0,0,0,0,0,0,0,0,0,0,0,0,0,0,0,0,0,0,0,0,0,0,0,0,0,0,0,0,0,0,0,0,0,0,0,0,0,0,0,0,0,0,0,0,0,0,0,0,0,0,0,0,0,0,0,0,0,0,0,0,0,0,0,0,0,0,0,0,0,0,0,0,0,0,0,0,0,0,0,0,0,0,0,0,0,0,0,0,0,0,0,0,0,0,0,0,0,0,0,0,0,0,0,0,0,0,0,0,0,0,0,0,0,0,0,0,0,0,0,0,0,0,0,0,0,0,0,0,0,0,0,0,0,0,0,0,0,0,0,0,0,0,0,0,0,0,0,0,0,0,0,0,0,0,0,0,0,0,0,0,0,0,0,0,0,0,0,0,0,0,0,0,0,0,0,0,0,0,0,0,0,0,0,0,0,0,0,0,0,0,0,0,0,0,0,0,0,0,0,0,0,0,0,0,0,0,0,0,0,0,0,0,0,0,0,0,0,0,0,0,0,0,0,0,0,0,0,0,0,0,0,0,0,0,0,0,0,0,0,0,0,0,0,0,0,0,0,0,0,0,0,0,0,0,0,0,0,0,0,0,0,0,0,0,0,0,0,0,0,0,0,0,0,0,0,0,0,0,0,0,0,0,0,0,0,0,0,0,0,0,0,0,0,0,0,0,0,0,0,0,0,0,0,0,0,0,0,0,0,0,0,0,0,0,0,0,0,0,0,0,0,0,0,0,0,0,0,0,0,0,0,0,0,0,0,0,0,0,0,0,0,0,0,0,0,0,0,0,0,0,0,0,0,0,0,0,0,0,0,0,0,0,0,0,0,0,0,0,0,0,0,0,0,0,0,0,0,0,0,0,0,0,0,0,0,0,0,0,0,0,0,0,0,0,0,0,0,0,0,0,0,0,0,0,0,0,0,0,0,0,0,0,0,0,0,0,0,0,0,0,0,0,0,0,0,0,0,0,0,0,0,0,0,0,0,0,0,0,0,0,0,0,0,0,0,0,0,0,0,0,0,0,0,0,0,0,0,0,0],\"x0\":\" \",\"xaxis\":\"x\",\"y\":[31,21,30,30,57,33,27,50,22,57,38,60,22,28,45,33,35,26,37,48,40,29,22,22,26,30,42,21,31,44,22,36,24,32,54,25,27,26,23,22,41,27,24,22,36,22,27,45,26,24,21,34,42,21,40,24,22,23,22,21,24,27,21,27,37,25,23,25,25,22,21,24,23,69,30,23,39,26,31,21,22,29,28,55,38,22,23,41,34,65,22,24,37,23,21,23,22,36,45,27,21,22,34,29,29,23,33,42,47,32,23,27,40,21,40,42,21,21,28,32,27,55,27,21,25,24,60,32,61,26,22,26,31,24,22,29,23,27,21,22,29,41,23,34,23,42,27,24,25,30,25,24,34,24,63,43,24,21,21,40,21,52,25,23,57,22,39,37,51,34,26,33,21,65,28,24,58,35,37,29,21,41,22,25,26,30,28,31,21,24,37,37,46,25,44,22,26,22,36,33,57,49,22,26,29,30,46,24,21,48,63,65,30,30,21,22,21,25,28,22,22,35,24,22,21,25,25,24,28,42,21,37,25,39,25,55,38,26,25,28,25,22,21,22,27,26,21,21,21,26,38,22,29,36,41,28,21,31,22,24,28,26,26,23,25,24,62,24,81,48,26,39,37,34,21,22,25,27,28,22,22,50,24,59,31,39,63,29,28,23,21,58,28,67,24,42,33,66,30,25,39,21,28,41,40,38,21,21,64,21,58,22,24,51,41,60,25,26,24,21,21,24,22,31,22,24,29,24,46,67,23,25,29,28,50,37,21,25,66,23,28,37,30,58,42,35,24,32,27,22,21,46,37,39,21,22,22,23,25,35,36,27,62,42,22,29,24,25,34,46,21,26,24,30,21,25,27,23,24,26,27,30,23,28,28,45,21,21,29,21,21,45,21,24,23,22,31,48,23,28,27,24,27,30,23,23,27,28,27,22,22,41,51,54,24,43,45,49,21,47,22,68,25,23,22,22,25,22,29,23,34,23,25,28,26,26,27,28,22,24,40,21,32,56,24,34,21,42,45,38,25,22,22,22,22,53,28,21,42,21,26,22,39,46,32,28,25,39,26,22,33,63,27,30,23],\"y0\":\" \",\"yaxis\":\"y\",\"type\":\"violin\"}],                        {\"template\":{\"data\":{\"barpolar\":[{\"marker\":{\"line\":{\"color\":\"rgb(17,17,17)\",\"width\":0.5},\"pattern\":{\"fillmode\":\"overlay\",\"size\":10,\"solidity\":0.2}},\"type\":\"barpolar\"}],\"bar\":[{\"error_x\":{\"color\":\"#f2f5fa\"},\"error_y\":{\"color\":\"#f2f5fa\"},\"marker\":{\"line\":{\"color\":\"rgb(17,17,17)\",\"width\":0.5},\"pattern\":{\"fillmode\":\"overlay\",\"size\":10,\"solidity\":0.2}},\"type\":\"bar\"}],\"carpet\":[{\"aaxis\":{\"endlinecolor\":\"#A2B1C6\",\"gridcolor\":\"#506784\",\"linecolor\":\"#506784\",\"minorgridcolor\":\"#506784\",\"startlinecolor\":\"#A2B1C6\"},\"baxis\":{\"endlinecolor\":\"#A2B1C6\",\"gridcolor\":\"#506784\",\"linecolor\":\"#506784\",\"minorgridcolor\":\"#506784\",\"startlinecolor\":\"#A2B1C6\"},\"type\":\"carpet\"}],\"choropleth\":[{\"colorbar\":{\"outlinewidth\":0,\"ticks\":\"\"},\"type\":\"choropleth\"}],\"contourcarpet\":[{\"colorbar\":{\"outlinewidth\":0,\"ticks\":\"\"},\"type\":\"contourcarpet\"}],\"contour\":[{\"colorbar\":{\"outlinewidth\":0,\"ticks\":\"\"},\"colorscale\":[[0.0,\"#0d0887\"],[0.1111111111111111,\"#46039f\"],[0.2222222222222222,\"#7201a8\"],[0.3333333333333333,\"#9c179e\"],[0.4444444444444444,\"#bd3786\"],[0.5555555555555556,\"#d8576b\"],[0.6666666666666666,\"#ed7953\"],[0.7777777777777778,\"#fb9f3a\"],[0.8888888888888888,\"#fdca26\"],[1.0,\"#f0f921\"]],\"type\":\"contour\"}],\"heatmapgl\":[{\"colorbar\":{\"outlinewidth\":0,\"ticks\":\"\"},\"colorscale\":[[0.0,\"#0d0887\"],[0.1111111111111111,\"#46039f\"],[0.2222222222222222,\"#7201a8\"],[0.3333333333333333,\"#9c179e\"],[0.4444444444444444,\"#bd3786\"],[0.5555555555555556,\"#d8576b\"],[0.6666666666666666,\"#ed7953\"],[0.7777777777777778,\"#fb9f3a\"],[0.8888888888888888,\"#fdca26\"],[1.0,\"#f0f921\"]],\"type\":\"heatmapgl\"}],\"heatmap\":[{\"colorbar\":{\"outlinewidth\":0,\"ticks\":\"\"},\"colorscale\":[[0.0,\"#0d0887\"],[0.1111111111111111,\"#46039f\"],[0.2222222222222222,\"#7201a8\"],[0.3333333333333333,\"#9c179e\"],[0.4444444444444444,\"#bd3786\"],[0.5555555555555556,\"#d8576b\"],[0.6666666666666666,\"#ed7953\"],[0.7777777777777778,\"#fb9f3a\"],[0.8888888888888888,\"#fdca26\"],[1.0,\"#f0f921\"]],\"type\":\"heatmap\"}],\"histogram2dcontour\":[{\"colorbar\":{\"outlinewidth\":0,\"ticks\":\"\"},\"colorscale\":[[0.0,\"#0d0887\"],[0.1111111111111111,\"#46039f\"],[0.2222222222222222,\"#7201a8\"],[0.3333333333333333,\"#9c179e\"],[0.4444444444444444,\"#bd3786\"],[0.5555555555555556,\"#d8576b\"],[0.6666666666666666,\"#ed7953\"],[0.7777777777777778,\"#fb9f3a\"],[0.8888888888888888,\"#fdca26\"],[1.0,\"#f0f921\"]],\"type\":\"histogram2dcontour\"}],\"histogram2d\":[{\"colorbar\":{\"outlinewidth\":0,\"ticks\":\"\"},\"colorscale\":[[0.0,\"#0d0887\"],[0.1111111111111111,\"#46039f\"],[0.2222222222222222,\"#7201a8\"],[0.3333333333333333,\"#9c179e\"],[0.4444444444444444,\"#bd3786\"],[0.5555555555555556,\"#d8576b\"],[0.6666666666666666,\"#ed7953\"],[0.7777777777777778,\"#fb9f3a\"],[0.8888888888888888,\"#fdca26\"],[1.0,\"#f0f921\"]],\"type\":\"histogram2d\"}],\"histogram\":[{\"marker\":{\"pattern\":{\"fillmode\":\"overlay\",\"size\":10,\"solidity\":0.2}},\"type\":\"histogram\"}],\"mesh3d\":[{\"colorbar\":{\"outlinewidth\":0,\"ticks\":\"\"},\"type\":\"mesh3d\"}],\"parcoords\":[{\"line\":{\"colorbar\":{\"outlinewidth\":0,\"ticks\":\"\"}},\"type\":\"parcoords\"}],\"pie\":[{\"automargin\":true,\"type\":\"pie\"}],\"scatter3d\":[{\"line\":{\"colorbar\":{\"outlinewidth\":0,\"ticks\":\"\"}},\"marker\":{\"colorbar\":{\"outlinewidth\":0,\"ticks\":\"\"}},\"type\":\"scatter3d\"}],\"scattercarpet\":[{\"marker\":{\"colorbar\":{\"outlinewidth\":0,\"ticks\":\"\"}},\"type\":\"scattercarpet\"}],\"scattergeo\":[{\"marker\":{\"colorbar\":{\"outlinewidth\":0,\"ticks\":\"\"}},\"type\":\"scattergeo\"}],\"scattergl\":[{\"marker\":{\"line\":{\"color\":\"#283442\"}},\"type\":\"scattergl\"}],\"scattermapbox\":[{\"marker\":{\"colorbar\":{\"outlinewidth\":0,\"ticks\":\"\"}},\"type\":\"scattermapbox\"}],\"scatterpolargl\":[{\"marker\":{\"colorbar\":{\"outlinewidth\":0,\"ticks\":\"\"}},\"type\":\"scatterpolargl\"}],\"scatterpolar\":[{\"marker\":{\"colorbar\":{\"outlinewidth\":0,\"ticks\":\"\"}},\"type\":\"scatterpolar\"}],\"scatter\":[{\"marker\":{\"line\":{\"color\":\"#283442\"}},\"type\":\"scatter\"}],\"scatterternary\":[{\"marker\":{\"colorbar\":{\"outlinewidth\":0,\"ticks\":\"\"}},\"type\":\"scatterternary\"}],\"surface\":[{\"colorbar\":{\"outlinewidth\":0,\"ticks\":\"\"},\"colorscale\":[[0.0,\"#0d0887\"],[0.1111111111111111,\"#46039f\"],[0.2222222222222222,\"#7201a8\"],[0.3333333333333333,\"#9c179e\"],[0.4444444444444444,\"#bd3786\"],[0.5555555555555556,\"#d8576b\"],[0.6666666666666666,\"#ed7953\"],[0.7777777777777778,\"#fb9f3a\"],[0.8888888888888888,\"#fdca26\"],[1.0,\"#f0f921\"]],\"type\":\"surface\"}],\"table\":[{\"cells\":{\"fill\":{\"color\":\"#506784\"},\"line\":{\"color\":\"rgb(17,17,17)\"}},\"header\":{\"fill\":{\"color\":\"#2a3f5f\"},\"line\":{\"color\":\"rgb(17,17,17)\"}},\"type\":\"table\"}]},\"layout\":{\"annotationdefaults\":{\"arrowcolor\":\"#f2f5fa\",\"arrowhead\":0,\"arrowwidth\":1},\"autotypenumbers\":\"strict\",\"coloraxis\":{\"colorbar\":{\"outlinewidth\":0,\"ticks\":\"\"}},\"colorscale\":{\"diverging\":[[0,\"#8e0152\"],[0.1,\"#c51b7d\"],[0.2,\"#de77ae\"],[0.3,\"#f1b6da\"],[0.4,\"#fde0ef\"],[0.5,\"#f7f7f7\"],[0.6,\"#e6f5d0\"],[0.7,\"#b8e186\"],[0.8,\"#7fbc41\"],[0.9,\"#4d9221\"],[1,\"#276419\"]],\"sequential\":[[0.0,\"#0d0887\"],[0.1111111111111111,\"#46039f\"],[0.2222222222222222,\"#7201a8\"],[0.3333333333333333,\"#9c179e\"],[0.4444444444444444,\"#bd3786\"],[0.5555555555555556,\"#d8576b\"],[0.6666666666666666,\"#ed7953\"],[0.7777777777777778,\"#fb9f3a\"],[0.8888888888888888,\"#fdca26\"],[1.0,\"#f0f921\"]],\"sequentialminus\":[[0.0,\"#0d0887\"],[0.1111111111111111,\"#46039f\"],[0.2222222222222222,\"#7201a8\"],[0.3333333333333333,\"#9c179e\"],[0.4444444444444444,\"#bd3786\"],[0.5555555555555556,\"#d8576b\"],[0.6666666666666666,\"#ed7953\"],[0.7777777777777778,\"#fb9f3a\"],[0.8888888888888888,\"#fdca26\"],[1.0,\"#f0f921\"]]},\"colorway\":[\"#636efa\",\"#EF553B\",\"#00cc96\",\"#ab63fa\",\"#FFA15A\",\"#19d3f3\",\"#FF6692\",\"#B6E880\",\"#FF97FF\",\"#FECB52\"],\"font\":{\"color\":\"#f2f5fa\"},\"geo\":{\"bgcolor\":\"rgb(17,17,17)\",\"lakecolor\":\"rgb(17,17,17)\",\"landcolor\":\"rgb(17,17,17)\",\"showlakes\":true,\"showland\":true,\"subunitcolor\":\"#506784\"},\"hoverlabel\":{\"align\":\"left\"},\"hovermode\":\"closest\",\"mapbox\":{\"style\":\"dark\"},\"paper_bgcolor\":\"rgb(17,17,17)\",\"plot_bgcolor\":\"rgb(17,17,17)\",\"polar\":{\"angularaxis\":{\"gridcolor\":\"#506784\",\"linecolor\":\"#506784\",\"ticks\":\"\"},\"bgcolor\":\"rgb(17,17,17)\",\"radialaxis\":{\"gridcolor\":\"#506784\",\"linecolor\":\"#506784\",\"ticks\":\"\"}},\"scene\":{\"xaxis\":{\"backgroundcolor\":\"rgb(17,17,17)\",\"gridcolor\":\"#506784\",\"gridwidth\":2,\"linecolor\":\"#506784\",\"showbackground\":true,\"ticks\":\"\",\"zerolinecolor\":\"#C8D4E3\"},\"yaxis\":{\"backgroundcolor\":\"rgb(17,17,17)\",\"gridcolor\":\"#506784\",\"gridwidth\":2,\"linecolor\":\"#506784\",\"showbackground\":true,\"ticks\":\"\",\"zerolinecolor\":\"#C8D4E3\"},\"zaxis\":{\"backgroundcolor\":\"rgb(17,17,17)\",\"gridcolor\":\"#506784\",\"gridwidth\":2,\"linecolor\":\"#506784\",\"showbackground\":true,\"ticks\":\"\",\"zerolinecolor\":\"#C8D4E3\"}},\"shapedefaults\":{\"line\":{\"color\":\"#f2f5fa\"}},\"sliderdefaults\":{\"bgcolor\":\"#C8D4E3\",\"bordercolor\":\"rgb(17,17,17)\",\"borderwidth\":1,\"tickwidth\":0},\"ternary\":{\"aaxis\":{\"gridcolor\":\"#506784\",\"linecolor\":\"#506784\",\"ticks\":\"\"},\"baxis\":{\"gridcolor\":\"#506784\",\"linecolor\":\"#506784\",\"ticks\":\"\"},\"bgcolor\":\"rgb(17,17,17)\",\"caxis\":{\"gridcolor\":\"#506784\",\"linecolor\":\"#506784\",\"ticks\":\"\"}},\"title\":{\"x\":0.05},\"updatemenudefaults\":{\"bgcolor\":\"#506784\",\"borderwidth\":0},\"xaxis\":{\"automargin\":true,\"gridcolor\":\"#283442\",\"linecolor\":\"#506784\",\"ticks\":\"\",\"title\":{\"standoff\":15},\"zerolinecolor\":\"#283442\",\"zerolinewidth\":2},\"yaxis\":{\"automargin\":true,\"gridcolor\":\"#283442\",\"linecolor\":\"#506784\",\"ticks\":\"\",\"title\":{\"standoff\":15},\"zerolinecolor\":\"#283442\",\"zerolinewidth\":2}}},\"xaxis\":{\"anchor\":\"y\",\"domain\":[0.0,1.0],\"title\":{\"text\":\"Outcome\"},\"categoryorder\":\"array\",\"categoryarray\":[1,0]},\"yaxis\":{\"anchor\":\"x\",\"domain\":[0.0,1.0],\"title\":{\"text\":\"Age\"}},\"legend\":{\"title\":{\"text\":\"Outcome\"},\"tracegroupgap\":0},\"margin\":{\"t\":60},\"violinmode\":\"overlay\"},                        {\"responsive\": true}                    ).then(function(){\n",
       "                            \n",
       "var gd = document.getElementById('8c645323-68ff-4670-a6d5-3c3fbb2b3558');\n",
       "var x = new MutationObserver(function (mutations, observer) {{\n",
       "        var display = window.getComputedStyle(gd).display;\n",
       "        if (!display || display === 'none') {{\n",
       "            console.log([gd, 'removed!']);\n",
       "            Plotly.purge(gd);\n",
       "            observer.disconnect();\n",
       "        }}\n",
       "}});\n",
       "\n",
       "// Listen for the removal of the full notebook cells\n",
       "var notebookContainer = gd.closest('#notebook-container');\n",
       "if (notebookContainer) {{\n",
       "    x.observe(notebookContainer, {childList: true});\n",
       "}}\n",
       "\n",
       "// Listen for the clearing of the current output cell\n",
       "var outputEl = gd.closest('.output');\n",
       "if (outputEl) {{\n",
       "    x.observe(outputEl, {childList: true});\n",
       "}}\n",
       "\n",
       "                        })                };                });            </script>        </div>"
      ]
     },
     "metadata": {},
     "output_type": "display_data"
    }
   ],
   "source": [
    "violin('Age')"
   ]
  },
  {
   "cell_type": "markdown",
   "id": "63ebb365",
   "metadata": {},
   "source": [
    "繪製分布估計圖 觀察'隨機血糖'與'是否有糖尿病的關係'\n",
    "\n",
    "由此估計圖可以發現血糖數值125以上，有糖尿病的人多於沒有\n",
    "可猜測:血糖偏高的人會有糖尿病"
   ]
  },
  {
   "cell_type": "code",
   "execution_count": 184,
   "id": "7ac37be3",
   "metadata": {
    "scrolled": true
   },
   "outputs": [
    {
     "data": {
      "image/png": "[encoded data removed]",
      "text/plain": [
       "<Figure size 1274.36x600 with 1 Axes>"
      ]
     },
     "metadata": {},
     "output_type": "display_data"
    }
   ],
   "source": [
    "kde('Glucose')"
   ]
  },
  {
   "cell_type": "markdown",
   "id": "0c6f2855",
   "metadata": {},
   "source": [
    "繪製散步圖:由此散步圖可以發現血糖偏高的人會有糖尿病\n",
    "\n",
    "其他特徵在分布圖上沒有明顯分布，例如:血壓，可知其並非導致糖尿病的主要原因，或是在此張圖無法看出其特徵分布\n",
    "\n",
    "此外，從散步圖可發現有許多血壓值 = 0的點，但血壓值不可能為0，因此我們需要將這些資料做清整"
   ]
  },
  {
   "cell_type": "code",
   "execution_count": 162,
   "id": "c501334d",
   "metadata": {},
   "outputs": [
    {
     "data": {
      "application/vnd.plotly.v1+json": {
       "config": {
        "plotlyServerURL": "https://plot.ly"
       },
       "data": [
        {
         "hovertemplate": "Glucose=%{x}<br>BloodPressure=%{y}<br>Outcome=%{marker.color}<extra></extra>",
         "legendgroup": "",
         "marker": {
          "color": [
           1,
           0,
           1,
           0,
           1,
           0,
           1,
           0,
           1,
           1,
           0,
           1,
           0,
           1,
           1,
           1,
           1,
           1,
           0,
           1,
           0,
           0,
           1,
           1,
           1,
           1,
           1,
           0,
           0,
           0,
           0,
           1,
           0,
           0,
           0,
           0,
           0,
           1,
           1,
           1,
           0,
           0,
           0,
           1,
           0,
           1,
           0,
           0,
           1,
           0,
           0,
           0,
           0,
           1,
           0,
           0,
           1,
           0,
           0,
           0,
           0,
           1,
           0,
           0,
           1,
           0,
           1,
           0,
           0,
           0,
           1,
           0,
           1,
           0,
           0,
           0,
           0,
           0,
           1,
           0,
           0,
           0,
           0,
           0,
           1,
           0,
           0,
           0,
           1,
           0,
           0,
           0,
           0,
           1,
           0,
           0,
           0,
           0,
           0,
           1,
           1,
           0,
           0,
           0,
           0,
           0,
           0,
           0,
           0,
           1,
           1,
           1,
           0,
           0,
           1,
           1,
           1,
           0,
           0,
           0,
           1,
           0,
           0,
           0,
           1,
           1,
           0,
           0,
           1,
           1,
           1,
           1,
           1,
           0,
           0,
           0,
           0,
           0,
           0,
           0,
           0,
           0,
           0,
           1,
           0,
           0,
           0,
           0,
           0,
           0,
           0,
           0,
           1,
           0,
           1,
           1,
           0,
           0,
           0,
           1,
           0,
           0,
           0,
           0,
           1,
           1,
           0,
           0,
           0,
           0,
           1,
           1,
           0,
           0,
           0,
           1,
           0,
           1,
           0,
           1,
           0,
           0,
           0,
           0,
           0,
           1,
           1,
           1,
           1,
           1,
           0,
           0,
           1,
           1,
           0,
           1,
           0,
           1,
           1,
           1,
           0,
           0,
           0,
           0,
           0,
           0,
           1,
           1,
           0,
           1,
           0,
           0,
           0,
           1,
           1,
           1,
           1,
           0,
           1,
           1,
           1,
           1,
           0,
           0,
           0,
           0,
           0,
           1,
           0,
           0,
           1,
           1,
           0,
           0,
           0,
           1,
           1,
           1,
           1,
           0,
           0,
           0,
           1,
           1,
           0,
           1,
           0,
           0,
           0,
           0,
           0,
           0,
           0,
           0,
           1,
           1,
           0,
           0,
           0,
           1,
           0,
           1,
           0,
           0,
           1,
           0,
           1,
           0,
           0,
           1,
           1,
           0,
           0,
           0,
           0,
           0,
           1,
           0,
           0,
           0,
           1,
           0,
           0,
           1,
           1,
           0,
           0,
           1,
           0,
           0,
           0,
           1,
           1,
           1,
           0,
           0,
           1,
           0,
           1,
           0,
           1,
           1,
           0,
           1,
           0,
           0,
           1,
           0,
           1,
           1,
           0,
           0,
           1,
           0,
           1,
           0,
           0,
           1,
           0,
           1,
           0,
           1,
           1,
           1,
           0,
           0,
           1,
           0,
           1,
           0,
           0,
           0,
           1,
           0,
           0,
           0,
           0,
           1,
           1,
           1,
           0,
           0,
           0,
           0,
           0,
           0,
           0,
           0,
           0,
           1,
           0,
           0,
           0,
           0,
           0,
           1,
           1,
           1,
           0,
           1,
           1,
           0,
           0,
           1,
           0,
           0,
           1,
           0,
           0,
           1,
           1,
           0,
           0,
           0,
           0,
           1,
           0,
           0,
           1,
           0,
           0,
           0,
           0,
           0,
           0,
           0,
           1,
           1,
           1,
           0,
           0,
           1,
           0,
           0,
           1,
           0,
           0,
           1,
           0,
           1,
           1,
           0,
           1,
           0,
           1,
           0,
           1,
           0,
           1,
           1,
           0,
           0,
           0,
           0,
           1,
           1,
           0,
           1,
           0,
           1,
           0,
           0,
           0,
           0,
           1,
           1,
           0,
           1,
           0,
           1,
           0,
           0,
           0,
           0,
           0,
           1,
           0,
           0,
           0,
           0,
           1,
           0,
           0,
           1,
           1,
           1,
           0,
           0,
           1,
           0,
           0,
           1,
           0,
           0,
           0,
           1,
           0,
           0,
           1,
           0,
           0,
           0,
           0,
           0,
           0,
           0,
           0,
           0,
           1,
           0,
           0,
           0,
           0,
           0,
           0,
           0,
           1,
           0,
           0,
           0,
           1,
           0,
           0,
           0,
           1,
           1,
           0,
           0,
           0,
           0,
           0,
           0,
           0,
           1,
           0,
           0,
           0,
           0,
           1,
           0,
           0,
           0,
           1,
           0,
           0,
           0,
           1,
           0,
           0,
           0,
           1,
           0,
           0,
           0,
           0,
           1,
           1,
           0,
           0,
           0,
           0,
           0,
           0,
           1,
           0,
           0,
           0,
           0,
           0,
           0,
           0,
           0,
           0,
           0,
           0,
           1,
           0,
           0,
           0,
           1,
           1,
           1,
           1,
           0,
           0,
           1,
           1,
           0,
           0,
           0,
           0,
           0,
           0,
           0,
           0,
           0,
           0,
           0,
           0,
           0,
           1,
           1,
           0,
           0,
           0,
           0,
           0,
           0,
           0,
           1,
           0,
           0,
           0,
           0,
           0,
           0,
           0,
           1,
           0,
           1,
           1,
           0,
           0,
           0,
           1,
           0,
           1,
           0,
           1,
           0,
           1,
           0,
           1,
           0,
           0,
           1,
           0,
           0,
           1,
           0,
           0,
           0,
           0,
           1,
           1,
           0,
           1,
           0,
           0,
           0,
           0,
           1,
           1,
           0,
           1,
           0,
           0,
           0,
           1,
           1,
           0,
           0,
           0,
           0,
           0,
           0,
           0,
           0,
           0,
           0,
           1,
           0,
           0,
           0,
           0,
           1,
           0,
           0,
           1,
           0,
           0,
           0,
           1,
           0,
           0,
           0,
           1,
           1,
           1,
           0,
           0,
           0,
           0,
           0,
           0,
           1,
           0,
           0,
           0,
           1,
           0,
           1,
           1,
           1,
           1,
           0,
           1,
           1,
           0,
           0,
           0,
           0,
           0,
           0,
           0,
           1,
           1,
           0,
           1,
           0,
           0,
           1,
           0,
           1,
           0,
           0,
           0,
           0,
           0,
           1,
           0,
           1,
           0,
           1,
           0,
           1,
           1,
           0,
           0,
           0,
           0,
           1,
           1,
           0,
           0,
           0,
           1,
           0,
           1,
           1,
           0,
           0,
           1,
           0,
           0,
           1,
           1,
           0,
           0,
           1,
           0,
           0,
           1,
           0,
           0,
           0,
           0,
           0,
           0,
           0,
           1,
           1,
           1,
           0,
           0,
           0,
           0,
           0,
           0,
           1,
           1,
           0,
           0,
           1,
           0,
           0,
           1,
           0,
           1,
           1,
           1,
           0,
           0,
           1,
           1,
           1,
           0,
           1,
           0,
           1,
           0,
           1,
           0,
           0,
           0,
           0,
           1,
           0
          ],
          "coloraxis": "coloraxis",
          "symbol": "circle"
         },
         "mode": "markers",
         "name": "",
         "orientation": "v",
         "showlegend": false,
         "type": "scatter",
         "x": [
          148,
          85,
          183,
          89,
          137,
          116,
          78,
          115,
          197,
          125,
          110,
          168,
          139,
          189,
          166,
          100,
          118,
          107,
          103,
          115,
          126,
          99,
          196,
          119,
          143,
          125,
          147,
          97,
          145,
          117,
          109,
          158,
          88,
          92,
          122,
          103,
          138,
          102,
          90,
          111,
          180,
          133,
          106,
          171,
          159,
          180,
          146,
          71,
          103,
          105,
          103,
          101,
          88,
          176,
          150,
          73,
          187,
          100,
          146,
          105,
          84,
          133,
          44,
          141,
          114,
          99,
          109,
          109,
          95,
          146,
          100,
          139,
          126,
          129,
          79,
          0,
          62,
          95,
          131,
          112,
          113,
          74,
          83,
          101,
          137,
          110,
          106,
          100,
          136,
          107,
          80,
          123,
          81,
          134,
          142,
          144,
          92,
          71,
          93,
          122,
          163,
          151,
          125,
          81,
          85,
          126,
          96,
          144,
          83,
          95,
          171,
          155,
          89,
          76,
          160,
          146,
          124,
          78,
          97,
          99,
          162,
          111,
          107,
          132,
          113,
          88,
          120,
          118,
          117,
          105,
          173,
          122,
          170,
          84,
          96,
          125,
          100,
          93,
          129,
          105,
          128,
          106,
          108,
          108,
          154,
          102,
          57,
          106,
          147,
          90,
          136,
          114,
          156,
          153,
          188,
          152,
          99,
          109,
          88,
          163,
          151,
          102,
          114,
          100,
          131,
          104,
          148,
          120,
          110,
          111,
          102,
          134,
          87,
          79,
          75,
          179,
          85,
          129,
          143,
          130,
          87,
          119,
          0,
          73,
          141,
          194,
          181,
          128,
          109,
          139,
          111,
          123,
          159,
          135,
          85,
          158,
          105,
          107,
          109,
          148,
          113,
          138,
          108,
          99,
          103,
          111,
          196,
          162,
          96,
          184,
          81,
          147,
          179,
          140,
          112,
          151,
          109,
          125,
          85,
          112,
          177,
          158,
          119,
          142,
          100,
          87,
          101,
          162,
          197,
          117,
          142,
          134,
          79,
          122,
          74,
          171,
          181,
          179,
          164,
          104,
          91,
          91,
          139,
          119,
          146,
          184,
          122,
          165,
          124,
          111,
          106,
          129,
          90,
          86,
          92,
          113,
          111,
          114,
          193,
          155,
          191,
          141,
          95,
          142,
          123,
          96,
          138,
          128,
          102,
          146,
          101,
          108,
          122,
          71,
          106,
          100,
          106,
          104,
          114,
          108,
          146,
          129,
          133,
          161,
          108,
          136,
          155,
          119,
          96,
          108,
          78,
          107,
          128,
          128,
          161,
          151,
          146,
          126,
          100,
          112,
          167,
          144,
          77,
          115,
          150,
          120,
          161,
          137,
          128,
          124,
          80,
          106,
          155,
          113,
          109,
          112,
          99,
          182,
          115,
          194,
          129,
          112,
          124,
          152,
          112,
          157,
          122,
          179,
          102,
          105,
          118,
          87,
          180,
          106,
          95,
          165,
          117,
          115,
          152,
          178,
          130,
          95,
          0,
          122,
          95,
          126,
          139,
          116,
          99,
          0,
          92,
          137,
          61,
          90,
          90,
          165,
          125,
          129,
          88,
          196,
          189,
          158,
          103,
          146,
          147,
          99,
          124,
          101,
          81,
          133,
          173,
          118,
          84,
          105,
          122,
          140,
          98,
          87,
          156,
          93,
          107,
          105,
          109,
          90,
          125,
          119,
          116,
          105,
          144,
          100,
          100,
          166,
          131,
          116,
          158,
          127,
          96,
          131,
          82,
          193,
          95,
          137,
          136,
          72,
          168,
          123,
          115,
          101,
          197,
          172,
          102,
          112,
          143,
          143,
          138,
          173,
          97,
          144,
          83,
          129,
          119,
          94,
          102,
          115,
          151,
          184,
          94,
          181,
          135,
          95,
          99,
          89,
          80,
          139,
          90,
          141,
          140,
          147,
          97,
          107,
          189,
          83,
          117,
          108,
          117,
          180,
          100,
          95,
          104,
          120,
          82,
          134,
          91,
          119,
          100,
          175,
          135,
          86,
          148,
          134,
          120,
          71,
          74,
          88,
          115,
          124,
          74,
          97,
          120,
          154,
          144,
          137,
          119,
          136,
          114,
          137,
          105,
          114,
          126,
          132,
          158,
          123,
          85,
          84,
          145,
          135,
          139,
          173,
          99,
          194,
          83,
          89,
          99,
          125,
          80,
          166,
          110,
          81,
          195,
          154,
          117,
          84,
          0,
          94,
          96,
          75,
          180,
          130,
          84,
          120,
          84,
          139,
          91,
          91,
          99,
          163,
          145,
          125,
          76,
          129,
          68,
          124,
          114,
          130,
          125,
          87,
          97,
          116,
          117,
          111,
          122,
          107,
          86,
          91,
          77,
          132,
          105,
          57,
          127,
          129,
          100,
          128,
          90,
          84,
          88,
          186,
          187,
          131,
          164,
          189,
          116,
          84,
          114,
          88,
          84,
          124,
          97,
          110,
          103,
          85,
          125,
          198,
          87,
          99,
          91,
          95,
          99,
          92,
          154,
          121,
          78,
          130,
          111,
          98,
          143,
          119,
          108,
          118,
          133,
          197,
          151,
          109,
          121,
          100,
          124,
          93,
          143,
          103,
          176,
          73,
          111,
          112,
          132,
          82,
          123,
          188,
          67,
          89,
          173,
          109,
          108,
          96,
          124,
          150,
          183,
          124,
          181,
          92,
          152,
          111,
          106,
          174,
          168,
          105,
          138,
          106,
          117,
          68,
          112,
          119,
          112,
          92,
          183,
          94,
          108,
          90,
          125,
          132,
          128,
          94,
          114,
          102,
          111,
          128,
          92,
          104,
          104,
          94,
          97,
          100,
          102,
          128,
          147,
          90,
          103,
          157,
          167,
          179,
          136,
          107,
          91,
          117,
          123,
          120,
          106,
          155,
          101,
          120,
          127,
          80,
          162,
          199,
          167,
          145,
          115,
          112,
          145,
          111,
          98,
          154,
          165,
          99,
          68,
          123,
          91,
          195,
          156,
          93,
          121,
          101,
          56,
          162,
          95,
          125,
          136,
          129,
          130,
          107,
          140,
          144,
          107,
          158,
          121,
          129,
          90,
          142,
          169,
          99,
          127,
          118,
          122,
          125,
          168,
          129,
          110,
          80,
          115,
          127,
          164,
          93,
          158,
          126,
          129,
          134,
          102,
          187,
          173,
          94,
          108,
          97,
          83,
          114,
          149,
          117,
          111,
          112,
          116,
          141,
          175,
          92,
          130,
          120,
          174,
          106,
          105,
          95,
          126,
          65,
          99,
          102,
          120,
          102,
          109,
          140,
          153,
          100,
          147,
          81,
          187,
          162,
          136,
          121,
          108,
          181,
          154,
          128,
          137,
          123,
          106,
          190,
          88,
          170,
          89,
          101,
          122,
          121,
          126,
          93
         ],
         "xaxis": "x",
         "y": [
          72,
          66,
          64,
          66,
          40,
          74,
          50,
          0,
          70,
          96,
          92,
          74,
          80,
          60,
          72,
          0,
          84,
          74,
          30,
          70,
          88,
          84,
          90,
          80,
          94,
          70,
          76,
          66,
          82,
          92,
          75,
          76,
          58,
          92,
          78,
          60,
          76,
          76,
          68,
          72,
          64,
          84,
          92,
          110,
          64,
          66,
          56,
          70,
          66,
          0,
          80,
          50,
          66,
          90,
          66,
          50,
          68,
          88,
          82,
          64,
          0,
          72,
          62,
          58,
          66,
          74,
          88,
          92,
          66,
          85,
          66,
          64,
          90,
          86,
          75,
          48,
          78,
          72,
          0,
          66,
          44,
          0,
          78,
          65,
          108,
          74,
          72,
          68,
          70,
          68,
          55,
          80,
          78,
          72,
          82,
          72,
          62,
          48,
          50,
          90,
          72,
          60,
          96,
          72,
          65,
          56,
          122,
          58,
          58,
          85,
          72,
          62,
          76,
          62,
          54,
          92,
          74,
          48,
          60,
          76,
          76,
          64,
          74,
          80,
          76,
          30,
          70,
          58,
          88,
          84,
          70,
          56,
          64,
          74,
          68,
          60,
          70,
          60,
          80,
          72,
          78,
          82,
          52,
          66,
          62,
          75,
          80,
          64,
          78,
          70,
          74,
          65,
          86,
          82,
          78,
          88,
          52,
          56,
          74,
          72,
          90,
          74,
          80,
          64,
          88,
          74,
          66,
          68,
          66,
          90,
          82,
          70,
          0,
          60,
          64,
          72,
          78,
          110,
          78,
          82,
          80,
          64,
          74,
          60,
          74,
          68,
          68,
          98,
          76,
          80,
          62,
          70,
          66,
          0,
          55,
          84,
          58,
          62,
          64,
          60,
          80,
          82,
          68,
          70,
          72,
          72,
          76,
          104,
          64,
          84,
          60,
          85,
          95,
          65,
          82,
          70,
          62,
          68,
          74,
          66,
          60,
          90,
          0,
          60,
          66,
          78,
          76,
          52,
          70,
          80,
          86,
          80,
          80,
          68,
          68,
          72,
          84,
          90,
          84,
          76,
          64,
          70,
          54,
          50,
          76,
          85,
          68,
          90,
          70,
          86,
          52,
          84,
          80,
          68,
          62,
          64,
          56,
          68,
          50,
          76,
          68,
          0,
          70,
          80,
          62,
          74,
          0,
          64,
          52,
          0,
          86,
          62,
          78,
          78,
          70,
          70,
          60,
          64,
          74,
          62,
          70,
          76,
          88,
          86,
          80,
          74,
          84,
          86,
          56,
          72,
          88,
          62,
          78,
          48,
          50,
          62,
          70,
          84,
          78,
          72,
          0,
          58,
          82,
          98,
          76,
          76,
          68,
          68,
          68,
          68,
          66,
          70,
          74,
          50,
          80,
          68,
          80,
          74,
          66,
          78,
          60,
          74,
          70,
          90,
          75,
          72,
          64,
          70,
          86,
          70,
          72,
          58,
          0,
          80,
          60,
          76,
          0,
          76,
          78,
          84,
          70,
          74,
          68,
          86,
          72,
          88,
          46,
          0,
          62,
          80,
          80,
          84,
          82,
          62,
          78,
          88,
          50,
          0,
          74,
          76,
          64,
          70,
          108,
          78,
          74,
          54,
          72,
          64,
          86,
          102,
          82,
          64,
          64,
          58,
          52,
          82,
          82,
          60,
          75,
          100,
          72,
          68,
          60,
          62,
          70,
          54,
          74,
          100,
          82,
          68,
          66,
          76,
          64,
          72,
          78,
          58,
          56,
          66,
          70,
          70,
          64,
          61,
          84,
          78,
          64,
          48,
          72,
          62,
          74,
          68,
          90,
          72,
          84,
          74,
          60,
          84,
          68,
          82,
          68,
          64,
          88,
          68,
          64,
          64,
          78,
          78,
          0,
          64,
          94,
          82,
          0,
          74,
          74,
          75,
          68,
          0,
          85,
          75,
          70,
          88,
          104,
          66,
          64,
          70,
          62,
          78,
          72,
          80,
          64,
          74,
          64,
          70,
          68,
          0,
          54,
          62,
          54,
          68,
          84,
          74,
          72,
          62,
          70,
          78,
          98,
          56,
          52,
          64,
          0,
          78,
          82,
          70,
          66,
          90,
          64,
          84,
          80,
          76,
          74,
          86,
          70,
          88,
          58,
          82,
          0,
          68,
          62,
          78,
          72,
          80,
          65,
          90,
          68,
          70,
          0,
          74,
          68,
          72,
          70,
          74,
          90,
          72,
          68,
          64,
          78,
          82,
          90,
          60,
          50,
          78,
          72,
          62,
          68,
          62,
          54,
          70,
          88,
          86,
          60,
          90,
          70,
          80,
          0,
          70,
          58,
          60,
          64,
          74,
          66,
          65,
          60,
          76,
          66,
          0,
          56,
          0,
          90,
          60,
          80,
          92,
          74,
          72,
          85,
          90,
          78,
          90,
          76,
          68,
          82,
          110,
          70,
          68,
          88,
          62,
          64,
          70,
          70,
          76,
          68,
          74,
          76,
          66,
          68,
          60,
          80,
          54,
          72,
          62,
          72,
          66,
          70,
          96,
          58,
          60,
          86,
          44,
          44,
          80,
          68,
          70,
          90,
          60,
          78,
          76,
          76,
          56,
          66,
          66,
          86,
          0,
          84,
          78,
          80,
          52,
          72,
          82,
          76,
          24,
          74,
          38,
          88,
          0,
          74,
          78,
          0,
          60,
          78,
          62,
          82,
          62,
          54,
          58,
          88,
          80,
          74,
          72,
          96,
          62,
          82,
          0,
          86,
          76,
          94,
          70,
          64,
          88,
          68,
          78,
          80,
          65,
          64,
          78,
          60,
          82,
          62,
          72,
          74,
          76,
          76,
          74,
          86,
          70,
          80,
          0,
          72,
          74,
          74,
          50,
          84,
          60,
          54,
          60,
          74,
          54,
          70,
          52,
          58,
          80,
          106,
          82,
          84,
          76,
          106,
          80,
          60,
          80,
          82,
          70,
          58,
          78,
          68,
          58,
          106,
          100,
          82,
          70,
          86,
          60,
          52,
          58,
          56,
          76,
          64,
          80,
          82,
          74,
          64,
          50,
          74,
          82,
          80,
          114,
          70,
          68,
          60,
          90,
          74,
          0,
          88,
          70,
          76,
          78,
          88,
          0,
          76,
          80,
          0,
          46,
          78,
          64,
          64,
          78,
          62,
          58,
          74,
          50,
          78,
          72,
          60,
          76,
          86,
          66,
          68,
          86,
          94,
          78,
          78,
          84,
          88,
          52,
          78,
          86,
          88,
          56,
          75,
          60,
          86,
          72,
          60,
          74,
          80,
          44,
          58,
          94,
          88,
          84,
          94,
          74,
          70,
          62,
          70,
          78,
          62,
          88,
          78,
          88,
          90,
          72,
          76,
          92,
          58,
          74,
          62,
          76,
          70,
          72,
          60,
          70
         ],
         "yaxis": "y"
        }
       ],
       "layout": {
        "coloraxis": {
         "colorbar": {
          "title": {
           "text": "Outcome"
          }
         },
         "colorscale": [
          [
           0,
           "#0d0887"
          ],
          [
           0.1111111111111111,
           "#46039f"
          ],
          [
           0.2222222222222222,
           "#7201a8"
          ],
          [
           0.3333333333333333,
           "#9c179e"
          ],
          [
           0.4444444444444444,
           "#bd3786"
          ],
          [
           0.5555555555555556,
           "#d8576b"
          ],
          [
           0.6666666666666666,
           "#ed7953"
          ],
          [
           0.7777777777777778,
           "#fb9f3a"
          ],
          [
           0.8888888888888888,
           "#fdca26"
          ],
          [
           1,
           "#f0f921"
          ]
         ]
        },
        "legend": {
         "tracegroupgap": 0
        },
        "margin": {
         "t": 60
        },
        "template": {
         "data": {
          "bar": [
           {
            "error_x": {
             "color": "#f2f5fa"
            },
            "error_y": {
             "color": "#f2f5fa"
            },
            "marker": {
             "line": {
              "color": "rgb(17,17,17)",
              "width": 0.5
             },
             "pattern": {
              "fillmode": "overlay",
              "size": 10,
              "solidity": 0.2
             }
            },
            "type": "bar"
           }
          ],
          "barpolar": [
           {
            "marker": {
             "line": {
              "color": "rgb(17,17,17)",
              "width": 0.5
             },
             "pattern": {
              "fillmode": "overlay",
              "size": 10,
              "solidity": 0.2
             }
            },
            "type": "barpolar"
           }
          ],
          "carpet": [
           {
            "aaxis": {
             "endlinecolor": "#A2B1C6",
             "gridcolor": "#506784",
             "linecolor": "#506784",
             "minorgridcolor": "#506784",
             "startlinecolor": "#A2B1C6"
            },
            "baxis": {
             "endlinecolor": "#A2B1C6",
             "gridcolor": "#506784",
             "linecolor": "#506784",
             "minorgridcolor": "#506784",
             "startlinecolor": "#A2B1C6"
            },
            "type": "carpet"
           }
          ],
          "choropleth": [
           {
            "colorbar": {
             "outlinewidth": 0,
             "ticks": ""
            },
            "type": "choropleth"
           }
          ],
          "contour": [
           {
            "colorbar": {
             "outlinewidth": 0,
             "ticks": ""
            },
            "colorscale": [
             [
              0,
              "#0d0887"
             ],
             [
              0.1111111111111111,
              "#46039f"
             ],
             [
              0.2222222222222222,
              "#7201a8"
             ],
             [
              0.3333333333333333,
              "#9c179e"
             ],
             [
              0.4444444444444444,
              "#bd3786"
             ],
             [
              0.5555555555555556,
              "#d8576b"
             ],
             [
              0.6666666666666666,
              "#ed7953"
             ],
             [
              0.7777777777777778,
              "#fb9f3a"
             ],
             [
              0.8888888888888888,
              "#fdca26"
             ],
             [
              1,
              "#f0f921"
             ]
            ],
            "type": "contour"
           }
          ],
          "contourcarpet": [
           {
            "colorbar": {
             "outlinewidth": 0,
             "ticks": ""
            },
            "type": "contourcarpet"
           }
          ],
          "heatmap": [
           {
            "colorbar": {
             "outlinewidth": 0,
             "ticks": ""
            },
            "colorscale": [
             [
              0,
              "#0d0887"
             ],
             [
              0.1111111111111111,
              "#46039f"
             ],
             [
              0.2222222222222222,
              "#7201a8"
             ],
             [
              0.3333333333333333,
              "#9c179e"
             ],
             [
              0.4444444444444444,
              "#bd3786"
             ],
             [
              0.5555555555555556,
              "#d8576b"
             ],
             [
              0.6666666666666666,
              "#ed7953"
             ],
             [
              0.7777777777777778,
              "#fb9f3a"
             ],
             [
              0.8888888888888888,
              "#fdca26"
             ],
             [
              1,
              "#f0f921"
             ]
            ],
            "type": "heatmap"
           }
          ],
          "heatmapgl": [
           {
            "colorbar": {
             "outlinewidth": 0,
             "ticks": ""
            },
            "colorscale": [
             [
              0,
              "#0d0887"
             ],
             [
              0.1111111111111111,
              "#46039f"
             ],
             [
              0.2222222222222222,
              "#7201a8"
             ],
             [
              0.3333333333333333,
              "#9c179e"
             ],
             [
              0.4444444444444444,
              "#bd3786"
             ],
             [
              0.5555555555555556,
              "#d8576b"
             ],
             [
              0.6666666666666666,
              "#ed7953"
             ],
             [
              0.7777777777777778,
              "#fb9f3a"
             ],
             [
              0.8888888888888888,
              "#fdca26"
             ],
             [
              1,
              "#f0f921"
             ]
            ],
            "type": "heatmapgl"
           }
          ],
          "histogram": [
           {
            "marker": {
             "pattern": {
              "fillmode": "overlay",
              "size": 10,
              "solidity": 0.2
             }
            },
            "type": "histogram"
           }
          ],
          "histogram2d": [
           {
            "colorbar": {
             "outlinewidth": 0,
             "ticks": ""
            },
            "colorscale": [
             [
              0,
              "#0d0887"
             ],
             [
              0.1111111111111111,
              "#46039f"
             ],
             [
              0.2222222222222222,
              "#7201a8"
             ],
             [
              0.3333333333333333,
              "#9c179e"
             ],
             [
              0.4444444444444444,
              "#bd3786"
             ],
             [
              0.5555555555555556,
              "#d8576b"
             ],
             [
              0.6666666666666666,
              "#ed7953"
             ],
             [
              0.7777777777777778,
              "#fb9f3a"
             ],
             [
              0.8888888888888888,
              "#fdca26"
             ],
             [
              1,
              "#f0f921"
             ]
            ],
            "type": "histogram2d"
           }
          ],
          "histogram2dcontour": [
           {
            "colorbar": {
             "outlinewidth": 0,
             "ticks": ""
            },
            "colorscale": [
             [
              0,
              "#0d0887"
             ],
             [
              0.1111111111111111,
              "#46039f"
             ],
             [
              0.2222222222222222,
              "#7201a8"
             ],
             [
              0.3333333333333333,
              "#9c179e"
             ],
             [
              0.4444444444444444,
              "#bd3786"
             ],
             [
              0.5555555555555556,
              "#d8576b"
             ],
             [
              0.6666666666666666,
              "#ed7953"
             ],
             [
              0.7777777777777778,
              "#fb9f3a"
             ],
             [
              0.8888888888888888,
              "#fdca26"
             ],
             [
              1,
              "#f0f921"
             ]
            ],
            "type": "histogram2dcontour"
           }
          ],
          "mesh3d": [
           {
            "colorbar": {
             "outlinewidth": 0,
             "ticks": ""
            },
            "type": "mesh3d"
           }
          ],
          "parcoords": [
           {
            "line": {
             "colorbar": {
              "outlinewidth": 0,
              "ticks": ""
             }
            },
            "type": "parcoords"
           }
          ],
          "pie": [
           {
            "automargin": true,
            "type": "pie"
           }
          ],
          "scatter": [
           {
            "marker": {
             "line": {
              "color": "#283442"
             }
            },
            "type": "scatter"
           }
          ],
          "scatter3d": [
           {
            "line": {
             "colorbar": {
              "outlinewidth": 0,
              "ticks": ""
             }
            },
            "marker": {
             "colorbar": {
              "outlinewidth": 0,
              "ticks": ""
             }
            },
            "type": "scatter3d"
           }
          ],
          "scattercarpet": [
           {
            "marker": {
             "colorbar": {
              "outlinewidth": 0,
              "ticks": ""
             }
            },
            "type": "scattercarpet"
           }
          ],
          "scattergeo": [
           {
            "marker": {
             "colorbar": {
              "outlinewidth": 0,
              "ticks": ""
             }
            },
            "type": "scattergeo"
           }
          ],
          "scattergl": [
           {
            "marker": {
             "line": {
              "color": "#283442"
             }
            },
            "type": "scattergl"
           }
          ],
          "scattermapbox": [
           {
            "marker": {
             "colorbar": {
              "outlinewidth": 0,
              "ticks": ""
             }
            },
            "type": "scattermapbox"
           }
          ],
          "scatterpolar": [
           {
            "marker": {
             "colorbar": {
              "outlinewidth": 0,
              "ticks": ""
             }
            },
            "type": "scatterpolar"
           }
          ],
          "scatterpolargl": [
           {
            "marker": {
             "colorbar": {
              "outlinewidth": 0,
              "ticks": ""
             }
            },
            "type": "scatterpolargl"
           }
          ],
          "scatterternary": [
           {
            "marker": {
             "colorbar": {
              "outlinewidth": 0,
              "ticks": ""
             }
            },
            "type": "scatterternary"
           }
          ],
          "surface": [
           {
            "colorbar": {
             "outlinewidth": 0,
             "ticks": ""
            },
            "colorscale": [
             [
              0,
              "#0d0887"
             ],
             [
              0.1111111111111111,
              "#46039f"
             ],
             [
              0.2222222222222222,
              "#7201a8"
             ],
             [
              0.3333333333333333,
              "#9c179e"
             ],
             [
              0.4444444444444444,
              "#bd3786"
             ],
             [
              0.5555555555555556,
              "#d8576b"
             ],
             [
              0.6666666666666666,
              "#ed7953"
             ],
             [
              0.7777777777777778,
              "#fb9f3a"
             ],
             [
              0.8888888888888888,
              "#fdca26"
             ],
             [
              1,
              "#f0f921"
             ]
            ],
            "type": "surface"
           }
          ],
          "table": [
           {
            "cells": {
             "fill": {
              "color": "#506784"
             },
             "line": {
              "color": "rgb(17,17,17)"
             }
            },
            "header": {
             "fill": {
              "color": "#2a3f5f"
             },
             "line": {
              "color": "rgb(17,17,17)"
             }
            },
            "type": "table"
           }
          ]
         },
         "layout": {
          "annotationdefaults": {
           "arrowcolor": "#f2f5fa",
           "arrowhead": 0,
           "arrowwidth": 1
          },
          "autotypenumbers": "strict",
          "coloraxis": {
           "colorbar": {
            "outlinewidth": 0,
            "ticks": ""
           }
          },
          "colorscale": {
           "diverging": [
            [
             0,
             "#8e0152"
            ],
            [
             0.1,
             "#c51b7d"
            ],
            [
             0.2,
             "#de77ae"
            ],
            [
             0.3,
             "#f1b6da"
            ],
            [
             0.4,
             "#fde0ef"
            ],
            [
             0.5,
             "#f7f7f7"
            ],
            [
             0.6,
             "#e6f5d0"
            ],
            [
             0.7,
             "#b8e186"
            ],
            [
             0.8,
             "#7fbc41"
            ],
            [
             0.9,
             "#4d9221"
            ],
            [
             1,
             "#276419"
            ]
           ],
           "sequential": [
            [
             0,
             "#0d0887"
            ],
            [
             0.1111111111111111,
             "#46039f"
            ],
            [
             0.2222222222222222,
             "#7201a8"
            ],
            [
             0.3333333333333333,
             "#9c179e"
            ],
            [
             0.4444444444444444,
             "#bd3786"
            ],
            [
             0.5555555555555556,
             "#d8576b"
            ],
            [
             0.6666666666666666,
             "#ed7953"
            ],
            [
             0.7777777777777778,
             "#fb9f3a"
            ],
            [
             0.8888888888888888,
             "#fdca26"
            ],
            [
             1,
             "#f0f921"
            ]
           ],
           "sequentialminus": [
            [
             0,
             "#0d0887"
            ],
            [
             0.1111111111111111,
             "#46039f"
            ],
            [
             0.2222222222222222,
             "#7201a8"
            ],
            [
             0.3333333333333333,
             "#9c179e"
            ],
            [
             0.4444444444444444,
             "#bd3786"
            ],
            [
             0.5555555555555556,
             "#d8576b"
            ],
            [
             0.6666666666666666,
             "#ed7953"
            ],
            [
             0.7777777777777778,
             "#fb9f3a"
            ],
            [
             0.8888888888888888,
             "#fdca26"
            ],
            [
             1,
             "#f0f921"
            ]
           ]
          },
          "colorway": [
           "#636efa",
           "#EF553B",
           "#00cc96",
           "#ab63fa",
           "#FFA15A",
           "#19d3f3",
           "#FF6692",
           "#B6E880",
           "#FF97FF",
           "#FECB52"
          ],
          "font": {
           "color": "#f2f5fa"
          },
          "geo": {
           "bgcolor": "rgb(17,17,17)",
           "lakecolor": "rgb(17,17,17)",
           "landcolor": "rgb(17,17,17)",
           "showlakes": true,
           "showland": true,
           "subunitcolor": "#506784"
          },
          "hoverlabel": {
           "align": "left"
          },
          "hovermode": "closest",
          "mapbox": {
           "style": "dark"
          },
          "paper_bgcolor": "rgb(17,17,17)",
          "plot_bgcolor": "rgb(17,17,17)",
          "polar": {
           "angularaxis": {
            "gridcolor": "#506784",
            "linecolor": "#506784",
            "ticks": ""
           },
           "bgcolor": "rgb(17,17,17)",
           "radialaxis": {
            "gridcolor": "#506784",
            "linecolor": "#506784",
            "ticks": ""
           }
          },
          "scene": {
           "xaxis": {
            "backgroundcolor": "rgb(17,17,17)",
            "gridcolor": "#506784",
            "gridwidth": 2,
            "linecolor": "#506784",
            "showbackground": true,
            "ticks": "",
            "zerolinecolor": "#C8D4E3"
           },
           "yaxis": {
            "backgroundcolor": "rgb(17,17,17)",
            "gridcolor": "#506784",
            "gridwidth": 2,
            "linecolor": "#506784",
            "showbackground": true,
            "ticks": "",
            "zerolinecolor": "#C8D4E3"
           },
           "zaxis": {
            "backgroundcolor": "rgb(17,17,17)",
            "gridcolor": "#506784",
            "gridwidth": 2,
            "linecolor": "#506784",
            "showbackground": true,
            "ticks": "",
            "zerolinecolor": "#C8D4E3"
           }
          },
          "shapedefaults": {
           "line": {
            "color": "#f2f5fa"
           }
          },
          "sliderdefaults": {
           "bgcolor": "#C8D4E3",
           "bordercolor": "rgb(17,17,17)",
           "borderwidth": 1,
           "tickwidth": 0
          },
          "ternary": {
           "aaxis": {
            "gridcolor": "#506784",
            "linecolor": "#506784",
            "ticks": ""
           },
           "baxis": {
            "gridcolor": "#506784",
            "linecolor": "#506784",
            "ticks": ""
           },
           "bgcolor": "rgb(17,17,17)",
           "caxis": {
            "gridcolor": "#506784",
            "linecolor": "#506784",
            "ticks": ""
           }
          },
          "title": {
           "x": 0.05
          },
          "updatemenudefaults": {
           "bgcolor": "#506784",
           "borderwidth": 0
          },
          "xaxis": {
           "automargin": true,
           "gridcolor": "#283442",
           "linecolor": "#506784",
           "ticks": "",
           "title": {
            "standoff": 15
           },
           "zerolinecolor": "#283442",
           "zerolinewidth": 2
          },
          "yaxis": {
           "automargin": true,
           "gridcolor": "#283442",
           "linecolor": "#506784",
           "ticks": "",
           "title": {
            "standoff": 15
           },
           "zerolinecolor": "#283442",
           "zerolinewidth": 2
          }
         }
        },
        "xaxis": {
         "anchor": "y",
         "domain": [
          0,
          1
         ],
         "title": {
          "text": "Glucose"
         }
        },
        "yaxis": {
         "anchor": "x",
         "domain": [
          0,
          1
         ],
         "title": {
          "text": "BloodPressure"
         }
        }
       }
      },
      "text/html": [
       "<div>                            <div id=\"b27abc6f-8312-4cb6-a7dd-efdcf1d08c72\" class=\"plotly-graph-div\" style=\"height:525px; width:100%;\"></div>            <script type=\"text/javascript\">                require([\"plotly\"], function(Plotly) {                    window.PLOTLYENV=window.PLOTLYENV || {};                                    if (document.getElementById(\"b27abc6f-8312-4cb6-a7dd-efdcf1d08c72\")) {                    Plotly.newPlot(                        \"b27abc6f-8312-4cb6-a7dd-efdcf1d08c72\",                        [{\"hovertemplate\":\"Glucose=%{x}<br>BloodPressure=%{y}<br>Outcome=%{marker.color}<extra></extra>\",\"legendgroup\":\"\",\"marker\":{\"color\":[1,0,1,0,1,0,1,0,1,1,0,1,0,1,1,1,1,1,0,1,0,0,1,1,1,1,1,0,0,0,0,1,0,0,0,0,0,1,1,1,0,0,0,1,0,1,0,0,1,0,0,0,0,1,0,0,1,0,0,0,0,1,0,0,1,0,1,0,0,0,1,0,1,0,0,0,0,0,1,0,0,0,0,0,1,0,0,0,1,0,0,0,0,1,0,0,0,0,0,1,1,0,0,0,0,0,0,0,0,1,1,1,0,0,1,1,1,0,0,0,1,0,0,0,1,1,0,0,1,1,1,1,1,0,0,0,0,0,0,0,0,0,0,1,0,0,0,0,0,0,0,0,1,0,1,1,0,0,0,1,0,0,0,0,1,1,0,0,0,0,1,1,0,0,0,1,0,1,0,1,0,0,0,0,0,1,1,1,1,1,0,0,1,1,0,1,0,1,1,1,0,0,0,0,0,0,1,1,0,1,0,0,0,1,1,1,1,0,1,1,1,1,0,0,0,0,0,1,0,0,1,1,0,0,0,1,1,1,1,0,0,0,1,1,0,1,0,0,0,0,0,0,0,0,1,1,0,0,0,1,0,1,0,0,1,0,1,0,0,1,1,0,0,0,0,0,1,0,0,0,1,0,0,1,1,0,0,1,0,0,0,1,1,1,0,0,1,0,1,0,1,1,0,1,0,0,1,0,1,1,0,0,1,0,1,0,0,1,0,1,0,1,1,1,0,0,1,0,1,0,0,0,1,0,0,0,0,1,1,1,0,0,0,0,0,0,0,0,0,1,0,0,0,0,0,1,1,1,0,1,1,0,0,1,0,0,1,0,0,1,1,0,0,0,0,1,0,0,1,0,0,0,0,0,0,0,1,1,1,0,0,1,0,0,1,0,0,1,0,1,1,0,1,0,1,0,1,0,1,1,0,0,0,0,1,1,0,1,0,1,0,0,0,0,1,1,0,1,0,1,0,0,0,0,0,1,0,0,0,0,1,0,0,1,1,1,0,0,1,0,0,1,0,0,0,1,0,0,1,0,0,0,0,0,0,0,0,0,1,0,0,0,0,0,0,0,1,0,0,0,1,0,0,0,1,1,0,0,0,0,0,0,0,1,0,0,0,0,1,0,0,0,1,0,0,0,1,0,0,0,1,0,0,0,0,1,1,0,0,0,0,0,0,1,0,0,0,0,0,0,0,0,0,0,0,1,0,0,0,1,1,1,1,0,0,1,1,0,0,0,0,0,0,0,0,0,0,0,0,0,1,1,0,0,0,0,0,0,0,1,0,0,0,0,0,0,0,1,0,1,1,0,0,0,1,0,1,0,1,0,1,0,1,0,0,1,0,0,1,0,0,0,0,1,1,0,1,0,0,0,0,1,1,0,1,0,0,0,1,1,0,0,0,0,0,0,0,0,0,0,1,0,0,0,0,1,0,0,1,0,0,0,1,0,0,0,1,1,1,0,0,0,0,0,0,1,0,0,0,1,0,1,1,1,1,0,1,1,0,0,0,0,0,0,0,1,1,0,1,0,0,1,0,1,0,0,0,0,0,1,0,1,0,1,0,1,1,0,0,0,0,1,1,0,0,0,1,0,1,1,0,0,1,0,0,1,1,0,0,1,0,0,1,0,0,0,0,0,0,0,1,1,1,0,0,0,0,0,0,1,1,0,0,1,0,0,1,0,1,1,1,0,0,1,1,1,0,1,0,1,0,1,0,0,0,0,1,0],\"coloraxis\":\"coloraxis\",\"symbol\":\"circle\"},\"mode\":\"markers\",\"name\":\"\",\"orientation\":\"v\",\"showlegend\":false,\"x\":[148,85,183,89,137,116,78,115,197,125,110,168,139,189,166,100,118,107,103,115,126,99,196,119,143,125,147,97,145,117,109,158,88,92,122,103,138,102,90,111,180,133,106,171,159,180,146,71,103,105,103,101,88,176,150,73,187,100,146,105,84,133,44,141,114,99,109,109,95,146,100,139,126,129,79,0,62,95,131,112,113,74,83,101,137,110,106,100,136,107,80,123,81,134,142,144,92,71,93,122,163,151,125,81,85,126,96,144,83,95,171,155,89,76,160,146,124,78,97,99,162,111,107,132,113,88,120,118,117,105,173,122,170,84,96,125,100,93,129,105,128,106,108,108,154,102,57,106,147,90,136,114,156,153,188,152,99,109,88,163,151,102,114,100,131,104,148,120,110,111,102,134,87,79,75,179,85,129,143,130,87,119,0,73,141,194,181,128,109,139,111,123,159,135,85,158,105,107,109,148,113,138,108,99,103,111,196,162,96,184,81,147,179,140,112,151,109,125,85,112,177,158,119,142,100,87,101,162,197,117,142,134,79,122,74,171,181,179,164,104,91,91,139,119,146,184,122,165,124,111,106,129,90,86,92,113,111,114,193,155,191,141,95,142,123,96,138,128,102,146,101,108,122,71,106,100,106,104,114,108,146,129,133,161,108,136,155,119,96,108,78,107,128,128,161,151,146,126,100,112,167,144,77,115,150,120,161,137,128,124,80,106,155,113,109,112,99,182,115,194,129,112,124,152,112,157,122,179,102,105,118,87,180,106,95,165,117,115,152,178,130,95,0,122,95,126,139,116,99,0,92,137,61,90,90,165,125,129,88,196,189,158,103,146,147,99,124,101,81,133,173,118,84,105,122,140,98,87,156,93,107,105,109,90,125,119,116,105,144,100,100,166,131,116,158,127,96,131,82,193,95,137,136,72,168,123,115,101,197,172,102,112,143,143,138,173,97,144,83,129,119,94,102,115,151,184,94,181,135,95,99,89,80,139,90,141,140,147,97,107,189,83,117,108,117,180,100,95,104,120,82,134,91,119,100,175,135,86,148,134,120,71,74,88,115,124,74,97,120,154,144,137,119,136,114,137,105,114,126,132,158,123,85,84,145,135,139,173,99,194,83,89,99,125,80,166,110,81,195,154,117,84,0,94,96,75,180,130,84,120,84,139,91,91,99,163,145,125,76,129,68,124,114,130,125,87,97,116,117,111,122,107,86,91,77,132,105,57,127,129,100,128,90,84,88,186,187,131,164,189,116,84,114,88,84,124,97,110,103,85,125,198,87,99,91,95,99,92,154,121,78,130,111,98,143,119,108,118,133,197,151,109,121,100,124,93,143,103,176,73,111,112,132,82,123,188,67,89,173,109,108,96,124,150,183,124,181,92,152,111,106,174,168,105,138,106,117,68,112,119,112,92,183,94,108,90,125,132,128,94,114,102,111,128,92,104,104,94,97,100,102,128,147,90,103,157,167,179,136,107,91,117,123,120,106,155,101,120,127,80,162,199,167,145,115,112,145,111,98,154,165,99,68,123,91,195,156,93,121,101,56,162,95,125,136,129,130,107,140,144,107,158,121,129,90,142,169,99,127,118,122,125,168,129,110,80,115,127,164,93,158,126,129,134,102,187,173,94,108,97,83,114,149,117,111,112,116,141,175,92,130,120,174,106,105,95,126,65,99,102,120,102,109,140,153,100,147,81,187,162,136,121,108,181,154,128,137,123,106,190,88,170,89,101,122,121,126,93],\"xaxis\":\"x\",\"y\":[72,66,64,66,40,74,50,0,70,96,92,74,80,60,72,0,84,74,30,70,88,84,90,80,94,70,76,66,82,92,75,76,58,92,78,60,76,76,68,72,64,84,92,110,64,66,56,70,66,0,80,50,66,90,66,50,68,88,82,64,0,72,62,58,66,74,88,92,66,85,66,64,90,86,75,48,78,72,0,66,44,0,78,65,108,74,72,68,70,68,55,80,78,72,82,72,62,48,50,90,72,60,96,72,65,56,122,58,58,85,72,62,76,62,54,92,74,48,60,76,76,64,74,80,76,30,70,58,88,84,70,56,64,74,68,60,70,60,80,72,78,82,52,66,62,75,80,64,78,70,74,65,86,82,78,88,52,56,74,72,90,74,80,64,88,74,66,68,66,90,82,70,0,60,64,72,78,110,78,82,80,64,74,60,74,68,68,98,76,80,62,70,66,0,55,84,58,62,64,60,80,82,68,70,72,72,76,104,64,84,60,85,95,65,82,70,62,68,74,66,60,90,0,60,66,78,76,52,70,80,86,80,80,68,68,72,84,90,84,76,64,70,54,50,76,85,68,90,70,86,52,84,80,68,62,64,56,68,50,76,68,0,70,80,62,74,0,64,52,0,86,62,78,78,70,70,60,64,74,62,70,76,88,86,80,74,84,86,56,72,88,62,78,48,50,62,70,84,78,72,0,58,82,98,76,76,68,68,68,68,66,70,74,50,80,68,80,74,66,78,60,74,70,90,75,72,64,70,86,70,72,58,0,80,60,76,0,76,78,84,70,74,68,86,72,88,46,0,62,80,80,84,82,62,78,88,50,0,74,76,64,70,108,78,74,54,72,64,86,102,82,64,64,58,52,82,82,60,75,100,72,68,60,62,70,54,74,100,82,68,66,76,64,72,78,58,56,66,70,70,64,61,84,78,64,48,72,62,74,68,90,72,84,74,60,84,68,82,68,64,88,68,64,64,78,78,0,64,94,82,0,74,74,75,68,0,85,75,70,88,104,66,64,70,62,78,72,80,64,74,64,70,68,0,54,62,54,68,84,74,72,62,70,78,98,56,52,64,0,78,82,70,66,90,64,84,80,76,74,86,70,88,58,82,0,68,62,78,72,80,65,90,68,70,0,74,68,72,70,74,90,72,68,64,78,82,90,60,50,78,72,62,68,62,54,70,88,86,60,90,70,80,0,70,58,60,64,74,66,65,60,76,66,0,56,0,90,60,80,92,74,72,85,90,78,90,76,68,82,110,70,68,88,62,64,70,70,76,68,74,76,66,68,60,80,54,72,62,72,66,70,96,58,60,86,44,44,80,68,70,90,60,78,76,76,56,66,66,86,0,84,78,80,52,72,82,76,24,74,38,88,0,74,78,0,60,78,62,82,62,54,58,88,80,74,72,96,62,82,0,86,76,94,70,64,88,68,78,80,65,64,78,60,82,62,72,74,76,76,74,86,70,80,0,72,74,74,50,84,60,54,60,74,54,70,52,58,80,106,82,84,76,106,80,60,80,82,70,58,78,68,58,106,100,82,70,86,60,52,58,56,76,64,80,82,74,64,50,74,82,80,114,70,68,60,90,74,0,88,70,76,78,88,0,76,80,0,46,78,64,64,78,62,58,74,50,78,72,60,76,86,66,68,86,94,78,78,84,88,52,78,86,88,56,75,60,86,72,60,74,80,44,58,94,88,84,94,74,70,62,70,78,62,88,78,88,90,72,76,92,58,74,62,76,70,72,60,70],\"yaxis\":\"y\",\"type\":\"scatter\"}],                        {\"template\":{\"data\":{\"barpolar\":[{\"marker\":{\"line\":{\"color\":\"rgb(17,17,17)\",\"width\":0.5},\"pattern\":{\"fillmode\":\"overlay\",\"size\":10,\"solidity\":0.2}},\"type\":\"barpolar\"}],\"bar\":[{\"error_x\":{\"color\":\"#f2f5fa\"},\"error_y\":{\"color\":\"#f2f5fa\"},\"marker\":{\"line\":{\"color\":\"rgb(17,17,17)\",\"width\":0.5},\"pattern\":{\"fillmode\":\"overlay\",\"size\":10,\"solidity\":0.2}},\"type\":\"bar\"}],\"carpet\":[{\"aaxis\":{\"endlinecolor\":\"#A2B1C6\",\"gridcolor\":\"#506784\",\"linecolor\":\"#506784\",\"minorgridcolor\":\"#506784\",\"startlinecolor\":\"#A2B1C6\"},\"baxis\":{\"endlinecolor\":\"#A2B1C6\",\"gridcolor\":\"#506784\",\"linecolor\":\"#506784\",\"minorgridcolor\":\"#506784\",\"startlinecolor\":\"#A2B1C6\"},\"type\":\"carpet\"}],\"choropleth\":[{\"colorbar\":{\"outlinewidth\":0,\"ticks\":\"\"},\"type\":\"choropleth\"}],\"contourcarpet\":[{\"colorbar\":{\"outlinewidth\":0,\"ticks\":\"\"},\"type\":\"contourcarpet\"}],\"contour\":[{\"colorbar\":{\"outlinewidth\":0,\"ticks\":\"\"},\"colorscale\":[[0.0,\"#0d0887\"],[0.1111111111111111,\"#46039f\"],[0.2222222222222222,\"#7201a8\"],[0.3333333333333333,\"#9c179e\"],[0.4444444444444444,\"#bd3786\"],[0.5555555555555556,\"#d8576b\"],[0.6666666666666666,\"#ed7953\"],[0.7777777777777778,\"#fb9f3a\"],[0.8888888888888888,\"#fdca26\"],[1.0,\"#f0f921\"]],\"type\":\"contour\"}],\"heatmapgl\":[{\"colorbar\":{\"outlinewidth\":0,\"ticks\":\"\"},\"colorscale\":[[0.0,\"#0d0887\"],[0.1111111111111111,\"#46039f\"],[0.2222222222222222,\"#7201a8\"],[0.3333333333333333,\"#9c179e\"],[0.4444444444444444,\"#bd3786\"],[0.5555555555555556,\"#d8576b\"],[0.6666666666666666,\"#ed7953\"],[0.7777777777777778,\"#fb9f3a\"],[0.8888888888888888,\"#fdca26\"],[1.0,\"#f0f921\"]],\"type\":\"heatmapgl\"}],\"heatmap\":[{\"colorbar\":{\"outlinewidth\":0,\"ticks\":\"\"},\"colorscale\":[[0.0,\"#0d0887\"],[0.1111111111111111,\"#46039f\"],[0.2222222222222222,\"#7201a8\"],[0.3333333333333333,\"#9c179e\"],[0.4444444444444444,\"#bd3786\"],[0.5555555555555556,\"#d8576b\"],[0.6666666666666666,\"#ed7953\"],[0.7777777777777778,\"#fb9f3a\"],[0.8888888888888888,\"#fdca26\"],[1.0,\"#f0f921\"]],\"type\":\"heatmap\"}],\"histogram2dcontour\":[{\"colorbar\":{\"outlinewidth\":0,\"ticks\":\"\"},\"colorscale\":[[0.0,\"#0d0887\"],[0.1111111111111111,\"#46039f\"],[0.2222222222222222,\"#7201a8\"],[0.3333333333333333,\"#9c179e\"],[0.4444444444444444,\"#bd3786\"],[0.5555555555555556,\"#d8576b\"],[0.6666666666666666,\"#ed7953\"],[0.7777777777777778,\"#fb9f3a\"],[0.8888888888888888,\"#fdca26\"],[1.0,\"#f0f921\"]],\"type\":\"histogram2dcontour\"}],\"histogram2d\":[{\"colorbar\":{\"outlinewidth\":0,\"ticks\":\"\"},\"colorscale\":[[0.0,\"#0d0887\"],[0.1111111111111111,\"#46039f\"],[0.2222222222222222,\"#7201a8\"],[0.3333333333333333,\"#9c179e\"],[0.4444444444444444,\"#bd3786\"],[0.5555555555555556,\"#d8576b\"],[0.6666666666666666,\"#ed7953\"],[0.7777777777777778,\"#fb9f3a\"],[0.8888888888888888,\"#fdca26\"],[1.0,\"#f0f921\"]],\"type\":\"histogram2d\"}],\"histogram\":[{\"marker\":{\"pattern\":{\"fillmode\":\"overlay\",\"size\":10,\"solidity\":0.2}},\"type\":\"histogram\"}],\"mesh3d\":[{\"colorbar\":{\"outlinewidth\":0,\"ticks\":\"\"},\"type\":\"mesh3d\"}],\"parcoords\":[{\"line\":{\"colorbar\":{\"outlinewidth\":0,\"ticks\":\"\"}},\"type\":\"parcoords\"}],\"pie\":[{\"automargin\":true,\"type\":\"pie\"}],\"scatter3d\":[{\"line\":{\"colorbar\":{\"outlinewidth\":0,\"ticks\":\"\"}},\"marker\":{\"colorbar\":{\"outlinewidth\":0,\"ticks\":\"\"}},\"type\":\"scatter3d\"}],\"scattercarpet\":[{\"marker\":{\"colorbar\":{\"outlinewidth\":0,\"ticks\":\"\"}},\"type\":\"scattercarpet\"}],\"scattergeo\":[{\"marker\":{\"colorbar\":{\"outlinewidth\":0,\"ticks\":\"\"}},\"type\":\"scattergeo\"}],\"scattergl\":[{\"marker\":{\"line\":{\"color\":\"#283442\"}},\"type\":\"scattergl\"}],\"scattermapbox\":[{\"marker\":{\"colorbar\":{\"outlinewidth\":0,\"ticks\":\"\"}},\"type\":\"scattermapbox\"}],\"scatterpolargl\":[{\"marker\":{\"colorbar\":{\"outlinewidth\":0,\"ticks\":\"\"}},\"type\":\"scatterpolargl\"}],\"scatterpolar\":[{\"marker\":{\"colorbar\":{\"outlinewidth\":0,\"ticks\":\"\"}},\"type\":\"scatterpolar\"}],\"scatter\":[{\"marker\":{\"line\":{\"color\":\"#283442\"}},\"type\":\"scatter\"}],\"scatterternary\":[{\"marker\":{\"colorbar\":{\"outlinewidth\":0,\"ticks\":\"\"}},\"type\":\"scatterternary\"}],\"surface\":[{\"colorbar\":{\"outlinewidth\":0,\"ticks\":\"\"},\"colorscale\":[[0.0,\"#0d0887\"],[0.1111111111111111,\"#46039f\"],[0.2222222222222222,\"#7201a8\"],[0.3333333333333333,\"#9c179e\"],[0.4444444444444444,\"#bd3786\"],[0.5555555555555556,\"#d8576b\"],[0.6666666666666666,\"#ed7953\"],[0.7777777777777778,\"#fb9f3a\"],[0.8888888888888888,\"#fdca26\"],[1.0,\"#f0f921\"]],\"type\":\"surface\"}],\"table\":[{\"cells\":{\"fill\":{\"color\":\"#506784\"},\"line\":{\"color\":\"rgb(17,17,17)\"}},\"header\":{\"fill\":{\"color\":\"#2a3f5f\"},\"line\":{\"color\":\"rgb(17,17,17)\"}},\"type\":\"table\"}]},\"layout\":{\"annotationdefaults\":{\"arrowcolor\":\"#f2f5fa\",\"arrowhead\":0,\"arrowwidth\":1},\"autotypenumbers\":\"strict\",\"coloraxis\":{\"colorbar\":{\"outlinewidth\":0,\"ticks\":\"\"}},\"colorscale\":{\"diverging\":[[0,\"#8e0152\"],[0.1,\"#c51b7d\"],[0.2,\"#de77ae\"],[0.3,\"#f1b6da\"],[0.4,\"#fde0ef\"],[0.5,\"#f7f7f7\"],[0.6,\"#e6f5d0\"],[0.7,\"#b8e186\"],[0.8,\"#7fbc41\"],[0.9,\"#4d9221\"],[1,\"#276419\"]],\"sequential\":[[0.0,\"#0d0887\"],[0.1111111111111111,\"#46039f\"],[0.2222222222222222,\"#7201a8\"],[0.3333333333333333,\"#9c179e\"],[0.4444444444444444,\"#bd3786\"],[0.5555555555555556,\"#d8576b\"],[0.6666666666666666,\"#ed7953\"],[0.7777777777777778,\"#fb9f3a\"],[0.8888888888888888,\"#fdca26\"],[1.0,\"#f0f921\"]],\"sequentialminus\":[[0.0,\"#0d0887\"],[0.1111111111111111,\"#46039f\"],[0.2222222222222222,\"#7201a8\"],[0.3333333333333333,\"#9c179e\"],[0.4444444444444444,\"#bd3786\"],[0.5555555555555556,\"#d8576b\"],[0.6666666666666666,\"#ed7953\"],[0.7777777777777778,\"#fb9f3a\"],[0.8888888888888888,\"#fdca26\"],[1.0,\"#f0f921\"]]},\"colorway\":[\"#636efa\",\"#EF553B\",\"#00cc96\",\"#ab63fa\",\"#FFA15A\",\"#19d3f3\",\"#FF6692\",\"#B6E880\",\"#FF97FF\",\"#FECB52\"],\"font\":{\"color\":\"#f2f5fa\"},\"geo\":{\"bgcolor\":\"rgb(17,17,17)\",\"lakecolor\":\"rgb(17,17,17)\",\"landcolor\":\"rgb(17,17,17)\",\"showlakes\":true,\"showland\":true,\"subunitcolor\":\"#506784\"},\"hoverlabel\":{\"align\":\"left\"},\"hovermode\":\"closest\",\"mapbox\":{\"style\":\"dark\"},\"paper_bgcolor\":\"rgb(17,17,17)\",\"plot_bgcolor\":\"rgb(17,17,17)\",\"polar\":{\"angularaxis\":{\"gridcolor\":\"#506784\",\"linecolor\":\"#506784\",\"ticks\":\"\"},\"bgcolor\":\"rgb(17,17,17)\",\"radialaxis\":{\"gridcolor\":\"#506784\",\"linecolor\":\"#506784\",\"ticks\":\"\"}},\"scene\":{\"xaxis\":{\"backgroundcolor\":\"rgb(17,17,17)\",\"gridcolor\":\"#506784\",\"gridwidth\":2,\"linecolor\":\"#506784\",\"showbackground\":true,\"ticks\":\"\",\"zerolinecolor\":\"#C8D4E3\"},\"yaxis\":{\"backgroundcolor\":\"rgb(17,17,17)\",\"gridcolor\":\"#506784\",\"gridwidth\":2,\"linecolor\":\"#506784\",\"showbackground\":true,\"ticks\":\"\",\"zerolinecolor\":\"#C8D4E3\"},\"zaxis\":{\"backgroundcolor\":\"rgb(17,17,17)\",\"gridcolor\":\"#506784\",\"gridwidth\":2,\"linecolor\":\"#506784\",\"showbackground\":true,\"ticks\":\"\",\"zerolinecolor\":\"#C8D4E3\"}},\"shapedefaults\":{\"line\":{\"color\":\"#f2f5fa\"}},\"sliderdefaults\":{\"bgcolor\":\"#C8D4E3\",\"bordercolor\":\"rgb(17,17,17)\",\"borderwidth\":1,\"tickwidth\":0},\"ternary\":{\"aaxis\":{\"gridcolor\":\"#506784\",\"linecolor\":\"#506784\",\"ticks\":\"\"},\"baxis\":{\"gridcolor\":\"#506784\",\"linecolor\":\"#506784\",\"ticks\":\"\"},\"bgcolor\":\"rgb(17,17,17)\",\"caxis\":{\"gridcolor\":\"#506784\",\"linecolor\":\"#506784\",\"ticks\":\"\"}},\"title\":{\"x\":0.05},\"updatemenudefaults\":{\"bgcolor\":\"#506784\",\"borderwidth\":0},\"xaxis\":{\"automargin\":true,\"gridcolor\":\"#283442\",\"linecolor\":\"#506784\",\"ticks\":\"\",\"title\":{\"standoff\":15},\"zerolinecolor\":\"#283442\",\"zerolinewidth\":2},\"yaxis\":{\"automargin\":true,\"gridcolor\":\"#283442\",\"linecolor\":\"#506784\",\"ticks\":\"\",\"title\":{\"standoff\":15},\"zerolinecolor\":\"#283442\",\"zerolinewidth\":2}}},\"xaxis\":{\"anchor\":\"y\",\"domain\":[0.0,1.0],\"title\":{\"text\":\"Glucose\"}},\"yaxis\":{\"anchor\":\"x\",\"domain\":[0.0,1.0],\"title\":{\"text\":\"BloodPressure\"}},\"coloraxis\":{\"colorbar\":{\"title\":{\"text\":\"Outcome\"}},\"colorscale\":[[0.0,\"#0d0887\"],[0.1111111111111111,\"#46039f\"],[0.2222222222222222,\"#7201a8\"],[0.3333333333333333,\"#9c179e\"],[0.4444444444444444,\"#bd3786\"],[0.5555555555555556,\"#d8576b\"],[0.6666666666666666,\"#ed7953\"],[0.7777777777777778,\"#fb9f3a\"],[0.8888888888888888,\"#fdca26\"],[1.0,\"#f0f921\"]]},\"legend\":{\"tracegroupgap\":0},\"margin\":{\"t\":60}},                        {\"responsive\": true}                    ).then(function(){\n",
       "                            \n",
       "var gd = document.getElementById('b27abc6f-8312-4cb6-a7dd-efdcf1d08c72');\n",
       "var x = new MutationObserver(function (mutations, observer) {{\n",
       "        var display = window.getComputedStyle(gd).display;\n",
       "        if (!display || display === 'none') {{\n",
       "            console.log([gd, 'removed!']);\n",
       "            Plotly.purge(gd);\n",
       "            observer.disconnect();\n",
       "        }}\n",
       "}});\n",
       "\n",
       "// Listen for the removal of the full notebook cells\n",
       "var notebookContainer = gd.closest('#notebook-container');\n",
       "if (notebookContainer) {{\n",
       "    x.observe(notebookContainer, {childList: true});\n",
       "}}\n",
       "\n",
       "// Listen for the clearing of the current output cell\n",
       "var outputEl = gd.closest('.output');\n",
       "if (outputEl) {{\n",
       "    x.observe(outputEl, {childList: true});\n",
       "}}\n",
       "\n",
       "                        })                };                });            </script>        </div>"
      ]
     },
     "metadata": {},
     "output_type": "display_data"
    }
   ],
   "source": [
    "scatter('Glucose', 'BloodPressure')"
   ]
  },
  {
   "cell_type": "markdown",
   "id": "5af97448",
   "metadata": {},
   "source": [
    "繪製分布估計圖 觀察'隨機血壓'與'是否有糖尿病的關係'\n",
    "\n",
    "由此估計圖可以發現 兩條線幾乎重合\n",
    "\n",
    "可猜測:血壓高不一定會有糖尿病\n",
    "但有糖尿病的人血壓偏高"
   ]
  },
  {
   "cell_type": "code",
   "execution_count": 163,
   "id": "f1bb2f80",
   "metadata": {},
   "outputs": [
    {
     "data": {
      "image/png": "[encoded data removed]",
      "text/plain": [
       "<Figure size 1274.36x600 with 1 Axes>"
      ]
     },
     "metadata": {},
     "output_type": "display_data"
    }
   ],
   "source": [
    "kde('BloodPressure')"
   ]
  },
  {
   "cell_type": "markdown",
   "id": "c6dec1ec",
   "metadata": {},
   "source": [
    "在所有圖中，我發現 特徵 SkinThickness 三頭肌皮摺厚度 Insulin 胰島素濃度 BMI 等等數值皆不可能為0 \n",
    "但 Pregnancies懷孕 此數值可以為0，因此不能所有=0的資料都清整"
   ]
  },
  {
   "cell_type": "code",
   "execution_count": 164,
   "id": "95ad07af",
   "metadata": {},
   "outputs": [
    {
     "data": {
      "text/plain": [
       "Pregnancies                 0\n",
       "Glucose                     0\n",
       "BloodPressure               0\n",
       "SkinThickness               0\n",
       "Insulin                     0\n",
       "BMI                         0\n",
       "DiabetesPedigreeFunction    0\n",
       "Age                         0\n",
       "Outcome                     0\n",
       "dtype: int64"
      ]
     },
     "execution_count": 164,
     "metadata": {},
     "output_type": "execute_result"
    }
   ],
   "source": [
    "#檢查缺失值數量\n",
    "rowdata.isnull().sum(axis=0)"
   ]
  },
  {
   "cell_type": "code",
   "execution_count": 165,
   "id": "a7492404",
   "metadata": {},
   "outputs": [],
   "source": [
    "#移除缺失值 (可能會影響模型準確率，因此需要移除)\n",
    "# 本次直接移除有缺值的欄位\n",
    "\n",
    "rowdata.dropna(\n",
    "    axis=0,     # axis=0: 對行進行操作; axis=1: 對列進行操作\n",
    "    how='any',   # 'any': 只要存在 NaN 就 drop 掉; 'all': 必須全部是 NaN 才 drop \n",
    "    inplace=True)#是否在原資料上操作。如果為真，返回None否則返回新的copy，去掉了缺失值\n",
    "\n",
    "data = rowdata.reset_index(drop=True) # 刪除'列'資料後，需要reset資料的索引 index"
   ]
  },
  {
   "cell_type": "markdown",
   "id": "c7d3cf9e",
   "metadata": {},
   "source": [
    "刪除重複資料"
   ]
  },
  {
   "cell_type": "code",
   "execution_count": 166,
   "id": "3060da69",
   "metadata": {},
   "outputs": [],
   "source": [
    "rowdata.drop_duplicates(inplace=True)"
   ]
  },
  {
   "cell_type": "markdown",
   "id": "9c040aed",
   "metadata": {},
   "source": [
    " \"Glucose\", \"BloodPressure\", \"SkinThickness\", \"Insulin\", \"BMI\" 皆不可能為0 \n",
    " \n",
    "因此需要做資料清整\n",
    "，將0由'NAN'取代"
   ]
  },
  {
   "cell_type": "code",
   "execution_count": 167,
   "id": "6c95364d",
   "metadata": {},
   "outputs": [],
   "source": [
    "#NaN取代0 形成新資料集 rowdata_new\n",
    "rowdata_new=rowdata\n",
    "rowdata_new[[\"Glucose\", \"BloodPressure\", \"SkinThickness\", \"Insulin\", \"BMI\"]] = rowdata_new[[\"Glucose\", \"BloodPressure\", \"SkinThickness\", \"Insulin\", \"BMI\"]].replace(0, np.NaN) "
   ]
  },
  {
   "cell_type": "markdown",
   "id": "0bf92406",
   "metadata": {},
   "source": [
    "只刪除過多遺漏項目的樣本"
   ]
  },
  {
   "cell_type": "code",
   "execution_count": 168,
   "id": "ec0f4499",
   "metadata": {},
   "outputs": [
    {
     "data": {
      "text/plain": [
       "Pregnancies                   0\n",
       "Glucose                       5\n",
       "BloodPressure                35\n",
       "SkinThickness               227\n",
       "Insulin                     374\n",
       "BMI                          11\n",
       "DiabetesPedigreeFunction      0\n",
       "Age                           0\n",
       "Outcome                       0\n",
       "dtype: int64"
      ]
     },
     "execution_count": 168,
     "metadata": {},
     "output_type": "execute_result"
    }
   ],
   "source": [
    "#再次檢查缺失值數量\n",
    "rowdata_new.isnull().sum(axis=0)"
   ]
  },
  {
   "cell_type": "markdown",
   "id": "9f649630",
   "metadata": {},
   "source": [
    "由上圖發現 \"Insulin\", \"SkinThickness\"有太多缺失值，若直接刪除，資料量會少很多，因此使用 平均值 填補遺漏值"
   ]
  },
  {
   "cell_type": "code",
   "execution_count": 169,
   "id": "9d69d970",
   "metadata": {},
   "outputs": [],
   "source": [
    "#mean values取代NaN\n",
    "rowdata_new[\"SkinThickness\"].fillna(rowdata_new[\"SkinThickness\"].mean(), inplace = True)\n",
    "rowdata_new[\"Insulin\"].fillna(rowdata_new[\"Insulin\"].mean(), inplace = True)"
   ]
  },
  {
   "cell_type": "code",
   "execution_count": 170,
   "id": "e2564d35",
   "metadata": {},
   "outputs": [
    {
     "data": {
      "text/plain": [
       "Pregnancies                  0\n",
       "Glucose                      5\n",
       "BloodPressure               35\n",
       "SkinThickness                0\n",
       "Insulin                      0\n",
       "BMI                         11\n",
       "DiabetesPedigreeFunction     0\n",
       "Age                          0\n",
       "Outcome                      0\n",
       "dtype: int64"
      ]
     },
     "execution_count": 170,
     "metadata": {},
     "output_type": "execute_result"
    }
   ],
   "source": [
    "#再次檢查缺失值數量\n",
    "rowdata_new.isnull().sum()"
   ]
  },
  {
   "cell_type": "markdown",
   "id": "61665f70",
   "metadata": {},
   "source": [
    "將剩下資料量較小的缺失值 移除"
   ]
  },
  {
   "cell_type": "code",
   "execution_count": 171,
   "id": "97571510",
   "metadata": {},
   "outputs": [],
   "source": [
    "#移除缺失值 (可能會影響模型準確率，因此需要移除)\n",
    "# 本次直接移除有缺值的欄位\n",
    "\n",
    "rowdata_new.dropna(\n",
    "    axis=0,     # axis=0: 對行進行操作; axis=1: 對列進行操作\n",
    "    how='any',   # 'any': 只要存在 NaN 就 drop 掉; 'all': 必須全部是 NaN 才 drop \n",
    "    inplace=True)#是否在原資料上操作。如果為真，返回None否則返回新的copy，去掉了缺失值\n",
    "\n",
    "rowdata_new= rowdata_new.reset_index(drop=True) # 刪除'列'資料後，需要reset資料的索引 index"
   ]
  },
  {
   "cell_type": "code",
   "execution_count": 172,
   "id": "daeca950",
   "metadata": {},
   "outputs": [
    {
     "data": {
      "text/plain": [
       "Pregnancies                 0\n",
       "Glucose                     0\n",
       "BloodPressure               0\n",
       "SkinThickness               0\n",
       "Insulin                     0\n",
       "BMI                         0\n",
       "DiabetesPedigreeFunction    0\n",
       "Age                         0\n",
       "Outcome                     0\n",
       "dtype: int64"
      ]
     },
     "execution_count": 172,
     "metadata": {},
     "output_type": "execute_result"
    }
   ],
   "source": [
    "#再次檢查缺失值數量\n",
    "rowdata_new.isnull().sum()"
   ]
  },
  {
   "cell_type": "code",
   "execution_count": 173,
   "id": "8cb64fe8",
   "metadata": {},
   "outputs": [
    {
     "name": "stdout",
     "output_type": "stream",
     "text": [
      "     Pregnancies  Glucose  BloodPressure  SkinThickness     Insulin   BMI  \\\n",
      "0              6    148.0           72.0       35.00000  155.548223  33.6   \n",
      "1              1     85.0           66.0       29.00000  155.548223  26.6   \n",
      "2              8    183.0           64.0       29.15342  155.548223  23.3   \n",
      "3              1     89.0           66.0       23.00000   94.000000  28.1   \n",
      "4              0    137.0           40.0       35.00000  168.000000  43.1   \n",
      "..           ...      ...            ...            ...         ...   ...   \n",
      "719           10    101.0           76.0       48.00000  180.000000  32.9   \n",
      "720            2    122.0           70.0       27.00000  155.548223  36.8   \n",
      "721            5    121.0           72.0       23.00000  112.000000  26.2   \n",
      "722            1    126.0           60.0       29.15342  155.548223  30.1   \n",
      "723            1     93.0           70.0       31.00000  155.548223  30.4   \n",
      "\n",
      "     DiabetesPedigreeFunction  Age  Outcome  \n",
      "0                       0.627   50        1  \n",
      "1                       0.351   31        0  \n",
      "2                       0.672   32        1  \n",
      "3                       0.167   21        0  \n",
      "4                       2.288   33        1  \n",
      "..                        ...  ...      ...  \n",
      "719                     0.171   63        0  \n",
      "720                     0.340   27        0  \n",
      "721                     0.245   30        0  \n",
      "722                     0.349   47        1  \n",
      "723                     0.315   23        0  \n",
      "\n",
      "[724 rows x 9 columns]\n"
     ]
    }
   ],
   "source": [
    "#清整後的資料\n",
    "print(rowdata_new)"
   ]
  },
  {
   "cell_type": "markdown",
   "id": "6db2633a",
   "metadata": {},
   "source": [
    " * 區分特徵欄位與預測目標欄位:"
   ]
  },
  {
   "cell_type": "code",
   "execution_count": 174,
   "id": "f05e9853",
   "metadata": {},
   "outputs": [
    {
     "data": {
      "text/html": [
       "<div>\n",
       "<style scoped>\n",
       "    .dataframe tbody tr th:only-of-type {\n",
       "        vertical-align: middle;\n",
       "    }\n",
       "\n",
       "    .dataframe tbody tr th {\n",
       "        vertical-align: top;\n",
       "    }\n",
       "\n",
       "    .dataframe thead th {\n",
       "        text-align: right;\n",
       "    }\n",
       "</style>\n",
       "<table border=\"1\" class=\"dataframe\">\n",
       "  <thead>\n",
       "    <tr style=\"text-align: right;\">\n",
       "      <th></th>\n",
       "      <th>Pregnancies</th>\n",
       "      <th>Glucose</th>\n",
       "      <th>BloodPressure</th>\n",
       "      <th>SkinThickness</th>\n",
       "      <th>Insulin</th>\n",
       "      <th>BMI</th>\n",
       "      <th>DiabetesPedigreeFunction</th>\n",
       "      <th>Age</th>\n",
       "    </tr>\n",
       "  </thead>\n",
       "  <tbody>\n",
       "    <tr>\n",
       "      <th>0</th>\n",
       "      <td>6</td>\n",
       "      <td>148.0</td>\n",
       "      <td>72.0</td>\n",
       "      <td>35.00000</td>\n",
       "      <td>155.548223</td>\n",
       "      <td>33.6</td>\n",
       "      <td>0.627</td>\n",
       "      <td>50</td>\n",
       "    </tr>\n",
       "    <tr>\n",
       "      <th>1</th>\n",
       "      <td>1</td>\n",
       "      <td>85.0</td>\n",
       "      <td>66.0</td>\n",
       "      <td>29.00000</td>\n",
       "      <td>155.548223</td>\n",
       "      <td>26.6</td>\n",
       "      <td>0.351</td>\n",
       "      <td>31</td>\n",
       "    </tr>\n",
       "    <tr>\n",
       "      <th>2</th>\n",
       "      <td>8</td>\n",
       "      <td>183.0</td>\n",
       "      <td>64.0</td>\n",
       "      <td>29.15342</td>\n",
       "      <td>155.548223</td>\n",
       "      <td>23.3</td>\n",
       "      <td>0.672</td>\n",
       "      <td>32</td>\n",
       "    </tr>\n",
       "    <tr>\n",
       "      <th>3</th>\n",
       "      <td>1</td>\n",
       "      <td>89.0</td>\n",
       "      <td>66.0</td>\n",
       "      <td>23.00000</td>\n",
       "      <td>94.000000</td>\n",
       "      <td>28.1</td>\n",
       "      <td>0.167</td>\n",
       "      <td>21</td>\n",
       "    </tr>\n",
       "    <tr>\n",
       "      <th>4</th>\n",
       "      <td>0</td>\n",
       "      <td>137.0</td>\n",
       "      <td>40.0</td>\n",
       "      <td>35.00000</td>\n",
       "      <td>168.000000</td>\n",
       "      <td>43.1</td>\n",
       "      <td>2.288</td>\n",
       "      <td>33</td>\n",
       "    </tr>\n",
       "    <tr>\n",
       "      <th>...</th>\n",
       "      <td>...</td>\n",
       "      <td>...</td>\n",
       "      <td>...</td>\n",
       "      <td>...</td>\n",
       "      <td>...</td>\n",
       "      <td>...</td>\n",
       "      <td>...</td>\n",
       "      <td>...</td>\n",
       "    </tr>\n",
       "    <tr>\n",
       "      <th>719</th>\n",
       "      <td>10</td>\n",
       "      <td>101.0</td>\n",
       "      <td>76.0</td>\n",
       "      <td>48.00000</td>\n",
       "      <td>180.000000</td>\n",
       "      <td>32.9</td>\n",
       "      <td>0.171</td>\n",
       "      <td>63</td>\n",
       "    </tr>\n",
       "    <tr>\n",
       "      <th>720</th>\n",
       "      <td>2</td>\n",
       "      <td>122.0</td>\n",
       "      <td>70.0</td>\n",
       "      <td>27.00000</td>\n",
       "      <td>155.548223</td>\n",
       "      <td>36.8</td>\n",
       "      <td>0.340</td>\n",
       "      <td>27</td>\n",
       "    </tr>\n",
       "    <tr>\n",
       "      <th>721</th>\n",
       "      <td>5</td>\n",
       "      <td>121.0</td>\n",
       "      <td>72.0</td>\n",
       "      <td>23.00000</td>\n",
       "      <td>112.000000</td>\n",
       "      <td>26.2</td>\n",
       "      <td>0.245</td>\n",
       "      <td>30</td>\n",
       "    </tr>\n",
       "    <tr>\n",
       "      <th>722</th>\n",
       "      <td>1</td>\n",
       "      <td>126.0</td>\n",
       "      <td>60.0</td>\n",
       "      <td>29.15342</td>\n",
       "      <td>155.548223</td>\n",
       "      <td>30.1</td>\n",
       "      <td>0.349</td>\n",
       "      <td>47</td>\n",
       "    </tr>\n",
       "    <tr>\n",
       "      <th>723</th>\n",
       "      <td>1</td>\n",
       "      <td>93.0</td>\n",
       "      <td>70.0</td>\n",
       "      <td>31.00000</td>\n",
       "      <td>155.548223</td>\n",
       "      <td>30.4</td>\n",
       "      <td>0.315</td>\n",
       "      <td>23</td>\n",
       "    </tr>\n",
       "  </tbody>\n",
       "</table>\n",
       "<p>724 rows × 8 columns</p>\n",
       "</div>"
      ],
      "text/plain": [
       "     Pregnancies  Glucose  BloodPressure  SkinThickness     Insulin   BMI  \\\n",
       "0              6    148.0           72.0       35.00000  155.548223  33.6   \n",
       "1              1     85.0           66.0       29.00000  155.548223  26.6   \n",
       "2              8    183.0           64.0       29.15342  155.548223  23.3   \n",
       "3              1     89.0           66.0       23.00000   94.000000  28.1   \n",
       "4              0    137.0           40.0       35.00000  168.000000  43.1   \n",
       "..           ...      ...            ...            ...         ...   ...   \n",
       "719           10    101.0           76.0       48.00000  180.000000  32.9   \n",
       "720            2    122.0           70.0       27.00000  155.548223  36.8   \n",
       "721            5    121.0           72.0       23.00000  112.000000  26.2   \n",
       "722            1    126.0           60.0       29.15342  155.548223  30.1   \n",
       "723            1     93.0           70.0       31.00000  155.548223  30.4   \n",
       "\n",
       "     DiabetesPedigreeFunction  Age  \n",
       "0                       0.627   50  \n",
       "1                       0.351   31  \n",
       "2                       0.672   32  \n",
       "3                       0.167   21  \n",
       "4                       2.288   33  \n",
       "..                        ...  ...  \n",
       "719                     0.171   63  \n",
       "720                     0.340   27  \n",
       "721                     0.245   30  \n",
       "722                     0.349   47  \n",
       "723                     0.315   23  \n",
       "\n",
       "[724 rows x 8 columns]"
      ]
     },
     "execution_count": 174,
     "metadata": {},
     "output_type": "execute_result"
    }
   ],
   "source": [
    "x_features = rowdata_new.iloc[:,:-1] #從清整後trainingda拆fres\n",
    "y_label= rowdata_new.iloc[:,-1]#從清整後trainingdata拆出label\n",
    "x_features"
   ]
  },
  {
   "cell_type": "markdown",
   "id": "99d7a537",
   "metadata": {},
   "source": [
    "### 2. 模型開發步驟\n"
   ]
  },
  {
   "cell_type": "markdown",
   "id": "2b70a549",
   "metadata": {},
   "source": [
    "• 使用交叉驗證評估模型"
   ]
  },
  {
   "cell_type": "markdown",
   "id": "b02b46e2",
   "metadata": {},
   "source": []
  },
  {
   "cell_type": "markdown",
   "id": "11daa560",
   "metadata": {},
   "source": [
    "因為資料量有724筆，使用k-fold交叉驗證評估模型"
   ]
  },
  {
   "cell_type": "code",
   "execution_count": 175,
   "id": "7e1b023d",
   "metadata": {},
   "outputs": [],
   "source": [
    "from sklearn.model_selection import KFold #本範例用k-fold來做所importpythonFo式\n",
    "\n",
    "#定義叉驗(本範例用k-fd做)\n",
    "kf = KFold(n_splits=5, shuffle=True, random_state=42) #sample random 成5分"
   ]
  },
  {
   "cell_type": "markdown",
   "id": "43e0dee5",
   "metadata": {},
   "source": [
    "* 選擇模型"
   ]
  },
  {
   "cell_type": "code",
   "execution_count": 176,
   "id": "ce42444a",
   "metadata": {},
   "outputs": [],
   "source": [
    "from sklearn.linear_model import LinearRegression\n",
    "\n",
    "#本範例選擇線性回歸模型 y=a*x+b\n",
    "model = LinearRegression()"
   ]
  },
  {
   "cell_type": "markdown",
   "id": "8540d268",
   "metadata": {},
   "source": [
    "* 執行K-fold 交叉驗證"
   ]
  },
  {
   "cell_type": "code",
   "execution_count": 177,
   "id": "04a8e618",
   "metadata": {},
   "outputs": [],
   "source": [
    "#執行kfold叉驗證\n",
    "test_bias = []\n",
    "test_variance =[]\n",
    "train_errors =[]\n",
    "test_errors =[]\n",
    "for train_index,test_index in kf.split(x_features):\n",
    "    #拆分數據集為訓練集和測試集\n",
    "    x_train, y_train = x_features.iloc[train_index],y_label[train_index]\n",
    "    x_test, y_test = x_features.iloc[test_index], y_label[test_index]\n",
    "    #訓練模\n",
    "    model.fit(x_train, y_train)\n",
    "    y_train_pred = model.predict(x_train)# 預測訓練集資料\n",
    "    y_test_pred =model.predict(x_test)# 預測測試集資料\n",
    "    "
   ]
  },
  {
   "cell_type": "markdown",
   "id": "ce02b215",
   "metadata": {},
   "source": [
    "計算偏差Bias和變異性Variance"
   ]
  },
  {
   "cell_type": "code",
   "execution_count": 178,
   "id": "4d9d4575",
   "metadata": {},
   "outputs": [],
   "source": [
    "#計算偏差Bias和變異性Variance(寫法1)\n",
    "bias = np.sum((y_test_pred - np.mean(y_test)) ** 2) / len(y_test_pred)\n",
    "variance = np.sum((y_test_pred - np.mean(y_test_pred)) ** 2) / len(y_test_pred)\n",
    "\n",
    "test_bias.append(bias)\n",
    "test_variance.append(variance)\n",
    "#計算訓練和測試的誤差\n",
    "train_error = np.sum((y_train_pred - y_train) ** 2) / len(y_train_pred)\n",
    "test_error = np.sum((y_test_pred - y_test) **2) / len(y_test_pred)\n",
    "train_errors.append(train_error)\n",
    "test_errors.append(test_error)"
   ]
  },
  {
   "cell_type": "code",
   "execution_count": 179,
   "id": "76000073",
   "metadata": {},
   "outputs": [
    {
     "name": "stdout",
     "output_type": "stream",
     "text": [
      "Bias: [0.07099971349504036]\n",
      "Variance: [0.07046347434900922]\n",
      "平均訓練誤差: 0.15469828944401456\n",
      "平均測試誤差: 0.15297597441780747\n"
     ]
    }
   ],
   "source": [
    "#輸出bias and variance\n",
    "print(\"Bias:\",test_bias)\n",
    "print(\"Variance:\",test_variance)\n",
    "#輸出平均訓練和測試誤差\n",
    "print(\"平均訓練誤差:\", sum(train_errors) / len(train_errors))\n",
    "print(\"平均測試誤差:\", sum(test_errors)/ len(test_errors))"
   ]
  },
  {
   "cell_type": "markdown",
   "id": "12608a85",
   "metadata": {},
   "source": [
    "• 分析你選擇的模型(Bias variance等)"
   ]
  },
  {
   "cell_type": "markdown",
   "id": "a54e7c5e",
   "metadata": {},
   "source": [
    "Bias variance接近0，可以說線性回歸在此資料上是好的模型\n",
    "\n",
    "訓練誤差稍微高於測試的誤差的部分可以使用簡單模型或增加特徵來減少誤差"
   ]
  },
  {
   "cell_type": "markdown",
   "id": "10cc70c5",
   "metadata": {},
   "source": [
    "* 計算模型的准準確率 accuracy score"
   ]
  },
  {
   "cell_type": "markdown",
   "id": "a871dabc",
   "metadata": {},
   "source": [
    "測試集與預測結果資料型態不同\n",
    "測試集 :int\n",
    "預測結果 :float"
   ]
  },
  {
   "cell_type": "code",
   "execution_count": 180,
   "id": "e794cb1d",
   "metadata": {},
   "outputs": [
    {
     "data": {
      "text/plain": [
       "dtype('int64')"
      ]
     },
     "execution_count": 180,
     "metadata": {},
     "output_type": "execute_result"
    }
   ],
   "source": [
    "y_test.dtypes\n"
   ]
  },
  {
   "cell_type": "code",
   "execution_count": 181,
   "id": "b57c89b8",
   "metadata": {
    "scrolled": true
   },
   "outputs": [
    {
     "data": {
      "text/plain": [
       "array([-0.04192116,  0.82138478,  0.40798158,  0.2207705 ,  0.31028704,\n",
       "        0.65368489,  0.42107771,  0.18424798,  0.37814308,  0.18250351,\n",
       "        0.94070226,  0.08088991,  0.85565247,  0.35853764,  0.4542441 ,\n",
       "        0.37108352,  0.23233127,  0.69948435,  0.35590572,  0.51384273,\n",
       "        0.46896488, -0.08977333, -0.16580772,  0.45364234,  0.58269422,\n",
       "        0.05442719,  0.67223874,  0.20799217,  0.10940608,  0.29922748,\n",
       "        0.21480313,  0.33177082,  0.28068367,  0.25549868,  0.16386446,\n",
       "        0.18027408,  0.13364833, -0.04539481,  0.41129857,  0.43008724,\n",
       "       -0.04154294,  0.78611054,  0.50844497,  0.37247903,  0.1709526 ,\n",
       "        0.67724159,  0.34553928,  0.59456795,  0.4308075 ,  0.03980923,\n",
       "        0.31433539,  0.23355096,  0.25487488,  0.32846127,  0.52672092,\n",
       "        0.47503794,  0.58059224,  0.31777079,  0.58102849,  0.35440268,\n",
       "        0.40865723,  0.32604936,  0.43213568,  0.23575377, -0.03974776,\n",
       "        0.74496642,  0.35767507,  0.29370794, -0.0755186 ,  0.16991004,\n",
       "        0.1729313 ,  0.46299909,  0.08315931,  0.68267833,  0.22909049,\n",
       "        0.27468902,  0.53654508,  0.10781004,  0.0293213 ,  0.72857352,\n",
       "       -0.03134042,  0.67934388,  1.29263541,  0.87220177,  0.04982174,\n",
       "        0.03528836,  0.43878925,  0.05317979,  0.88543697,  0.14493391,\n",
       "        0.08549867,  0.00891513,  0.3238867 ,  0.65726968,  0.28893484,\n",
       "        0.11923917,  0.62464275,  0.29329799,  0.28140008, -0.07537225,\n",
       "        0.35028617, -0.12398228,  0.46070487,  0.12027569,  0.80786086,\n",
       "        0.27220539,  0.18157372,  0.33606763,  0.15398732,  0.8056176 ,\n",
       "        0.27183113,  0.42645258,  0.10356683,  0.09528222,  0.6303327 ,\n",
       "        0.10382241,  0.05024177,  0.17142169,  0.70649661,  0.69752314,\n",
       "        0.77473553,  0.07153609,  0.11806423, -0.08394107, -0.03472047,\n",
       "        0.28387308,  0.36277272,  0.13721528,  0.47112543,  0.17786809,\n",
       "        0.3772856 ,  0.54485171,  0.19659728,  0.11557736,  0.14092142,\n",
       "        0.29222549,  0.28898782,  0.19452902,  0.35539078,  0.91031701,\n",
       "        0.33122259,  0.47648004,  0.91994467,  0.23003213])"
      ]
     },
     "execution_count": 181,
     "metadata": {},
     "output_type": "execute_result"
    }
   ],
   "source": [
    "y_test_pred"
   ]
  },
  {
   "cell_type": "markdown",
   "id": "bbce0e11",
   "metadata": {},
   "source": [
    "預測測試資料須轉換成同型態"
   ]
  },
  {
   "cell_type": "code",
   "execution_count": 182,
   "id": "6aa0f7dc",
   "metadata": {},
   "outputs": [
    {
     "name": "stdout",
     "output_type": "stream",
     "text": [
      "Accuracy :  79.0 %\n"
     ]
    }
   ],
   "source": [
    "from sklearn.metrics import accuracy_score\n",
    "\n",
    "# 預測測試資料須四捨五入成 0,1\n",
    "y_test_pred =np.around(y_test_pred ,0).astype(int) \n",
    "\n",
    "accuracy=accuracy_score(y_test, y_test_pred)\n",
    "print(\"Accuracy : \",round(accuracy,2)*100,'%')"
   ]
  },
  {
   "cell_type": "markdown",
   "id": "586337ce",
   "metadata": {},
   "source": [
    "正確率為79%，可知此模型算是好的，可以再增加數據集或是測試其他模型來優化"
   ]
  }
 ],
 "metadata": {
  "kernelspec": {
   "display_name": "Python 3 (ipykernel)",
   "language": "python",
   "name": "python3"
  },
  "language_info": {
   "codemirror_mode": {
    "name": "ipython",
    "version": 3
   },
   "file_extension": ".py",
   "mimetype": "text/x-python",
   "name": "python",
   "nbconvert_exporter": "python",
   "pygments_lexer": "ipython3",
   "version": "3.9.16"
  }
 },
 "nbformat": 4,
 "nbformat_minor": 5
}
