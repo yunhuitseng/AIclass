{
 "cells": [
  {
   "cell_type": "markdown",
   "id": "881b9d71",
   "metadata": {
    "id": "881b9d71"
   },
   "source": [
    "# 作業目標:\n",
    "## 利用手寫辨識資料說明MLP 中, 神經網路層的多寡跟預測結果的差異"
   ]
  },
  {
   "cell_type": "markdown",
   "id": "0a7c46bb",
   "metadata": {
    "id": "0a7c46bb"
   },
   "source": [
    "# 作業重點:\n",
    "## 請新增兩層MLP與三層MLP看看最後預測結果與一層的MLP是否有差異\n",
    "## 請詳細說明修改的程式碼位置與你覺得為什麼會有差異?\n",
    "## 請注意!!! 每一個block code都一定要在自己本機執行過後再上傳到雲端學院與github\n",
    "## 請注意!!! ipynb檔名:Pytorch_Mnist_MLP_HW_學號.ipynb"
   ]
  },
  {
   "cell_type": "markdown",
   "id": "55d7b78d",
   "metadata": {
    "id": "55d7b78d"
   },
   "source": [
    "參考程式: https://github.com/iam-mhaseeb/Multi-Layer-Perceptron-MNIST-with-PyTorch/blob/master/mnist_mlp_exercise.ipynb"
   ]
  },
  {
   "cell_type": "code",
   "execution_count": 1,
   "id": "8ed8cf83",
   "metadata": {
    "id": "8ed8cf83"
   },
   "outputs": [],
   "source": [
    "# import libraries\n",
    "import torch\n",
    "import numpy as np"
   ]
  },
  {
   "cell_type": "code",
   "execution_count": 2,
   "id": "2c2d15a1",
   "metadata": {
    "colab": {
     "base_uri": "https://localhost:8080/"
    },
    "id": "2c2d15a1",
    "outputId": "aee710da-9285-49b8-fc13-405a3dd82e50"
   },
   "outputs": [
    {
     "name": "stdout",
     "output_type": "stream",
     "text": [
      "Downloading http://yann.lecun.com/exdb/mnist/train-images-idx3-ubyte.gz\n",
      "Downloading http://yann.lecun.com/exdb/mnist/train-images-idx3-ubyte.gz to data/MNIST/raw/train-images-idx3-ubyte.gz\n"
     ]
    },
    {
     "name": "stderr",
     "output_type": "stream",
     "text": [
      "100%|██████████| 9912422/9912422 [00:00<00:00, 228642747.32it/s]"
     ]
    },
    {
     "name": "stdout",
     "output_type": "stream",
     "text": [
      "Extracting data/MNIST/raw/train-images-idx3-ubyte.gz to data/MNIST/raw\n"
     ]
    },
    {
     "name": "stderr",
     "output_type": "stream",
     "text": [
      "\n"
     ]
    },
    {
     "name": "stdout",
     "output_type": "stream",
     "text": [
      "\n",
      "Downloading http://yann.lecun.com/exdb/mnist/train-labels-idx1-ubyte.gz\n",
      "Downloading http://yann.lecun.com/exdb/mnist/train-labels-idx1-ubyte.gz to data/MNIST/raw/train-labels-idx1-ubyte.gz\n"
     ]
    },
    {
     "name": "stderr",
     "output_type": "stream",
     "text": [
      "100%|██████████| 28881/28881 [00:00<00:00, 39651618.27it/s]\n"
     ]
    },
    {
     "name": "stdout",
     "output_type": "stream",
     "text": [
      "Extracting data/MNIST/raw/train-labels-idx1-ubyte.gz to data/MNIST/raw\n",
      "\n",
      "Downloading http://yann.lecun.com/exdb/mnist/t10k-images-idx3-ubyte.gz\n",
      "Downloading http://yann.lecun.com/exdb/mnist/t10k-images-idx3-ubyte.gz to data/MNIST/raw/t10k-images-idx3-ubyte.gz\n"
     ]
    },
    {
     "name": "stderr",
     "output_type": "stream",
     "text": [
      "100%|██████████| 1648877/1648877 [00:00<00:00, 67469478.23it/s]"
     ]
    },
    {
     "name": "stdout",
     "output_type": "stream",
     "text": [
      "Extracting data/MNIST/raw/t10k-images-idx3-ubyte.gz to data/MNIST/raw\n",
      "\n",
      "Downloading http://yann.lecun.com/exdb/mnist/t10k-labels-idx1-ubyte.gz\n"
     ]
    },
    {
     "name": "stderr",
     "output_type": "stream",
     "text": [
      "\n"
     ]
    },
    {
     "name": "stdout",
     "output_type": "stream",
     "text": [
      "Downloading http://yann.lecun.com/exdb/mnist/t10k-labels-idx1-ubyte.gz to data/MNIST/raw/t10k-labels-idx1-ubyte.gz\n"
     ]
    },
    {
     "name": "stderr",
     "output_type": "stream",
     "text": [
      "100%|██████████| 4542/4542 [00:00<00:00, 23783431.67it/s]\n"
     ]
    },
    {
     "name": "stdout",
     "output_type": "stream",
     "text": [
      "Extracting data/MNIST/raw/t10k-labels-idx1-ubyte.gz to data/MNIST/raw\n",
      "\n"
     ]
    }
   ],
   "source": [
    "from torchvision import datasets\n",
    "import torchvision.transforms as transforms\n",
    "\n",
    "# number of subprocesses to use for data loading\n",
    "num_workers = 0\n",
    "# how many samples per batch to load\n",
    "batch_size = 20\n",
    "\n",
    "# convert data to torch.FloatTensor\n",
    "transform = transforms.ToTensor()\n",
    "\n",
    "# choose the training and test datasets\n",
    "train_data = datasets.MNIST(root='data', train=True,\n",
    "                                   download=True, transform=transform)\n",
    "test_data = datasets.MNIST(root='data', train=False,\n",
    "                                  download=True, transform=transform)\n",
    "\n",
    "# prepare data loaders\n",
    "train_loader = torch.utils.data.DataLoader(train_data, batch_size=batch_size,\n",
    "    num_workers=num_workers)\n",
    "test_loader = torch.utils.data.DataLoader(test_data, batch_size=batch_size, \n",
    "    num_workers=num_workers)"
   ]
  },
  {
   "cell_type": "code",
   "execution_count": 3,
   "id": "bf0ede2c",
   "metadata": {
    "colab": {
     "base_uri": "https://localhost:8080/",
     "height": 266
    },
    "id": "bf0ede2c",
    "outputId": "e7973335-e64d-4536-eed1-67515d7ed825"
   },
   "outputs": [
    {
     "data": {
      "image/png": "[encoded data removed]",
      "text/plain": [
       "<Figure size 2500x400 with 20 Axes>"
      ]
     },
     "metadata": {},
     "output_type": "display_data"
    }
   ],
   "source": [
    "import matplotlib.pyplot as plt\n",
    "%matplotlib inline\n",
    "    \n",
    "# obtain one batch of training images\n",
    "dataiter = iter(train_loader)\n",
    "images, labels = dataiter.__next__()\n",
    "images = images.numpy()\n",
    "\n",
    "# plot the images in the batch, along with the corresponding labels\n",
    "fig = plt.figure(figsize=(25, 4))\n",
    "for idx in np.arange(20):\n",
    "    ax = fig.add_subplot(2, int(20/2), idx+1, xticks=[], yticks=[])\n",
    "    ax.imshow(np.squeeze(images[idx]), cmap='gray')\n",
    "    # print out the correct label for each image\n",
    "    # .item() gets the value contained in a Tensor\n",
    "    ax.set_title(str(labels[idx].item()))"
   ]
  },
  {
   "cell_type": "markdown",
   "id": "ec9fe8bd",
   "metadata": {
    "id": "ec9fe8bd"
   },
   "source": [
    "## Define the Network Architecture\n",
    "    這個MLP架構將每個影像的784張量(pixel)視為輸入，並生成一個長度為10（class number）的張量。這個例子使用了兩個hidden layer和dropout 來避免overfitting"
   ]
  },
  {
   "cell_type": "markdown",
   "id": "81521215",
   "metadata": {
    "id": "81521215"
   },
   "source": [
    "單層 MLP"
   ]
  },
  {
   "cell_type": "code",
   "execution_count": 4,
   "id": "26ea6375",
   "metadata": {
    "colab": {
     "base_uri": "https://localhost:8080/"
    },
    "id": "26ea6375",
    "outputId": "679bce99-bd02-42ba-ff0a-6630e4fcccc7"
   },
   "outputs": [
    {
     "name": "stdout",
     "output_type": "stream",
     "text": [
      "Net(\n",
      "  (fc1): Linear(in_features=784, out_features=512, bias=True)\n",
      "  (fc2): Linear(in_features=512, out_features=512, bias=True)\n",
      "  (fc3): Linear(in_features=512, out_features=10, bias=True)\n",
      "  (dropout): Dropout(p=0.2, inplace=False)\n",
      ")\n"
     ]
    }
   ],
   "source": [
    "import torch.nn as nn\n",
    "import torch.nn.functional as F\n",
    "\n",
    "## Define the NN architecture 單層 mlp\n",
    "class Net(nn.Module):\n",
    "    def __init__(self):\n",
    "        super(Net, self).__init__()\n",
    "        self.fc1 = nn.Linear(28 * 28, 512)\n",
    "        # linear layer (n_hidden -> hidden_2)\n",
    "        self.fc2 = nn.Linear(512, 512)\n",
    "        # linear layer (n_hidden -> 10)\n",
    "        self.fc3 = nn.Linear(512, 10)\n",
    "        # dropout layer (p=0.2)\n",
    "        # dropout prevents overfitting of data\n",
    "        self.dropout = nn.Dropout(0.2)\n",
    "\n",
    "    def forward(self, x):\n",
    "        # flatten image input\n",
    "        x = x.view(-1, 28 * 28)\n",
    "        # add hidden layer, with relu activation function \n",
    "        x = F.relu(self.fc1(x))\n",
    "        return x\n",
    "\n",
    "# initialize the NN\n",
    "model = Net()\n",
    "print(model)"
   ]
  },
  {
   "cell_type": "markdown",
   "id": "d6ebf7b4",
   "metadata": {
    "id": "d6ebf7b4"
   },
   "source": [
    "二層 MLP"
   ]
  },
  {
   "cell_type": "code",
   "execution_count": 1,
   "id": "1812726f",
   "metadata": {
    "colab": {
     "base_uri": "https://localhost:8080/"
    },
    "id": "1812726f",
    "outputId": "3a077d67-2cc1-43a1-e3dd-5d4ff21c8cb6"
   },
   "outputs": [
    {
     "name": "stdout",
     "output_type": "stream",
     "text": [
      "Net2Layers(\n",
      "  (fc1): Linear(in_features=784, out_features=512, bias=True)\n",
      "  (fc2): Linear(in_features=512, out_features=512, bias=True)\n",
      "  (fc3): Linear(in_features=512, out_features=10, bias=True)\n",
      "  (dropout): Dropout(p=0.2, inplace=False)\n",
      ")\n"
     ]
    }
   ],
   "source": [
    "import torch.nn as nn\n",
    "import torch.nn.functional as F\n",
    "\n",
    "class Net2Layers(nn.Module):\n",
    "    def __init__(self):\n",
    "        super(Net2Layers, self).__init__()\n",
    "        self.fc1 = nn.Linear(28 * 28, 512)  # 第一個全連接層，輸入維度為 28 * 28，輸出維度為 512\n",
    "        self.fc2 = nn.Linear(512, 512) # 第二個全連接層，輸入維度為 512，輸出維度為 512\n",
    "        self.fc3 = nn.Linear(512, 10) # 第三個全連接層，輸入維度為 512，輸出維度為 10\n",
    "        self.dropout = nn.Dropout(0.2)  # Dropout 層，機率為 0.2，用於防止過擬合\n",
    "\n",
    "    def forward(self, x):\n",
    "        x = x.view(-1, 28 * 28) # 將輸入的圖像展平成向量\n",
    "        # 兩層\n",
    "        x = F.relu(self.fc1(x)) # 使用 ReLU 激活函數的第一個隱藏層\n",
    "        x = F.relu(self.fc2(x)) # 使用 ReLU 激活函數的第二個隱藏層\n",
    "        return x\n",
    "    \n",
    "# 初始化模型\n",
    "model_2layers = Net2Layers()\n",
    "print(model_2layers)"
   ]
  },
  {
   "cell_type": "markdown",
   "id": "9b4bd54a",
   "metadata": {
    "id": "9b4bd54a"
   },
   "source": [
    "三層 MLP"
   ]
  },
  {
   "cell_type": "code",
   "execution_count": 2,
   "id": "886bc761",
   "metadata": {
    "colab": {
     "base_uri": "https://localhost:8080/"
    },
    "id": "886bc761",
    "outputId": "0dcb6bae-436f-4abe-e59f-bd24617147b0"
   },
   "outputs": [
    {
     "name": "stdout",
     "output_type": "stream",
     "text": [
      "Net2Layers(\n",
      "  (fc1): Linear(in_features=784, out_features=512, bias=True)\n",
      "  (fc2): Linear(in_features=512, out_features=512, bias=True)\n",
      "  (fc3): Linear(in_features=512, out_features=10, bias=True)\n",
      "  (dropout): Dropout(p=0.2, inplace=False)\n",
      ")\n"
     ]
    }
   ],
   "source": [
    "import torch.nn as nn\n",
    "import torch.nn.functional as F\n",
    "\n",
    "class Net3Layers(nn.Module):\n",
    "    def __init__(self):\n",
    "        super(Net3Layers, self).__init__()\n",
    "        self.fc1 = nn.Linear(28 * 28, 512)\n",
    "        self.fc2 = nn.Linear(512, 512)\n",
    "        self.fc3 = nn.Linear(512, 512)\n",
    "        self.fc4 = nn.Linear(512, 10)\n",
    "        self.dropout = nn.Dropout(0.2)\n",
    "\n",
    "    def forward(self, x):\n",
    "        x = x.view(-1, 28 * 28)\n",
    "        # 三層\n",
    "        x = F.relu(self.fc1(x))\n",
    "        x = F.relu(self.fc2(x))\n",
    "        x = F.relu(self.fc3(x))\n",
    "        return x\n",
    "    \n",
    "# 初始化模型\n",
    "model_3layers = Net3Layers()\n",
    "print(model_2layers)"
   ]
  },
  {
   "cell_type": "markdown",
   "id": "e1dc7c67",
   "metadata": {
    "id": "e1dc7c67"
   },
   "source": [
    "## 定義loss function and optimizer (這裡選擇SGD)"
   ]
  },
  {
   "cell_type": "code",
   "execution_count": 7,
   "id": "86653f93",
   "metadata": {
    "id": "86653f93"
   },
   "outputs": [],
   "source": [
    "\n",
    "## Specify loss and optimization functions\n",
    "\n",
    "# specify loss function 設定損失函數\n",
    "criterion = nn.CrossEntropyLoss()\n",
    "\n",
    "# specify optimizer 設定分別的優化器\n",
    "optimizer = torch.optim.SGD(model.parameters(), lr=0.01)\n",
    "optimizer_2layers = torch.optim.SGD(model_2layers.parameters(), lr=0.01)\n",
    "optimizer_3layers = torch.optim.SGD(model_3layers.parameters(), lr=0.01)"
   ]
  },
  {
   "cell_type": "markdown",
   "id": "663c13fa",
   "metadata": {
    "id": "663c13fa"
   },
   "source": [
    "## Training Model"
   ]
  },
  {
   "cell_type": "markdown",
   "id": "207bee93",
   "metadata": {
    "id": "207bee93"
   },
   "source": [
    "單層 MLP"
   ]
  },
  {
   "cell_type": "code",
   "execution_count": 8,
   "id": "079946c0",
   "metadata": {
    "colab": {
     "base_uri": "https://localhost:8080/"
    },
    "id": "079946c0",
    "outputId": "f4eada31-c738-49f4-cebb-a3dde954fee7"
   },
   "outputs": [
    {
     "name": "stdout",
     "output_type": "stream",
     "text": [
      "Epoch: 1 \tTraining Loss: 0.793856\n",
      "Epoch: 2 \tTraining Loss: 0.411733\n",
      "Epoch: 3 \tTraining Loss: 0.370092\n",
      "Epoch: 4 \tTraining Loss: 0.349000\n",
      "Epoch: 5 \tTraining Loss: 0.335553\n",
      "Epoch: 6 \tTraining Loss: 0.325974\n",
      "Epoch: 7 \tTraining Loss: 0.318684\n",
      "Epoch: 8 \tTraining Loss: 0.312884\n",
      "Epoch: 9 \tTraining Loss: 0.308120\n",
      "Epoch: 10 \tTraining Loss: 0.304112\n"
     ]
    }
   ],
   "source": [
    "# number of epochs to train the model\n",
    "n_epochs = 10  # suggest training between 20-50 epochs\n",
    "\n",
    "model.train() # prep model for training\n",
    "\n",
    "\n",
    "\n",
    "for epoch in range(n_epochs):\n",
    "    # monitor training loss\n",
    "    train_loss = 0.0\n",
    "    \n",
    "    ###################\n",
    "    # train the model #\n",
    "    ###################\n",
    "    for data, target in train_loader:\n",
    "        # clear the gradients of all optimized variables\n",
    "        optimizer.zero_grad()\n",
    "        # forward pass: compute predicted outputs by passing inputs to the model\n",
    "        output = model(data)\n",
    "        # calculate the loss\n",
    "        loss = criterion(output, target)\n",
    "        # backward pass: compute gradient of the loss with respect to model parameters\n",
    "        loss.backward()\n",
    "        # perform a single optimization step (parameter update)\n",
    "        optimizer.step()\n",
    "        # update running training loss\n",
    "        train_loss += loss.item()*data.size(0)\n",
    "        \n",
    "    # print training statistics \n",
    "    # calculate average loss over an epoch\n",
    "    train_loss = train_loss/len(train_loader.dataset)\n",
    "\n",
    "    print('Epoch: {} \\tTraining Loss: {:.6f}'.format(\n",
    "        epoch+1, \n",
    "        train_loss\n",
    "        ))"
   ]
  },
  {
   "cell_type": "markdown",
   "id": "26d87eac",
   "metadata": {
    "id": "26d87eac"
   },
   "source": [
    "二層 MLP"
   ]
  },
  {
   "cell_type": "code",
   "execution_count": 14,
   "id": "f465b246",
   "metadata": {
    "colab": {
     "base_uri": "https://localhost:8080/"
    },
    "id": "f465b246",
    "outputId": "f537495a-d0fb-4cd3-88a8-5752a18c7c69"
   },
   "outputs": [
    {
     "name": "stdout",
     "output_type": "stream",
     "text": [
      "Epoch: 1 \tTraining Loss: 0.133855\n",
      "Epoch: 2 \tTraining Loss: 0.124534\n",
      "Epoch: 3 \tTraining Loss: 0.116290\n",
      "Epoch: 4 \tTraining Loss: 0.108952\n",
      "Epoch: 5 \tTraining Loss: 0.102383\n",
      "Epoch: 6 \tTraining Loss: 0.096483\n",
      "Epoch: 7 \tTraining Loss: 0.091151\n",
      "Epoch: 8 \tTraining Loss: 0.086316\n",
      "Epoch: 9 \tTraining Loss: 0.081898\n",
      "Epoch: 10 \tTraining Loss: 0.077854\n"
     ]
    }
   ],
   "source": [
    "# number of epochs to train the model\n",
    "n_epochs = 10  # suggest training between 20-50 epochs\n",
    "\n",
    "model_2layers.train() # prep model for training\n",
    "\n",
    "\n",
    "\n",
    "for epoch in range(n_epochs):\n",
    "    # monitor training loss\n",
    "    train_loss = 0.0\n",
    "    \n",
    "    ###################\n",
    "    # train the model #\n",
    "    ###################\n",
    "    for data, target in train_loader:\n",
    "        # clear the gradients of all optimized variables\n",
    "        optimizer_2layers.zero_grad()\n",
    "        # forward pass: compute predicted outputs by passing inputs to the model\n",
    "        output = model_2layers(data)\n",
    "        # calculate the loss\n",
    "        loss = criterion(output, target)\n",
    "        # backward pass: compute gradient of the loss with respect to model parameters\n",
    "        loss.backward()\n",
    "        # perform a single optimization step (parameter update)\n",
    "        optimizer_2layers.step()\n",
    "        # update running training loss\n",
    "        train_loss += loss.item()*data.size(0)\n",
    "        \n",
    "    # print training statistics \n",
    "    # calculate average loss over an epoch\n",
    "    train_loss = train_loss/len(train_loader.dataset)\n",
    "\n",
    "    print('Epoch: {} \\tTraining Loss: {:.6f}'.format(\n",
    "        epoch+1, \n",
    "        train_loss\n",
    "        ))"
   ]
  },
  {
   "cell_type": "markdown",
   "id": "1ce4e5ca",
   "metadata": {
    "id": "1ce4e5ca"
   },
   "source": [
    "三層 MLP"
   ]
  },
  {
   "cell_type": "code",
   "execution_count": 15,
   "id": "ede9d518",
   "metadata": {
    "colab": {
     "base_uri": "https://localhost:8080/"
    },
    "id": "ede9d518",
    "outputId": "4da7cfaf-25e4-4b13-d059-7c713a5da7cc"
   },
   "outputs": [
    {
     "name": "stdout",
     "output_type": "stream",
     "text": [
      "Epoch: 1 \tTraining Loss: 0.696493\n",
      "Epoch: 2 \tTraining Loss: 0.689045\n",
      "Epoch: 3 \tTraining Loss: 0.682583\n",
      "Epoch: 4 \tTraining Loss: 0.676916\n",
      "Epoch: 5 \tTraining Loss: 0.671888\n",
      "Epoch: 6 \tTraining Loss: 0.667458\n",
      "Epoch: 7 \tTraining Loss: 0.663457\n",
      "Epoch: 8 \tTraining Loss: 0.659848\n",
      "Epoch: 9 \tTraining Loss: 0.656585\n",
      "Epoch: 10 \tTraining Loss: 0.653603\n"
     ]
    }
   ],
   "source": [
    "# number of epochs to train the model\n",
    "n_epochs = 10  # suggest training between 20-50 epochs\n",
    "\n",
    "model_3layers.train() # prep model for training\n",
    "\n",
    "\n",
    "\n",
    "for epoch in range(n_epochs):\n",
    "    # monitor training loss\n",
    "    train_loss = 0.0\n",
    "    \n",
    "    ###################\n",
    "    # train the model #\n",
    "    ###################\n",
    "    for data, target in train_loader:\n",
    "        # clear the gradients of all optimized variables\n",
    "        optimizer_3layers.zero_grad()\n",
    "        # forward pass: compute predicted outputs by passing inputs to the model\n",
    "        output = model_3layers(data)\n",
    "        # calculate the loss\n",
    "        loss = criterion(output, target)\n",
    "        # backward pass: compute gradient of the loss with respect to model parameters\n",
    "        loss.backward()\n",
    "        # perform a single optimization step (parameter update)\n",
    "        optimizer_3layers.step()\n",
    "        # update running training loss\n",
    "        train_loss += loss.item()*data.size(0)\n",
    "        \n",
    "    # print training statistics \n",
    "    # calculate average loss over an epoch\n",
    "    train_loss = train_loss/len(train_loader.dataset)\n",
    "\n",
    "    print('Epoch: {} \\tTraining Loss: {:.6f}'.format(\n",
    "        epoch+1, \n",
    "        train_loss\n",
    "        ))"
   ]
  },
  {
   "cell_type": "markdown",
   "id": "bd2d8c8c",
   "metadata": {
    "id": "bd2d8c8c"
   },
   "source": [
    "## Testing Model"
   ]
  },
  {
   "cell_type": "code",
   "execution_count": 16,
   "id": "7bcb7c9a",
   "metadata": {
    "colab": {
     "base_uri": "https://localhost:8080/"
    },
    "id": "7bcb7c9a",
    "outputId": "db44b252-c47c-4901-cc71-f97d76684030"
   },
   "outputs": [
    {
     "name": "stdout",
     "output_type": "stream",
     "text": [
      "Test Loss: 0.292885\n",
      "\n",
      "Test Accuracy of 一層     0: 98% (962/980)\n",
      "Test Accuracy of 一層     1: 97% (1105/1135)\n",
      "Test Accuracy of 一層     2: 87% (903/1032)\n",
      "Test Accuracy of 一層     3: 90% (911/1010)\n",
      "Test Accuracy of 一層     4: 92% (909/982)\n",
      "Test Accuracy of 一層     5: 87% (779/892)\n",
      "Test Accuracy of 一層     6: 94% (906/958)\n",
      "Test Accuracy of 一層     7: 91% (937/1028)\n",
      "Test Accuracy of 一層     8: 88% (860/974)\n",
      "Test Accuracy of 一層     9: 89% (908/1009)\n",
      "\n",
      "Test Accuracy (Overall): 91% (9180/10000)\n"
     ]
    }
   ],
   "source": [
    "# initialize lists to monitor test loss and accuracy\n",
    "test_loss = 0.0\n",
    "class_correct = list(0. for i in range(10))\n",
    "class_total = list(0. for i in range(10))\n",
    "\n",
    "model.eval() # prep model for *evaluation*\n",
    "\n",
    "for data, target in test_loader:\n",
    "    # forward pass: compute predicted outputs by passing inputs to the model\n",
    "    output = model(data)\n",
    "    # calculate the loss\n",
    "    loss = criterion(output, target)\n",
    "    # update test loss \n",
    "    test_loss += loss.item()*data.size(0)\n",
    "    # convert output probabilities to predicted class\n",
    "    _, pred = torch.max(output, 1)\n",
    "    # compare predictions to true label\n",
    "    correct = np.squeeze(pred.eq(target.data.view_as(pred)))\n",
    "    # calculate test accuracy for each object class\n",
    "    for i in range(batch_size):\n",
    "        label = target.data[i]\n",
    "        class_correct[label] += correct[i].item()\n",
    "        class_total[label] += 1\n",
    "\n",
    "# calculate and print avg test loss\n",
    "test_loss = test_loss/len(test_loader.dataset)\n",
    "print('Test Loss: {:.6f}\\n'.format(test_loss))\n",
    "\n",
    "for i in range(10):\n",
    "    if class_total[i] > 0:\n",
    "        print('Test Accuracy of 一層 %5s: %2d%% (%2d/%2d)' % (\n",
    "            str(i), 100 * class_correct[i] / class_total[i],\n",
    "            np.sum(class_correct[i]), np.sum(class_total[i])))\n",
    "    else:\n",
    "        print('Test Accuracy of %5s: N/A (no training examples)' % (classes[i]))\n",
    "\n",
    "print('\\nTest Accuracy (Overall): %2d%% (%2d/%2d)' % (\n",
    "    100. * np.sum(class_correct) / np.sum(class_total),\n",
    "    np.sum(class_correct), np.sum(class_total)))"
   ]
  },
  {
   "cell_type": "code",
   "execution_count": 17,
   "id": "d839b35c",
   "metadata": {
    "colab": {
     "base_uri": "https://localhost:8080/"
    },
    "id": "d839b35c",
    "outputId": "26093360-ded1-4f1c-a468-cb0d549ea717"
   },
   "outputs": [
    {
     "name": "stdout",
     "output_type": "stream",
     "text": [
      "Test Loss: 0.093750\n",
      "\n",
      "Test Accuracy of 二層     0: 98% (970/980)\n",
      "Test Accuracy of 二層     1: 98% (1121/1135)\n",
      "Test Accuracy of 二層     2: 97% (1006/1032)\n",
      "Test Accuracy of 二層     3: 97% (983/1010)\n",
      "Test Accuracy of 二層     4: 97% (954/982)\n",
      "Test Accuracy of 二層     5: 97% (870/892)\n",
      "Test Accuracy of 二層     6: 96% (925/958)\n",
      "Test Accuracy of 二層     7: 96% (991/1028)\n",
      "Test Accuracy of 二層     8: 96% (937/974)\n",
      "Test Accuracy of 二層     9: 95% (968/1009)\n",
      "\n",
      "Test Accuracy (Overall): 97% (9725/10000)\n"
     ]
    }
   ],
   "source": [
    "# initialize lists to monitor test loss and accuracy\n",
    "test_loss = 0.0\n",
    "class_correct = list(0. for i in range(10))\n",
    "class_total = list(0. for i in range(10))\n",
    "\n",
    "model_2layers.eval() # prep model for *evaluation*\n",
    "\n",
    "for data, target in test_loader:\n",
    "    # forward pass: compute predicted outputs by passing inputs to the model\n",
    "    output = model_2layers(data)\n",
    "    # calculate the loss\n",
    "    loss = criterion(output, target)\n",
    "    # update test loss \n",
    "    test_loss += loss.item()*data.size(0)\n",
    "    # convert output probabilities to predicted class\n",
    "    _, pred = torch.max(output, 1)\n",
    "    # compare predictions to true label\n",
    "    correct = np.squeeze(pred.eq(target.data.view_as(pred)))\n",
    "    # calculate test accuracy for each object class\n",
    "    for i in range(batch_size):\n",
    "        label = target.data[i]\n",
    "        class_correct[label] += correct[i].item()\n",
    "        class_total[label] += 1\n",
    "\n",
    "# calculate and print avg test loss\n",
    "test_loss = test_loss/len(test_loader.dataset)\n",
    "print('Test Loss: {:.6f}\\n'.format(test_loss))\n",
    "\n",
    "for i in range(10):\n",
    "    if class_total[i] > 0:\n",
    "        print('Test Accuracy of 二層 %5s: %2d%% (%2d/%2d)' % (\n",
    "            str(i), 100 * class_correct[i] / class_total[i],\n",
    "            np.sum(class_correct[i]), np.sum(class_total[i])))\n",
    "    else:\n",
    "        print('Test Accuracy of %5s: N/A (no training examples)' % (classes[i]))\n",
    "\n",
    "print('\\nTest Accuracy (Overall): %2d%% (%2d/%2d)' % (\n",
    "    100. * np.sum(class_correct) / np.sum(class_total),\n",
    "    np.sum(class_correct), np.sum(class_total)))"
   ]
  },
  {
   "cell_type": "code",
   "execution_count": 19,
   "id": "sITTLWJtelkK",
   "metadata": {
    "colab": {
     "base_uri": "https://localhost:8080/"
    },
    "id": "sITTLWJtelkK",
    "outputId": "d1f2be98-67fc-40e7-9095-2148a5f5bf31"
   },
   "outputs": [
    {
     "name": "stdout",
     "output_type": "stream",
     "text": [
      "Test Loss: 0.701614\n",
      "\n",
      "Test Accuracy of 三層     0: 99% (971/980)\n",
      "Test Accuracy of 三層     1: 99% (1127/1135)\n",
      "Test Accuracy of 三層     2: 97% (1011/1032)\n",
      "Test Accuracy of 三層     3: 98% (991/1010)\n",
      "Test Accuracy of 三層     4: 99% (973/982)\n",
      "Test Accuracy of 三層     5: 97% (873/892)\n",
      "Test Accuracy of 三層     6: 96% (929/958)\n",
      "Test Accuracy of 三層     7: 97% (1003/1028)\n",
      "Test Accuracy of 三層     8: 97% (947/974)\n",
      "Test Accuracy of 三層     9:  0% ( 0/1009)\n",
      "\n",
      "Test Accuracy (Overall): 88% (8825/10000)\n"
     ]
    }
   ],
   "source": [
    "# initialize lists to monitor test loss and accuracy\n",
    "test_loss = 0.0\n",
    "class_correct = list(0. for i in range(10))\n",
    "class_total = list(0. for i in range(10))\n",
    "\n",
    "model_3layers.eval() # prep model for *evaluation*\n",
    "\n",
    "for data, target in test_loader:\n",
    "    # forward pass: compute predicted outputs by passing inputs to the model\n",
    "    output = model_3layers(data)\n",
    "    # calculate the loss\n",
    "    loss = criterion(output, target)\n",
    "    # update test loss \n",
    "    test_loss += loss.item()*data.size(0)\n",
    "    # convert output probabilities to predicted class\n",
    "    _, pred = torch.max(output, 1)\n",
    "    # compare predictions to true label\n",
    "    correct = np.squeeze(pred.eq(target.data.view_as(pred)))\n",
    "    # calculate test accuracy for each object class\n",
    "    for i in range(batch_size):\n",
    "        label = target.data[i]\n",
    "        class_correct[label] += correct[i].item()\n",
    "        class_total[label] += 1\n",
    "\n",
    "# calculate and print avg test loss\n",
    "test_loss = test_loss/len(test_loader.dataset)\n",
    "print('Test Loss: {:.6f}\\n'.format(test_loss))\n",
    "\n",
    "for i in range(10):\n",
    "    if class_total[i] > 0:\n",
    "        print('Test Accuracy of 三層 %5s: %2d%% (%2d/%2d)' % (\n",
    "            str(i), 100 * class_correct[i] / class_total[i],\n",
    "            np.sum(class_correct[i]), np.sum(class_total[i])))\n",
    "    else:\n",
    "        print('Test Accuracy of %5s: N/A (no training examples)' % (classes[i]))\n",
    "\n",
    "print('\\nTest Accuracy (Overall): %2d%% (%2d/%2d)' % (\n",
    "    100. * np.sum(class_correct) / np.sum(class_total),\n",
    "    np.sum(class_correct), np.sum(class_total)))"
   ]
  },
  {
   "cell_type": "markdown",
   "id": "OKZgL1Hzjiml",
   "metadata": {
    "id": "OKZgL1Hzjiml"
   },
   "source": [
    "## **分析比較二層三層MLP的差異**\n"
   ]
  },
  {
   "cell_type": "markdown",
   "id": "L8dUDs0AiXUk",
   "metadata": {
    "id": "L8dUDs0AiXUk"
   },
   "source": [
    "## **損失函數（Loss Function）結果**\n",
    "### **一層 MLP**\n",
    "\n",
    "Epoch: 1 \tTraining Loss: 0.793856\n",
    "\n",
    "Epoch: 2 \tTraining Loss: 0.411733\n",
    "\n",
    "Epoch: 3 \tTraining Loss: 0.370092\n",
    "\n",
    "Epoch: 4 \tTraining Loss: 0.349000\n",
    "\n",
    "Epoch: 5 \tTraining Loss: 0.335553\n",
    "\n",
    "Epoch: 6 \tTraining Loss: 0.325974\n",
    "\n",
    "Epoch: 7 \tTraining Loss: 0.318684\n",
    "\n",
    "Epoch: 8 \tTraining Loss: 0.312884\n",
    "\n",
    "Epoch: 9 \tTraining Loss: 0.308120\n",
    "\n",
    "Epoch: 10 \tTraining Loss: 0.304112\n",
    "\n",
    "###  **二層 MLP**\n",
    "Epoch: 1 \tTraining Loss: 0.133855\n",
    "\n",
    "\n",
    "Epoch: 2 \tTraining Loss: 0.124534\n",
    "\n",
    "Epoch: 3 \tTraining Loss: 0.116290\n",
    "\n",
    "Epoch: 4 \tTraining Loss: 0.108952\n",
    "\n",
    "Epoch: 5 \tTraining Loss: 0.102383\n",
    "\n",
    "Epoch: 6 \tTraining Loss: 0.096483\n",
    "\n",
    "Epoch: 7 \tTraining Loss: 0.091151\n",
    "\n",
    "Epoch: 8 \tTraining Loss: 0.086316\n",
    "\n",
    "Epoch: 9 \tTraining Loss: 0.081898\n",
    "\n",
    "Epoch: 10 \tTraining Loss: 0.077854\n",
    "\n",
    "### **三層 MLP**\n",
    "\n",
    "Epoch: 1 \tTraining Loss: 0.696493\n",
    "\n",
    "Epoch: 2 \tTraining Loss: 0.689045\n",
    "\n",
    "Epoch: 3 \tTraining Loss: 0.682583\n",
    "\n",
    "Epoch: 4 \tTraining Loss: 0.676916\n",
    "\n",
    "Epoch: 5 \tTraining Loss: 0.671888\n",
    "\n",
    "Epoch: 6 \tTraining Loss: 0.667458\n",
    "\n",
    "Epoch: 7 \tTraining Loss: 0.663457\n",
    "\n",
    "Epoch: 8 \tTraining Loss: 0.659848\n",
    "\n",
    "Epoch: 9 \tTraining Loss: 0.656585\n",
    "\n",
    "Epoch: 10 \tTraining Loss: 0.653603\n"
   ]
  },
  {
   "cell_type": "markdown",
   "id": "ZZwkBdtUkYrb",
   "metadata": {
    "id": "ZZwkBdtUkYrb"
   },
   "source": [
    "分析不同層的MLP模型的損失函數（Loss Function）結果：\n",
    "\n",
    "*   一層MLP的訓練損失從初始值0.793856下降到最後一輪的0.304112，這表示模型在訓練過程中逐漸學習到更好的參數，對訓練數據的擬合效果不斷改善。\n",
    "\n",
    "*   二層MLP的訓練損失相對較小，從初始值0.133855下降到最後一輪的0.077854。相較於一層MLP，二層MLP在相同的訓練週期內有更低的損失，表示它更有效地學習了訓練數據的特徵。\n",
    "\n",
    "*   三層MLP的訓練損失相對較高，從初始值0.696493下降到最後一輪的0.653603，相較於一層和二層MLP，三層MLP的訓練損失較高，說明在當前的架構和參數設置下，它沒有很好地擬合訓練數據。\n",
    "\n",
    "總結來說，**二層MLP在訓練過程中表現最好**，其訓練損失最小，代表它能更好地擬合訓練數據。一層MLP次之，訓練損失略高於二層MLP，但仍然具有較好的擬合能力，但三層MLP在訓練數據上表現很差，訓練損失較高，可能需要進一步調整架構或超參數來改善其性能。\n",
    "\n",
    "\n",
    "\n"
   ]
  },
  {
   "cell_type": "markdown",
   "id": "vOYe6ro3kikl",
   "metadata": {
    "id": "vOYe6ro3kikl"
   },
   "source": [
    "### **一層MLP**\n",
    "Test Loss: 0.292885\n",
    "\n",
    "Test Accuracy of 一層     0: 98% (962/980)\n",
    "\n",
    "Test Accuracy of 一層     1: 97% (1105/1135)\n",
    "\n",
    "Test Accuracy of 一層     2: 87% (903/1032)\n",
    "\n",
    "Test Accuracy of 一層     3: 90% (911/1010)\n",
    "\n",
    "Test Accuracy of 一層     4: 92% (909/982)\n",
    "\n",
    "Test Accuracy of 一層     5: 87% (779/892)\n",
    "\n",
    "Test Accuracy of 一層     6: 94% (906/958)\n",
    "\n",
    "Test Accuracy of 一層     7: 91% (937/1028)\n",
    "\n",
    "Test Accuracy of 一層     8: 88% (860/974)\n",
    "\n",
    "Test Accuracy of 一層     9: 89% (908/1009)\n",
    "\n",
    "Test Accuracy (Overall): **91%** (9180/10000)\n",
    "\n",
    "### **二層MLP**\n",
    "Test Loss: 0.093750\n",
    "\n",
    "Test Accuracy of 二層     0: 98% (970/980)\n",
    "\n",
    "Test Accuracy of 二層     1: 98% (1121/1135)\n",
    "\n",
    "Test Accuracy of 二層     2: 97% (1006/1032)\n",
    "\n",
    "Test Accuracy of 二層     3: 97% (983/1010)\n",
    "\n",
    "Test Accuracy of 二層     4: 97% (954/982)\n",
    "\n",
    "Test Accuracy of 二層     5: 97% (870/892)\n",
    "\n",
    "Test Accuracy of 二層     6: 96% (925/958)\n",
    "\n",
    "Test Accuracy of 二層     7: 96% (991/1028)\n",
    "\n",
    "Test Accuracy of 二層     8: 96% (937/974)\n",
    "\n",
    "Test Accuracy of 二層     9: 95% (968/1009)\n",
    "\n",
    "Test Accuracy (Overall): **97%** (9725/10000)\n",
    "### **三層MLP**\n",
    "Test Loss: 0.701614\n",
    "\n",
    "Test Accuracy of 三層     0: 99% (971/980)\n",
    "\n",
    "Test Accuracy of 三層     1: 99% (1127/1135)\n",
    "\n",
    "Test Accuracy of 三層     2: 97% (1011/1032)\n",
    "\n",
    "Test Accuracy of 三層     3: 98% (991/1010)\n",
    "\n",
    "Test Accuracy of 三層     4: 99% (973/982)\n",
    "\n",
    "Test Accuracy of 三層     5: 97% (873/892)\n",
    "\n",
    "Test Accuracy of 三層     6: 96% (929/958)\n",
    "\n",
    "Test Accuracy of 三層     7: 97% (1003/1028)\n",
    "\n",
    "Test Accuracy of 三層     8: 97% (947/974)\n",
    "\n",
    "Test Accuracy of 三層     9:  0% ( 0/1009)\n",
    "\n",
    "Test Accuracy (Overall): **88%** (8825/10000)"
   ]
  },
  {
   "cell_type": "markdown",
   "id": "QcaqooDRdfCX",
   "metadata": {
    "id": "QcaqooDRdfCX"
   },
   "source": [
    "根據測試模型的結果，我們可以得出以下分析：\n",
    "\n",
    "* **一層 MLP：**\n",
    "在測試集上的平均準確度為 91%。\n",
    "\n",
    "  除了數字 9 的準確度稍低（89%），其他數字的準確度都相對較高，介於 87% 到 98% 之間。\n",
    "整體而言，一層 MLP 在測試集上表現良好，但對於數字 9 的辨識能力較弱。\n",
    "* **二層 MLP：**\n",
    "在測試集上的平均準確度為 97%。\n",
    "\n",
    "  所有數字的準確度都相對較高，介於 95% 到 99% 之間。\n",
    "二層 MLP 在測試集上表現優秀，各數字的辨識能力都相對較強。\n",
    "* **三層 MLP：**\n",
    "在測試集上的平均準確度為 88%。\n",
    "\n",
    "  大多數數字的準確度都相對較高，介於 96% 到 99% 之間，除了數字 9 的準確度為 0%。\n",
    "    三層 MLP 在測試集上的整體表現較差，尤其是對於數字 9 的辨識能力幾乎為零。\n",
    "\n",
    "總結來說，，二層 MLP 在測試集上取得了最高的準確度，顯示其較好的模型性能。一層 MLP 也有相對不錯的準確度，但對於數字 9 的辨識能力稍差。三層 MLP 在除了數字 9 外的大多數情況下表現良好，但對於**數字 9 的辨識能力非常差為0%**。因此，從 **準確度** 和 **模型性能** 的角度來看，**採用二層 MLP 是最佳的選擇**。"
   ]
  }
 ],
 "metadata": {
  "accelerator": "GPU",
  "colab": {
   "gpuType": "T4",
   "provenance": []
  },
  "gpuClass": "standard",
  "kernelspec": {
   "display_name": "Python 3 (ipykernel)",
   "language": "python",
   "name": "python3"
  },
  "language_info": {
   "codemirror_mode": {
    "name": "ipython",
    "version": 3
   },
   "file_extension": ".py",
   "mimetype": "text/x-python",
   "name": "python",
   "nbconvert_exporter": "python",
   "pygments_lexer": "ipython3",
   "version": "3.9.16"
  }
 },
 "nbformat": 4,
 "nbformat_minor": 5
}
